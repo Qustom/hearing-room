{
 "cells": [
  {
   "cell_type": "markdown",
   "metadata": {},
   "source": [
    "# Analysis on the Transcripts from C-Span"
   ]
  },
  {
   "cell_type": "markdown",
   "metadata": {},
   "source": [
    "This is some analysis on the initial transcripts we got from c-span.\n",
    "\n",
    "To start with, import the modules used in this notebook. Note if this part fails for you, you may need to do a conda install \"module\"\n",
    "\n",
    "Also, for spacy, you may need to run \"spacy download en_core_web_sm\", after installing the spacy module with \"conda install spacy\". This downloads the english language module for spacy"
   ]
  },
  {
   "cell_type": "code",
   "execution_count": 91,
   "metadata": {},
   "outputs": [],
   "source": [
    "# Imports\n",
    "import plotly as py\n",
    "import plotly.graph_objects as go\n",
    "import pandas as pd\n",
    "import json\n",
    "import spacy"
   ]
  },
  {
   "cell_type": "code",
   "execution_count": 92,
   "metadata": {},
   "outputs": [],
   "source": [
    "# Get data\n",
    "\n",
    "with open(\"../data/Transcripts/c-spanTranscript1.json\", \"r\") as f:\n",
    "    transcript_df = pd.json_normalize(json.loads(f.read()), \"messages\")\n",
    "\n",
    "with open(\"../data/Transcripts/c-spanTranscript-ActionItems.json\", \"r\") as f:\n",
    "    action_items_df = pd.json_normalize(json.loads(f.read()), \"actionItems\")\n",
    "\n",
    "with open(\"../data/Transcripts/c-spanTranscript-Analytics.json\", \"r\") as f:\n",
    "    json_data = json.loads(f.read())\n",
    "    analytics_metrics_df = pd.json_normalize(json_data, \"metrics\")\n",
    "    analytics_members_df = pd.json_normalize(json_data, \"members\")\n",
    "\n",
    "with open(\"../data/Transcripts/c-spanTranscript-Questions.json\", \"r\") as f:\n",
    "    questions_df = pd.json_normalize(json.loads(f.read()), \"questions\")\n",
    "\n",
    "with open(\"../data/Transcripts/c-spanTranscript-Topics.json\", \"r\") as f:\n",
    "    topics_df = pd.json_normalize(json.loads(f.read()), \"topics\")\n",
    "\n",
    "with open(\"../data/Transcripts/c-spanTranscript1Speaker.json\", \"r\") as f:\n",
    "    speaker_transcript_df = pd.json_normalize(json.loads(f.read()), \"messages\")\n",
    "\n"
   ]
  },
  {
   "cell_type": "markdown",
   "metadata": {},
   "source": [
    "# Topics Analysis"
   ]
  },
  {
   "cell_type": "markdown",
   "metadata": {},
   "source": [
    "First, a quick overview with the .head() function, which shows the first part of a table (called a DataFrame by pandas)"
   ]
  },
  {
   "cell_type": "code",
   "execution_count": 93,
   "metadata": {},
   "outputs": [
    {
     "data": {
      "text/html": [
       "<div>\n",
       "<style scoped>\n",
       "    .dataframe tbody tr th:only-of-type {\n",
       "        vertical-align: middle;\n",
       "    }\n",
       "\n",
       "    .dataframe tbody tr th {\n",
       "        vertical-align: top;\n",
       "    }\n",
       "\n",
       "    .dataframe thead th {\n",
       "        text-align: right;\n",
       "    }\n",
       "</style>\n",
       "<table border=\"1\" class=\"dataframe\">\n",
       "  <thead>\n",
       "    <tr style=\"text-align: right;\">\n",
       "      <th></th>\n",
       "      <th>id</th>\n",
       "      <th>text</th>\n",
       "      <th>type</th>\n",
       "      <th>score</th>\n",
       "      <th>messageIds</th>\n",
       "      <th>parentRefs</th>\n",
       "    </tr>\n",
       "  </thead>\n",
       "  <tbody>\n",
       "    <tr>\n",
       "      <th>0</th>\n",
       "      <td>6429454378205184</td>\n",
       "      <td>measure</td>\n",
       "      <td>topic</td>\n",
       "      <td>0.350</td>\n",
       "      <td>[4953935262515200, 5538147195682816, 512398529...</td>\n",
       "      <td>[]</td>\n",
       "    </tr>\n",
       "    <tr>\n",
       "      <th>1</th>\n",
       "      <td>5923067520876544</td>\n",
       "      <td>debt limit</td>\n",
       "      <td>topic</td>\n",
       "      <td>0.717</td>\n",
       "      <td>[5550821375737856, 6309678263828480, 541620111...</td>\n",
       "      <td>[]</td>\n",
       "    </tr>\n",
       "    <tr>\n",
       "      <th>2</th>\n",
       "      <td>5882140924313600</td>\n",
       "      <td>debt ceiling</td>\n",
       "      <td>topic</td>\n",
       "      <td>0.853</td>\n",
       "      <td>[4610345260810240, 6561363561283584, 483419694...</td>\n",
       "      <td>[]</td>\n",
       "    </tr>\n",
       "    <tr>\n",
       "      <th>3</th>\n",
       "      <td>4856520035532800</td>\n",
       "      <td>senate amendment</td>\n",
       "      <td>topic</td>\n",
       "      <td>0.847</td>\n",
       "      <td>[5765923391668224, 6363913177268224, 600527473...</td>\n",
       "      <td>[]</td>\n",
       "    </tr>\n",
       "    <tr>\n",
       "      <th>4</th>\n",
       "      <td>5726876636020736</td>\n",
       "      <td>minority member</td>\n",
       "      <td>topic</td>\n",
       "      <td>0.905</td>\n",
       "      <td>[5654814449991680, 5744991130353664, 462335352...</td>\n",
       "      <td>[]</td>\n",
       "    </tr>\n",
       "  </tbody>\n",
       "</table>\n",
       "</div>"
      ],
      "text/plain": [
       "                 id              text   type  score  \\\n",
       "0  6429454378205184           measure  topic  0.350   \n",
       "1  5923067520876544        debt limit  topic  0.717   \n",
       "2  5882140924313600      debt ceiling  topic  0.853   \n",
       "3  4856520035532800  senate amendment  topic  0.847   \n",
       "4  5726876636020736   minority member  topic  0.905   \n",
       "\n",
       "                                          messageIds parentRefs  \n",
       "0  [4953935262515200, 5538147195682816, 512398529...         []  \n",
       "1  [5550821375737856, 6309678263828480, 541620111...         []  \n",
       "2  [4610345260810240, 6561363561283584, 483419694...         []  \n",
       "3  [5765923391668224, 6363913177268224, 600527473...         []  \n",
       "4  [5654814449991680, 5744991130353664, 462335352...         []  "
      ]
     },
     "execution_count": 93,
     "metadata": {},
     "output_type": "execute_result"
    }
   ],
   "source": [
    "topics_df.head()"
   ]
  },
  {
   "cell_type": "markdown",
   "metadata": {},
   "source": [
    "Seeing this data, a few things come to mind as ways of investigating this.\n",
    "1. How useful is the score? Can we check the quality of this by checking the messages?\n",
    "2. Is the number of times referenced by messages useful?\n",
    "3. Is the text itself useful? Can an aggregate of a lot of different video results provide a way to find reoccuring topics? Are topics that are more general / specific useful?\n",
    "\n",
    "We can do a quick visualization for questions one and two."
   ]
  },
  {
   "cell_type": "code",
   "execution_count": 94,
   "metadata": {},
   "outputs": [
    {
     "data": {
      "application/vnd.plotly.v1+json": {
       "config": {
        "plotlyServerURL": "https://plot.ly"
       },
       "data": [
        {
         "type": "bar",
         "x": [
          "measure",
          "debt limit",
          "debt ceiling",
          "senate amendment",
          "minority member",
          "rule waves",
          "rules committee report",
          "majority leader",
          "proceedings postpone",
          "coal amendment",
          "crisis",
          "multiple problems",
          "traffic hair travel",
          "substitute amendment"
         ],
         "y": [
          0.35,
          0.717,
          0.853,
          0.847,
          0.905,
          0.681,
          0.791,
          0.555,
          0.648,
          0.592,
          0.35,
          0.5,
          0.626,
          0.569
         ]
        }
       ],
       "layout": {
        "template": {
         "data": {
          "bar": [
           {
            "error_x": {
             "color": "#2a3f5f"
            },
            "error_y": {
             "color": "#2a3f5f"
            },
            "marker": {
             "line": {
              "color": "#E5ECF6",
              "width": 0.5
             },
             "pattern": {
              "fillmode": "overlay",
              "size": 10,
              "solidity": 0.2
             }
            },
            "type": "bar"
           }
          ],
          "barpolar": [
           {
            "marker": {
             "line": {
              "color": "#E5ECF6",
              "width": 0.5
             },
             "pattern": {
              "fillmode": "overlay",
              "size": 10,
              "solidity": 0.2
             }
            },
            "type": "barpolar"
           }
          ],
          "carpet": [
           {
            "aaxis": {
             "endlinecolor": "#2a3f5f",
             "gridcolor": "white",
             "linecolor": "white",
             "minorgridcolor": "white",
             "startlinecolor": "#2a3f5f"
            },
            "baxis": {
             "endlinecolor": "#2a3f5f",
             "gridcolor": "white",
             "linecolor": "white",
             "minorgridcolor": "white",
             "startlinecolor": "#2a3f5f"
            },
            "type": "carpet"
           }
          ],
          "choropleth": [
           {
            "colorbar": {
             "outlinewidth": 0,
             "ticks": ""
            },
            "type": "choropleth"
           }
          ],
          "contour": [
           {
            "colorbar": {
             "outlinewidth": 0,
             "ticks": ""
            },
            "colorscale": [
             [
              0,
              "#0d0887"
             ],
             [
              0.1111111111111111,
              "#46039f"
             ],
             [
              0.2222222222222222,
              "#7201a8"
             ],
             [
              0.3333333333333333,
              "#9c179e"
             ],
             [
              0.4444444444444444,
              "#bd3786"
             ],
             [
              0.5555555555555556,
              "#d8576b"
             ],
             [
              0.6666666666666666,
              "#ed7953"
             ],
             [
              0.7777777777777778,
              "#fb9f3a"
             ],
             [
              0.8888888888888888,
              "#fdca26"
             ],
             [
              1,
              "#f0f921"
             ]
            ],
            "type": "contour"
           }
          ],
          "contourcarpet": [
           {
            "colorbar": {
             "outlinewidth": 0,
             "ticks": ""
            },
            "type": "contourcarpet"
           }
          ],
          "heatmap": [
           {
            "colorbar": {
             "outlinewidth": 0,
             "ticks": ""
            },
            "colorscale": [
             [
              0,
              "#0d0887"
             ],
             [
              0.1111111111111111,
              "#46039f"
             ],
             [
              0.2222222222222222,
              "#7201a8"
             ],
             [
              0.3333333333333333,
              "#9c179e"
             ],
             [
              0.4444444444444444,
              "#bd3786"
             ],
             [
              0.5555555555555556,
              "#d8576b"
             ],
             [
              0.6666666666666666,
              "#ed7953"
             ],
             [
              0.7777777777777778,
              "#fb9f3a"
             ],
             [
              0.8888888888888888,
              "#fdca26"
             ],
             [
              1,
              "#f0f921"
             ]
            ],
            "type": "heatmap"
           }
          ],
          "heatmapgl": [
           {
            "colorbar": {
             "outlinewidth": 0,
             "ticks": ""
            },
            "colorscale": [
             [
              0,
              "#0d0887"
             ],
             [
              0.1111111111111111,
              "#46039f"
             ],
             [
              0.2222222222222222,
              "#7201a8"
             ],
             [
              0.3333333333333333,
              "#9c179e"
             ],
             [
              0.4444444444444444,
              "#bd3786"
             ],
             [
              0.5555555555555556,
              "#d8576b"
             ],
             [
              0.6666666666666666,
              "#ed7953"
             ],
             [
              0.7777777777777778,
              "#fb9f3a"
             ],
             [
              0.8888888888888888,
              "#fdca26"
             ],
             [
              1,
              "#f0f921"
             ]
            ],
            "type": "heatmapgl"
           }
          ],
          "histogram": [
           {
            "marker": {
             "pattern": {
              "fillmode": "overlay",
              "size": 10,
              "solidity": 0.2
             }
            },
            "type": "histogram"
           }
          ],
          "histogram2d": [
           {
            "colorbar": {
             "outlinewidth": 0,
             "ticks": ""
            },
            "colorscale": [
             [
              0,
              "#0d0887"
             ],
             [
              0.1111111111111111,
              "#46039f"
             ],
             [
              0.2222222222222222,
              "#7201a8"
             ],
             [
              0.3333333333333333,
              "#9c179e"
             ],
             [
              0.4444444444444444,
              "#bd3786"
             ],
             [
              0.5555555555555556,
              "#d8576b"
             ],
             [
              0.6666666666666666,
              "#ed7953"
             ],
             [
              0.7777777777777778,
              "#fb9f3a"
             ],
             [
              0.8888888888888888,
              "#fdca26"
             ],
             [
              1,
              "#f0f921"
             ]
            ],
            "type": "histogram2d"
           }
          ],
          "histogram2dcontour": [
           {
            "colorbar": {
             "outlinewidth": 0,
             "ticks": ""
            },
            "colorscale": [
             [
              0,
              "#0d0887"
             ],
             [
              0.1111111111111111,
              "#46039f"
             ],
             [
              0.2222222222222222,
              "#7201a8"
             ],
             [
              0.3333333333333333,
              "#9c179e"
             ],
             [
              0.4444444444444444,
              "#bd3786"
             ],
             [
              0.5555555555555556,
              "#d8576b"
             ],
             [
              0.6666666666666666,
              "#ed7953"
             ],
             [
              0.7777777777777778,
              "#fb9f3a"
             ],
             [
              0.8888888888888888,
              "#fdca26"
             ],
             [
              1,
              "#f0f921"
             ]
            ],
            "type": "histogram2dcontour"
           }
          ],
          "mesh3d": [
           {
            "colorbar": {
             "outlinewidth": 0,
             "ticks": ""
            },
            "type": "mesh3d"
           }
          ],
          "parcoords": [
           {
            "line": {
             "colorbar": {
              "outlinewidth": 0,
              "ticks": ""
             }
            },
            "type": "parcoords"
           }
          ],
          "pie": [
           {
            "automargin": true,
            "type": "pie"
           }
          ],
          "scatter": [
           {
            "marker": {
             "colorbar": {
              "outlinewidth": 0,
              "ticks": ""
             }
            },
            "type": "scatter"
           }
          ],
          "scatter3d": [
           {
            "line": {
             "colorbar": {
              "outlinewidth": 0,
              "ticks": ""
             }
            },
            "marker": {
             "colorbar": {
              "outlinewidth": 0,
              "ticks": ""
             }
            },
            "type": "scatter3d"
           }
          ],
          "scattercarpet": [
           {
            "marker": {
             "colorbar": {
              "outlinewidth": 0,
              "ticks": ""
             }
            },
            "type": "scattercarpet"
           }
          ],
          "scattergeo": [
           {
            "marker": {
             "colorbar": {
              "outlinewidth": 0,
              "ticks": ""
             }
            },
            "type": "scattergeo"
           }
          ],
          "scattergl": [
           {
            "marker": {
             "colorbar": {
              "outlinewidth": 0,
              "ticks": ""
             }
            },
            "type": "scattergl"
           }
          ],
          "scattermapbox": [
           {
            "marker": {
             "colorbar": {
              "outlinewidth": 0,
              "ticks": ""
             }
            },
            "type": "scattermapbox"
           }
          ],
          "scatterpolar": [
           {
            "marker": {
             "colorbar": {
              "outlinewidth": 0,
              "ticks": ""
             }
            },
            "type": "scatterpolar"
           }
          ],
          "scatterpolargl": [
           {
            "marker": {
             "colorbar": {
              "outlinewidth": 0,
              "ticks": ""
             }
            },
            "type": "scatterpolargl"
           }
          ],
          "scatterternary": [
           {
            "marker": {
             "colorbar": {
              "outlinewidth": 0,
              "ticks": ""
             }
            },
            "type": "scatterternary"
           }
          ],
          "surface": [
           {
            "colorbar": {
             "outlinewidth": 0,
             "ticks": ""
            },
            "colorscale": [
             [
              0,
              "#0d0887"
             ],
             [
              0.1111111111111111,
              "#46039f"
             ],
             [
              0.2222222222222222,
              "#7201a8"
             ],
             [
              0.3333333333333333,
              "#9c179e"
             ],
             [
              0.4444444444444444,
              "#bd3786"
             ],
             [
              0.5555555555555556,
              "#d8576b"
             ],
             [
              0.6666666666666666,
              "#ed7953"
             ],
             [
              0.7777777777777778,
              "#fb9f3a"
             ],
             [
              0.8888888888888888,
              "#fdca26"
             ],
             [
              1,
              "#f0f921"
             ]
            ],
            "type": "surface"
           }
          ],
          "table": [
           {
            "cells": {
             "fill": {
              "color": "#EBF0F8"
             },
             "line": {
              "color": "white"
             }
            },
            "header": {
             "fill": {
              "color": "#C8D4E3"
             },
             "line": {
              "color": "white"
             }
            },
            "type": "table"
           }
          ]
         },
         "layout": {
          "annotationdefaults": {
           "arrowcolor": "#2a3f5f",
           "arrowhead": 0,
           "arrowwidth": 1
          },
          "autotypenumbers": "strict",
          "coloraxis": {
           "colorbar": {
            "outlinewidth": 0,
            "ticks": ""
           }
          },
          "colorscale": {
           "diverging": [
            [
             0,
             "#8e0152"
            ],
            [
             0.1,
             "#c51b7d"
            ],
            [
             0.2,
             "#de77ae"
            ],
            [
             0.3,
             "#f1b6da"
            ],
            [
             0.4,
             "#fde0ef"
            ],
            [
             0.5,
             "#f7f7f7"
            ],
            [
             0.6,
             "#e6f5d0"
            ],
            [
             0.7,
             "#b8e186"
            ],
            [
             0.8,
             "#7fbc41"
            ],
            [
             0.9,
             "#4d9221"
            ],
            [
             1,
             "#276419"
            ]
           ],
           "sequential": [
            [
             0,
             "#0d0887"
            ],
            [
             0.1111111111111111,
             "#46039f"
            ],
            [
             0.2222222222222222,
             "#7201a8"
            ],
            [
             0.3333333333333333,
             "#9c179e"
            ],
            [
             0.4444444444444444,
             "#bd3786"
            ],
            [
             0.5555555555555556,
             "#d8576b"
            ],
            [
             0.6666666666666666,
             "#ed7953"
            ],
            [
             0.7777777777777778,
             "#fb9f3a"
            ],
            [
             0.8888888888888888,
             "#fdca26"
            ],
            [
             1,
             "#f0f921"
            ]
           ],
           "sequentialminus": [
            [
             0,
             "#0d0887"
            ],
            [
             0.1111111111111111,
             "#46039f"
            ],
            [
             0.2222222222222222,
             "#7201a8"
            ],
            [
             0.3333333333333333,
             "#9c179e"
            ],
            [
             0.4444444444444444,
             "#bd3786"
            ],
            [
             0.5555555555555556,
             "#d8576b"
            ],
            [
             0.6666666666666666,
             "#ed7953"
            ],
            [
             0.7777777777777778,
             "#fb9f3a"
            ],
            [
             0.8888888888888888,
             "#fdca26"
            ],
            [
             1,
             "#f0f921"
            ]
           ]
          },
          "colorway": [
           "#636efa",
           "#EF553B",
           "#00cc96",
           "#ab63fa",
           "#FFA15A",
           "#19d3f3",
           "#FF6692",
           "#B6E880",
           "#FF97FF",
           "#FECB52"
          ],
          "font": {
           "color": "#2a3f5f"
          },
          "geo": {
           "bgcolor": "white",
           "lakecolor": "white",
           "landcolor": "#E5ECF6",
           "showlakes": true,
           "showland": true,
           "subunitcolor": "white"
          },
          "hoverlabel": {
           "align": "left"
          },
          "hovermode": "closest",
          "mapbox": {
           "style": "light"
          },
          "paper_bgcolor": "white",
          "plot_bgcolor": "#E5ECF6",
          "polar": {
           "angularaxis": {
            "gridcolor": "white",
            "linecolor": "white",
            "ticks": ""
           },
           "bgcolor": "#E5ECF6",
           "radialaxis": {
            "gridcolor": "white",
            "linecolor": "white",
            "ticks": ""
           }
          },
          "scene": {
           "xaxis": {
            "backgroundcolor": "#E5ECF6",
            "gridcolor": "white",
            "gridwidth": 2,
            "linecolor": "white",
            "showbackground": true,
            "ticks": "",
            "zerolinecolor": "white"
           },
           "yaxis": {
            "backgroundcolor": "#E5ECF6",
            "gridcolor": "white",
            "gridwidth": 2,
            "linecolor": "white",
            "showbackground": true,
            "ticks": "",
            "zerolinecolor": "white"
           },
           "zaxis": {
            "backgroundcolor": "#E5ECF6",
            "gridcolor": "white",
            "gridwidth": 2,
            "linecolor": "white",
            "showbackground": true,
            "ticks": "",
            "zerolinecolor": "white"
           }
          },
          "shapedefaults": {
           "line": {
            "color": "#2a3f5f"
           }
          },
          "ternary": {
           "aaxis": {
            "gridcolor": "white",
            "linecolor": "white",
            "ticks": ""
           },
           "baxis": {
            "gridcolor": "white",
            "linecolor": "white",
            "ticks": ""
           },
           "bgcolor": "#E5ECF6",
           "caxis": {
            "gridcolor": "white",
            "linecolor": "white",
            "ticks": ""
           }
          },
          "title": {
           "x": 0.05
          },
          "xaxis": {
           "automargin": true,
           "gridcolor": "white",
           "linecolor": "white",
           "ticks": "",
           "title": {
            "standoff": 15
           },
           "zerolinecolor": "white",
           "zerolinewidth": 2
          },
          "yaxis": {
           "automargin": true,
           "gridcolor": "white",
           "linecolor": "white",
           "ticks": "",
           "title": {
            "standoff": 15
           },
           "zerolinecolor": "white",
           "zerolinewidth": 2
          }
         }
        },
        "title": {
         "text": "Topic Confidence"
        },
        "xaxis": {
         "categoryorder": "total descending",
         "title": {
          "text": "Topics"
         }
        },
        "yaxis": {
         "title": {
          "text": "Confidence Score"
         }
        }
       }
      },
      "text/html": [
       "<div>                            <div id=\"ecfb37a3-ee32-4c57-a05c-7861fb1bbdbc\" class=\"plotly-graph-div\" style=\"height:525px; width:100%;\"></div>            <script type=\"text/javascript\">                require([\"plotly\"], function(Plotly) {                    window.PLOTLYENV=window.PLOTLYENV || {};                                    if (document.getElementById(\"ecfb37a3-ee32-4c57-a05c-7861fb1bbdbc\")) {                    Plotly.newPlot(                        \"ecfb37a3-ee32-4c57-a05c-7861fb1bbdbc\",                        [{\"type\":\"bar\",\"x\":[\"measure\",\"debt limit\",\"debt ceiling\",\"senate amendment\",\"minority member\",\"rule waves\",\"rules committee report\",\"majority leader\",\"proceedings postpone\",\"coal amendment\",\"crisis\",\"multiple problems\",\"traffic hair travel\",\"substitute amendment\"],\"y\":[0.35,0.717,0.853,0.847,0.905,0.681,0.791,0.555,0.648,0.592,0.35,0.5,0.626,0.569]}],                        {\"template\":{\"data\":{\"bar\":[{\"error_x\":{\"color\":\"#2a3f5f\"},\"error_y\":{\"color\":\"#2a3f5f\"},\"marker\":{\"line\":{\"color\":\"#E5ECF6\",\"width\":0.5},\"pattern\":{\"fillmode\":\"overlay\",\"size\":10,\"solidity\":0.2}},\"type\":\"bar\"}],\"barpolar\":[{\"marker\":{\"line\":{\"color\":\"#E5ECF6\",\"width\":0.5},\"pattern\":{\"fillmode\":\"overlay\",\"size\":10,\"solidity\":0.2}},\"type\":\"barpolar\"}],\"carpet\":[{\"aaxis\":{\"endlinecolor\":\"#2a3f5f\",\"gridcolor\":\"white\",\"linecolor\":\"white\",\"minorgridcolor\":\"white\",\"startlinecolor\":\"#2a3f5f\"},\"baxis\":{\"endlinecolor\":\"#2a3f5f\",\"gridcolor\":\"white\",\"linecolor\":\"white\",\"minorgridcolor\":\"white\",\"startlinecolor\":\"#2a3f5f\"},\"type\":\"carpet\"}],\"choropleth\":[{\"colorbar\":{\"outlinewidth\":0,\"ticks\":\"\"},\"type\":\"choropleth\"}],\"contour\":[{\"colorbar\":{\"outlinewidth\":0,\"ticks\":\"\"},\"colorscale\":[[0.0,\"#0d0887\"],[0.1111111111111111,\"#46039f\"],[0.2222222222222222,\"#7201a8\"],[0.3333333333333333,\"#9c179e\"],[0.4444444444444444,\"#bd3786\"],[0.5555555555555556,\"#d8576b\"],[0.6666666666666666,\"#ed7953\"],[0.7777777777777778,\"#fb9f3a\"],[0.8888888888888888,\"#fdca26\"],[1.0,\"#f0f921\"]],\"type\":\"contour\"}],\"contourcarpet\":[{\"colorbar\":{\"outlinewidth\":0,\"ticks\":\"\"},\"type\":\"contourcarpet\"}],\"heatmap\":[{\"colorbar\":{\"outlinewidth\":0,\"ticks\":\"\"},\"colorscale\":[[0.0,\"#0d0887\"],[0.1111111111111111,\"#46039f\"],[0.2222222222222222,\"#7201a8\"],[0.3333333333333333,\"#9c179e\"],[0.4444444444444444,\"#bd3786\"],[0.5555555555555556,\"#d8576b\"],[0.6666666666666666,\"#ed7953\"],[0.7777777777777778,\"#fb9f3a\"],[0.8888888888888888,\"#fdca26\"],[1.0,\"#f0f921\"]],\"type\":\"heatmap\"}],\"heatmapgl\":[{\"colorbar\":{\"outlinewidth\":0,\"ticks\":\"\"},\"colorscale\":[[0.0,\"#0d0887\"],[0.1111111111111111,\"#46039f\"],[0.2222222222222222,\"#7201a8\"],[0.3333333333333333,\"#9c179e\"],[0.4444444444444444,\"#bd3786\"],[0.5555555555555556,\"#d8576b\"],[0.6666666666666666,\"#ed7953\"],[0.7777777777777778,\"#fb9f3a\"],[0.8888888888888888,\"#fdca26\"],[1.0,\"#f0f921\"]],\"type\":\"heatmapgl\"}],\"histogram\":[{\"marker\":{\"pattern\":{\"fillmode\":\"overlay\",\"size\":10,\"solidity\":0.2}},\"type\":\"histogram\"}],\"histogram2d\":[{\"colorbar\":{\"outlinewidth\":0,\"ticks\":\"\"},\"colorscale\":[[0.0,\"#0d0887\"],[0.1111111111111111,\"#46039f\"],[0.2222222222222222,\"#7201a8\"],[0.3333333333333333,\"#9c179e\"],[0.4444444444444444,\"#bd3786\"],[0.5555555555555556,\"#d8576b\"],[0.6666666666666666,\"#ed7953\"],[0.7777777777777778,\"#fb9f3a\"],[0.8888888888888888,\"#fdca26\"],[1.0,\"#f0f921\"]],\"type\":\"histogram2d\"}],\"histogram2dcontour\":[{\"colorbar\":{\"outlinewidth\":0,\"ticks\":\"\"},\"colorscale\":[[0.0,\"#0d0887\"],[0.1111111111111111,\"#46039f\"],[0.2222222222222222,\"#7201a8\"],[0.3333333333333333,\"#9c179e\"],[0.4444444444444444,\"#bd3786\"],[0.5555555555555556,\"#d8576b\"],[0.6666666666666666,\"#ed7953\"],[0.7777777777777778,\"#fb9f3a\"],[0.8888888888888888,\"#fdca26\"],[1.0,\"#f0f921\"]],\"type\":\"histogram2dcontour\"}],\"mesh3d\":[{\"colorbar\":{\"outlinewidth\":0,\"ticks\":\"\"},\"type\":\"mesh3d\"}],\"parcoords\":[{\"line\":{\"colorbar\":{\"outlinewidth\":0,\"ticks\":\"\"}},\"type\":\"parcoords\"}],\"pie\":[{\"automargin\":true,\"type\":\"pie\"}],\"scatter\":[{\"marker\":{\"colorbar\":{\"outlinewidth\":0,\"ticks\":\"\"}},\"type\":\"scatter\"}],\"scatter3d\":[{\"line\":{\"colorbar\":{\"outlinewidth\":0,\"ticks\":\"\"}},\"marker\":{\"colorbar\":{\"outlinewidth\":0,\"ticks\":\"\"}},\"type\":\"scatter3d\"}],\"scattercarpet\":[{\"marker\":{\"colorbar\":{\"outlinewidth\":0,\"ticks\":\"\"}},\"type\":\"scattercarpet\"}],\"scattergeo\":[{\"marker\":{\"colorbar\":{\"outlinewidth\":0,\"ticks\":\"\"}},\"type\":\"scattergeo\"}],\"scattergl\":[{\"marker\":{\"colorbar\":{\"outlinewidth\":0,\"ticks\":\"\"}},\"type\":\"scattergl\"}],\"scattermapbox\":[{\"marker\":{\"colorbar\":{\"outlinewidth\":0,\"ticks\":\"\"}},\"type\":\"scattermapbox\"}],\"scatterpolar\":[{\"marker\":{\"colorbar\":{\"outlinewidth\":0,\"ticks\":\"\"}},\"type\":\"scatterpolar\"}],\"scatterpolargl\":[{\"marker\":{\"colorbar\":{\"outlinewidth\":0,\"ticks\":\"\"}},\"type\":\"scatterpolargl\"}],\"scatterternary\":[{\"marker\":{\"colorbar\":{\"outlinewidth\":0,\"ticks\":\"\"}},\"type\":\"scatterternary\"}],\"surface\":[{\"colorbar\":{\"outlinewidth\":0,\"ticks\":\"\"},\"colorscale\":[[0.0,\"#0d0887\"],[0.1111111111111111,\"#46039f\"],[0.2222222222222222,\"#7201a8\"],[0.3333333333333333,\"#9c179e\"],[0.4444444444444444,\"#bd3786\"],[0.5555555555555556,\"#d8576b\"],[0.6666666666666666,\"#ed7953\"],[0.7777777777777778,\"#fb9f3a\"],[0.8888888888888888,\"#fdca26\"],[1.0,\"#f0f921\"]],\"type\":\"surface\"}],\"table\":[{\"cells\":{\"fill\":{\"color\":\"#EBF0F8\"},\"line\":{\"color\":\"white\"}},\"header\":{\"fill\":{\"color\":\"#C8D4E3\"},\"line\":{\"color\":\"white\"}},\"type\":\"table\"}]},\"layout\":{\"annotationdefaults\":{\"arrowcolor\":\"#2a3f5f\",\"arrowhead\":0,\"arrowwidth\":1},\"autotypenumbers\":\"strict\",\"coloraxis\":{\"colorbar\":{\"outlinewidth\":0,\"ticks\":\"\"}},\"colorscale\":{\"diverging\":[[0,\"#8e0152\"],[0.1,\"#c51b7d\"],[0.2,\"#de77ae\"],[0.3,\"#f1b6da\"],[0.4,\"#fde0ef\"],[0.5,\"#f7f7f7\"],[0.6,\"#e6f5d0\"],[0.7,\"#b8e186\"],[0.8,\"#7fbc41\"],[0.9,\"#4d9221\"],[1,\"#276419\"]],\"sequential\":[[0.0,\"#0d0887\"],[0.1111111111111111,\"#46039f\"],[0.2222222222222222,\"#7201a8\"],[0.3333333333333333,\"#9c179e\"],[0.4444444444444444,\"#bd3786\"],[0.5555555555555556,\"#d8576b\"],[0.6666666666666666,\"#ed7953\"],[0.7777777777777778,\"#fb9f3a\"],[0.8888888888888888,\"#fdca26\"],[1.0,\"#f0f921\"]],\"sequentialminus\":[[0.0,\"#0d0887\"],[0.1111111111111111,\"#46039f\"],[0.2222222222222222,\"#7201a8\"],[0.3333333333333333,\"#9c179e\"],[0.4444444444444444,\"#bd3786\"],[0.5555555555555556,\"#d8576b\"],[0.6666666666666666,\"#ed7953\"],[0.7777777777777778,\"#fb9f3a\"],[0.8888888888888888,\"#fdca26\"],[1.0,\"#f0f921\"]]},\"colorway\":[\"#636efa\",\"#EF553B\",\"#00cc96\",\"#ab63fa\",\"#FFA15A\",\"#19d3f3\",\"#FF6692\",\"#B6E880\",\"#FF97FF\",\"#FECB52\"],\"font\":{\"color\":\"#2a3f5f\"},\"geo\":{\"bgcolor\":\"white\",\"lakecolor\":\"white\",\"landcolor\":\"#E5ECF6\",\"showlakes\":true,\"showland\":true,\"subunitcolor\":\"white\"},\"hoverlabel\":{\"align\":\"left\"},\"hovermode\":\"closest\",\"mapbox\":{\"style\":\"light\"},\"paper_bgcolor\":\"white\",\"plot_bgcolor\":\"#E5ECF6\",\"polar\":{\"angularaxis\":{\"gridcolor\":\"white\",\"linecolor\":\"white\",\"ticks\":\"\"},\"bgcolor\":\"#E5ECF6\",\"radialaxis\":{\"gridcolor\":\"white\",\"linecolor\":\"white\",\"ticks\":\"\"}},\"scene\":{\"xaxis\":{\"backgroundcolor\":\"#E5ECF6\",\"gridcolor\":\"white\",\"gridwidth\":2,\"linecolor\":\"white\",\"showbackground\":true,\"ticks\":\"\",\"zerolinecolor\":\"white\"},\"yaxis\":{\"backgroundcolor\":\"#E5ECF6\",\"gridcolor\":\"white\",\"gridwidth\":2,\"linecolor\":\"white\",\"showbackground\":true,\"ticks\":\"\",\"zerolinecolor\":\"white\"},\"zaxis\":{\"backgroundcolor\":\"#E5ECF6\",\"gridcolor\":\"white\",\"gridwidth\":2,\"linecolor\":\"white\",\"showbackground\":true,\"ticks\":\"\",\"zerolinecolor\":\"white\"}},\"shapedefaults\":{\"line\":{\"color\":\"#2a3f5f\"}},\"ternary\":{\"aaxis\":{\"gridcolor\":\"white\",\"linecolor\":\"white\",\"ticks\":\"\"},\"baxis\":{\"gridcolor\":\"white\",\"linecolor\":\"white\",\"ticks\":\"\"},\"bgcolor\":\"#E5ECF6\",\"caxis\":{\"gridcolor\":\"white\",\"linecolor\":\"white\",\"ticks\":\"\"}},\"title\":{\"x\":0.05},\"xaxis\":{\"automargin\":true,\"gridcolor\":\"white\",\"linecolor\":\"white\",\"ticks\":\"\",\"title\":{\"standoff\":15},\"zerolinecolor\":\"white\",\"zerolinewidth\":2},\"yaxis\":{\"automargin\":true,\"gridcolor\":\"white\",\"linecolor\":\"white\",\"ticks\":\"\",\"title\":{\"standoff\":15},\"zerolinecolor\":\"white\",\"zerolinewidth\":2}}},\"title\":{\"text\":\"Topic Confidence\"},\"xaxis\":{\"categoryorder\":\"total descending\",\"title\":{\"text\":\"Topics\"}},\"yaxis\":{\"title\":{\"text\":\"Confidence Score\"}}},                        {\"responsive\": true}                    ).then(function(){\n",
       "                            \n",
       "var gd = document.getElementById('ecfb37a3-ee32-4c57-a05c-7861fb1bbdbc');\n",
       "var x = new MutationObserver(function (mutations, observer) {{\n",
       "        var display = window.getComputedStyle(gd).display;\n",
       "        if (!display || display === 'none') {{\n",
       "            console.log([gd, 'removed!']);\n",
       "            Plotly.purge(gd);\n",
       "            observer.disconnect();\n",
       "        }}\n",
       "}});\n",
       "\n",
       "// Listen for the removal of the full notebook cells\n",
       "var notebookContainer = gd.closest('#notebook-container');\n",
       "if (notebookContainer) {{\n",
       "    x.observe(notebookContainer, {childList: true});\n",
       "}}\n",
       "\n",
       "// Listen for the clearing of the current output cell\n",
       "var outputEl = gd.closest('.output');\n",
       "if (outputEl) {{\n",
       "    x.observe(outputEl, {childList: true});\n",
       "}}\n",
       "\n",
       "                        })                };                });            </script>        </div>"
      ]
     },
     "metadata": {},
     "output_type": "display_data"
    }
   ],
   "source": [
    "data = go.Bar(x=topics_df[\"text\"], y=topics_df[\"score\"])\n",
    "\n",
    "layout = go.Layout(title=\"Topic Confidence\",\n",
    "                   xaxis={\"title\":\"Topics\", \"categoryorder\": \"total descending\"},\n",
    "                   yaxis={\"title\":\"Confidence Score\"})\n",
    "\n",
    "go.Figure(data=data, layout=layout)"
   ]
  },
  {
   "cell_type": "code",
   "execution_count": 95,
   "metadata": {},
   "outputs": [
    {
     "data": {
      "application/vnd.plotly.v1+json": {
       "config": {
        "plotlyServerURL": "https://plot.ly"
       },
       "data": [
        {
         "type": "bar",
         "x": [
          "measure",
          "debt limit",
          "debt ceiling",
          "senate amendment",
          "minority member",
          "rule waves",
          "rules committee report",
          "majority leader",
          "proceedings postpone",
          "coal amendment",
          "crisis",
          "multiple problems",
          "traffic hair travel",
          "substitute amendment"
         ],
         "y": [
          6,
          4,
          13,
          21,
          7,
          8,
          12,
          1,
          5,
          1,
          3,
          3,
          1,
          2
         ]
        }
       ],
       "layout": {
        "template": {
         "data": {
          "bar": [
           {
            "error_x": {
             "color": "#2a3f5f"
            },
            "error_y": {
             "color": "#2a3f5f"
            },
            "marker": {
             "line": {
              "color": "#E5ECF6",
              "width": 0.5
             },
             "pattern": {
              "fillmode": "overlay",
              "size": 10,
              "solidity": 0.2
             }
            },
            "type": "bar"
           }
          ],
          "barpolar": [
           {
            "marker": {
             "line": {
              "color": "#E5ECF6",
              "width": 0.5
             },
             "pattern": {
              "fillmode": "overlay",
              "size": 10,
              "solidity": 0.2
             }
            },
            "type": "barpolar"
           }
          ],
          "carpet": [
           {
            "aaxis": {
             "endlinecolor": "#2a3f5f",
             "gridcolor": "white",
             "linecolor": "white",
             "minorgridcolor": "white",
             "startlinecolor": "#2a3f5f"
            },
            "baxis": {
             "endlinecolor": "#2a3f5f",
             "gridcolor": "white",
             "linecolor": "white",
             "minorgridcolor": "white",
             "startlinecolor": "#2a3f5f"
            },
            "type": "carpet"
           }
          ],
          "choropleth": [
           {
            "colorbar": {
             "outlinewidth": 0,
             "ticks": ""
            },
            "type": "choropleth"
           }
          ],
          "contour": [
           {
            "colorbar": {
             "outlinewidth": 0,
             "ticks": ""
            },
            "colorscale": [
             [
              0,
              "#0d0887"
             ],
             [
              0.1111111111111111,
              "#46039f"
             ],
             [
              0.2222222222222222,
              "#7201a8"
             ],
             [
              0.3333333333333333,
              "#9c179e"
             ],
             [
              0.4444444444444444,
              "#bd3786"
             ],
             [
              0.5555555555555556,
              "#d8576b"
             ],
             [
              0.6666666666666666,
              "#ed7953"
             ],
             [
              0.7777777777777778,
              "#fb9f3a"
             ],
             [
              0.8888888888888888,
              "#fdca26"
             ],
             [
              1,
              "#f0f921"
             ]
            ],
            "type": "contour"
           }
          ],
          "contourcarpet": [
           {
            "colorbar": {
             "outlinewidth": 0,
             "ticks": ""
            },
            "type": "contourcarpet"
           }
          ],
          "heatmap": [
           {
            "colorbar": {
             "outlinewidth": 0,
             "ticks": ""
            },
            "colorscale": [
             [
              0,
              "#0d0887"
             ],
             [
              0.1111111111111111,
              "#46039f"
             ],
             [
              0.2222222222222222,
              "#7201a8"
             ],
             [
              0.3333333333333333,
              "#9c179e"
             ],
             [
              0.4444444444444444,
              "#bd3786"
             ],
             [
              0.5555555555555556,
              "#d8576b"
             ],
             [
              0.6666666666666666,
              "#ed7953"
             ],
             [
              0.7777777777777778,
              "#fb9f3a"
             ],
             [
              0.8888888888888888,
              "#fdca26"
             ],
             [
              1,
              "#f0f921"
             ]
            ],
            "type": "heatmap"
           }
          ],
          "heatmapgl": [
           {
            "colorbar": {
             "outlinewidth": 0,
             "ticks": ""
            },
            "colorscale": [
             [
              0,
              "#0d0887"
             ],
             [
              0.1111111111111111,
              "#46039f"
             ],
             [
              0.2222222222222222,
              "#7201a8"
             ],
             [
              0.3333333333333333,
              "#9c179e"
             ],
             [
              0.4444444444444444,
              "#bd3786"
             ],
             [
              0.5555555555555556,
              "#d8576b"
             ],
             [
              0.6666666666666666,
              "#ed7953"
             ],
             [
              0.7777777777777778,
              "#fb9f3a"
             ],
             [
              0.8888888888888888,
              "#fdca26"
             ],
             [
              1,
              "#f0f921"
             ]
            ],
            "type": "heatmapgl"
           }
          ],
          "histogram": [
           {
            "marker": {
             "pattern": {
              "fillmode": "overlay",
              "size": 10,
              "solidity": 0.2
             }
            },
            "type": "histogram"
           }
          ],
          "histogram2d": [
           {
            "colorbar": {
             "outlinewidth": 0,
             "ticks": ""
            },
            "colorscale": [
             [
              0,
              "#0d0887"
             ],
             [
              0.1111111111111111,
              "#46039f"
             ],
             [
              0.2222222222222222,
              "#7201a8"
             ],
             [
              0.3333333333333333,
              "#9c179e"
             ],
             [
              0.4444444444444444,
              "#bd3786"
             ],
             [
              0.5555555555555556,
              "#d8576b"
             ],
             [
              0.6666666666666666,
              "#ed7953"
             ],
             [
              0.7777777777777778,
              "#fb9f3a"
             ],
             [
              0.8888888888888888,
              "#fdca26"
             ],
             [
              1,
              "#f0f921"
             ]
            ],
            "type": "histogram2d"
           }
          ],
          "histogram2dcontour": [
           {
            "colorbar": {
             "outlinewidth": 0,
             "ticks": ""
            },
            "colorscale": [
             [
              0,
              "#0d0887"
             ],
             [
              0.1111111111111111,
              "#46039f"
             ],
             [
              0.2222222222222222,
              "#7201a8"
             ],
             [
              0.3333333333333333,
              "#9c179e"
             ],
             [
              0.4444444444444444,
              "#bd3786"
             ],
             [
              0.5555555555555556,
              "#d8576b"
             ],
             [
              0.6666666666666666,
              "#ed7953"
             ],
             [
              0.7777777777777778,
              "#fb9f3a"
             ],
             [
              0.8888888888888888,
              "#fdca26"
             ],
             [
              1,
              "#f0f921"
             ]
            ],
            "type": "histogram2dcontour"
           }
          ],
          "mesh3d": [
           {
            "colorbar": {
             "outlinewidth": 0,
             "ticks": ""
            },
            "type": "mesh3d"
           }
          ],
          "parcoords": [
           {
            "line": {
             "colorbar": {
              "outlinewidth": 0,
              "ticks": ""
             }
            },
            "type": "parcoords"
           }
          ],
          "pie": [
           {
            "automargin": true,
            "type": "pie"
           }
          ],
          "scatter": [
           {
            "marker": {
             "colorbar": {
              "outlinewidth": 0,
              "ticks": ""
             }
            },
            "type": "scatter"
           }
          ],
          "scatter3d": [
           {
            "line": {
             "colorbar": {
              "outlinewidth": 0,
              "ticks": ""
             }
            },
            "marker": {
             "colorbar": {
              "outlinewidth": 0,
              "ticks": ""
             }
            },
            "type": "scatter3d"
           }
          ],
          "scattercarpet": [
           {
            "marker": {
             "colorbar": {
              "outlinewidth": 0,
              "ticks": ""
             }
            },
            "type": "scattercarpet"
           }
          ],
          "scattergeo": [
           {
            "marker": {
             "colorbar": {
              "outlinewidth": 0,
              "ticks": ""
             }
            },
            "type": "scattergeo"
           }
          ],
          "scattergl": [
           {
            "marker": {
             "colorbar": {
              "outlinewidth": 0,
              "ticks": ""
             }
            },
            "type": "scattergl"
           }
          ],
          "scattermapbox": [
           {
            "marker": {
             "colorbar": {
              "outlinewidth": 0,
              "ticks": ""
             }
            },
            "type": "scattermapbox"
           }
          ],
          "scatterpolar": [
           {
            "marker": {
             "colorbar": {
              "outlinewidth": 0,
              "ticks": ""
             }
            },
            "type": "scatterpolar"
           }
          ],
          "scatterpolargl": [
           {
            "marker": {
             "colorbar": {
              "outlinewidth": 0,
              "ticks": ""
             }
            },
            "type": "scatterpolargl"
           }
          ],
          "scatterternary": [
           {
            "marker": {
             "colorbar": {
              "outlinewidth": 0,
              "ticks": ""
             }
            },
            "type": "scatterternary"
           }
          ],
          "surface": [
           {
            "colorbar": {
             "outlinewidth": 0,
             "ticks": ""
            },
            "colorscale": [
             [
              0,
              "#0d0887"
             ],
             [
              0.1111111111111111,
              "#46039f"
             ],
             [
              0.2222222222222222,
              "#7201a8"
             ],
             [
              0.3333333333333333,
              "#9c179e"
             ],
             [
              0.4444444444444444,
              "#bd3786"
             ],
             [
              0.5555555555555556,
              "#d8576b"
             ],
             [
              0.6666666666666666,
              "#ed7953"
             ],
             [
              0.7777777777777778,
              "#fb9f3a"
             ],
             [
              0.8888888888888888,
              "#fdca26"
             ],
             [
              1,
              "#f0f921"
             ]
            ],
            "type": "surface"
           }
          ],
          "table": [
           {
            "cells": {
             "fill": {
              "color": "#EBF0F8"
             },
             "line": {
              "color": "white"
             }
            },
            "header": {
             "fill": {
              "color": "#C8D4E3"
             },
             "line": {
              "color": "white"
             }
            },
            "type": "table"
           }
          ]
         },
         "layout": {
          "annotationdefaults": {
           "arrowcolor": "#2a3f5f",
           "arrowhead": 0,
           "arrowwidth": 1
          },
          "autotypenumbers": "strict",
          "coloraxis": {
           "colorbar": {
            "outlinewidth": 0,
            "ticks": ""
           }
          },
          "colorscale": {
           "diverging": [
            [
             0,
             "#8e0152"
            ],
            [
             0.1,
             "#c51b7d"
            ],
            [
             0.2,
             "#de77ae"
            ],
            [
             0.3,
             "#f1b6da"
            ],
            [
             0.4,
             "#fde0ef"
            ],
            [
             0.5,
             "#f7f7f7"
            ],
            [
             0.6,
             "#e6f5d0"
            ],
            [
             0.7,
             "#b8e186"
            ],
            [
             0.8,
             "#7fbc41"
            ],
            [
             0.9,
             "#4d9221"
            ],
            [
             1,
             "#276419"
            ]
           ],
           "sequential": [
            [
             0,
             "#0d0887"
            ],
            [
             0.1111111111111111,
             "#46039f"
            ],
            [
             0.2222222222222222,
             "#7201a8"
            ],
            [
             0.3333333333333333,
             "#9c179e"
            ],
            [
             0.4444444444444444,
             "#bd3786"
            ],
            [
             0.5555555555555556,
             "#d8576b"
            ],
            [
             0.6666666666666666,
             "#ed7953"
            ],
            [
             0.7777777777777778,
             "#fb9f3a"
            ],
            [
             0.8888888888888888,
             "#fdca26"
            ],
            [
             1,
             "#f0f921"
            ]
           ],
           "sequentialminus": [
            [
             0,
             "#0d0887"
            ],
            [
             0.1111111111111111,
             "#46039f"
            ],
            [
             0.2222222222222222,
             "#7201a8"
            ],
            [
             0.3333333333333333,
             "#9c179e"
            ],
            [
             0.4444444444444444,
             "#bd3786"
            ],
            [
             0.5555555555555556,
             "#d8576b"
            ],
            [
             0.6666666666666666,
             "#ed7953"
            ],
            [
             0.7777777777777778,
             "#fb9f3a"
            ],
            [
             0.8888888888888888,
             "#fdca26"
            ],
            [
             1,
             "#f0f921"
            ]
           ]
          },
          "colorway": [
           "#636efa",
           "#EF553B",
           "#00cc96",
           "#ab63fa",
           "#FFA15A",
           "#19d3f3",
           "#FF6692",
           "#B6E880",
           "#FF97FF",
           "#FECB52"
          ],
          "font": {
           "color": "#2a3f5f"
          },
          "geo": {
           "bgcolor": "white",
           "lakecolor": "white",
           "landcolor": "#E5ECF6",
           "showlakes": true,
           "showland": true,
           "subunitcolor": "white"
          },
          "hoverlabel": {
           "align": "left"
          },
          "hovermode": "closest",
          "mapbox": {
           "style": "light"
          },
          "paper_bgcolor": "white",
          "plot_bgcolor": "#E5ECF6",
          "polar": {
           "angularaxis": {
            "gridcolor": "white",
            "linecolor": "white",
            "ticks": ""
           },
           "bgcolor": "#E5ECF6",
           "radialaxis": {
            "gridcolor": "white",
            "linecolor": "white",
            "ticks": ""
           }
          },
          "scene": {
           "xaxis": {
            "backgroundcolor": "#E5ECF6",
            "gridcolor": "white",
            "gridwidth": 2,
            "linecolor": "white",
            "showbackground": true,
            "ticks": "",
            "zerolinecolor": "white"
           },
           "yaxis": {
            "backgroundcolor": "#E5ECF6",
            "gridcolor": "white",
            "gridwidth": 2,
            "linecolor": "white",
            "showbackground": true,
            "ticks": "",
            "zerolinecolor": "white"
           },
           "zaxis": {
            "backgroundcolor": "#E5ECF6",
            "gridcolor": "white",
            "gridwidth": 2,
            "linecolor": "white",
            "showbackground": true,
            "ticks": "",
            "zerolinecolor": "white"
           }
          },
          "shapedefaults": {
           "line": {
            "color": "#2a3f5f"
           }
          },
          "ternary": {
           "aaxis": {
            "gridcolor": "white",
            "linecolor": "white",
            "ticks": ""
           },
           "baxis": {
            "gridcolor": "white",
            "linecolor": "white",
            "ticks": ""
           },
           "bgcolor": "#E5ECF6",
           "caxis": {
            "gridcolor": "white",
            "linecolor": "white",
            "ticks": ""
           }
          },
          "title": {
           "x": 0.05
          },
          "xaxis": {
           "automargin": true,
           "gridcolor": "white",
           "linecolor": "white",
           "ticks": "",
           "title": {
            "standoff": 15
           },
           "zerolinecolor": "white",
           "zerolinewidth": 2
          },
          "yaxis": {
           "automargin": true,
           "gridcolor": "white",
           "linecolor": "white",
           "ticks": "",
           "title": {
            "standoff": 15
           },
           "zerolinecolor": "white",
           "zerolinewidth": 2
          }
         }
        },
        "title": {
         "text": "Topics Referenced in Transcript"
        },
        "xaxis": {
         "categoryorder": "total descending",
         "title": {
          "text": "Topics"
         }
        },
        "yaxis": {
         "title": {
          "text": "Number of times referenced"
         }
        }
       }
      },
      "text/html": [
       "<div>                            <div id=\"4ffb874f-e0fc-415b-b701-05684380a20c\" class=\"plotly-graph-div\" style=\"height:525px; width:100%;\"></div>            <script type=\"text/javascript\">                require([\"plotly\"], function(Plotly) {                    window.PLOTLYENV=window.PLOTLYENV || {};                                    if (document.getElementById(\"4ffb874f-e0fc-415b-b701-05684380a20c\")) {                    Plotly.newPlot(                        \"4ffb874f-e0fc-415b-b701-05684380a20c\",                        [{\"type\":\"bar\",\"x\":[\"measure\",\"debt limit\",\"debt ceiling\",\"senate amendment\",\"minority member\",\"rule waves\",\"rules committee report\",\"majority leader\",\"proceedings postpone\",\"coal amendment\",\"crisis\",\"multiple problems\",\"traffic hair travel\",\"substitute amendment\"],\"y\":[6,4,13,21,7,8,12,1,5,1,3,3,1,2]}],                        {\"template\":{\"data\":{\"bar\":[{\"error_x\":{\"color\":\"#2a3f5f\"},\"error_y\":{\"color\":\"#2a3f5f\"},\"marker\":{\"line\":{\"color\":\"#E5ECF6\",\"width\":0.5},\"pattern\":{\"fillmode\":\"overlay\",\"size\":10,\"solidity\":0.2}},\"type\":\"bar\"}],\"barpolar\":[{\"marker\":{\"line\":{\"color\":\"#E5ECF6\",\"width\":0.5},\"pattern\":{\"fillmode\":\"overlay\",\"size\":10,\"solidity\":0.2}},\"type\":\"barpolar\"}],\"carpet\":[{\"aaxis\":{\"endlinecolor\":\"#2a3f5f\",\"gridcolor\":\"white\",\"linecolor\":\"white\",\"minorgridcolor\":\"white\",\"startlinecolor\":\"#2a3f5f\"},\"baxis\":{\"endlinecolor\":\"#2a3f5f\",\"gridcolor\":\"white\",\"linecolor\":\"white\",\"minorgridcolor\":\"white\",\"startlinecolor\":\"#2a3f5f\"},\"type\":\"carpet\"}],\"choropleth\":[{\"colorbar\":{\"outlinewidth\":0,\"ticks\":\"\"},\"type\":\"choropleth\"}],\"contour\":[{\"colorbar\":{\"outlinewidth\":0,\"ticks\":\"\"},\"colorscale\":[[0.0,\"#0d0887\"],[0.1111111111111111,\"#46039f\"],[0.2222222222222222,\"#7201a8\"],[0.3333333333333333,\"#9c179e\"],[0.4444444444444444,\"#bd3786\"],[0.5555555555555556,\"#d8576b\"],[0.6666666666666666,\"#ed7953\"],[0.7777777777777778,\"#fb9f3a\"],[0.8888888888888888,\"#fdca26\"],[1.0,\"#f0f921\"]],\"type\":\"contour\"}],\"contourcarpet\":[{\"colorbar\":{\"outlinewidth\":0,\"ticks\":\"\"},\"type\":\"contourcarpet\"}],\"heatmap\":[{\"colorbar\":{\"outlinewidth\":0,\"ticks\":\"\"},\"colorscale\":[[0.0,\"#0d0887\"],[0.1111111111111111,\"#46039f\"],[0.2222222222222222,\"#7201a8\"],[0.3333333333333333,\"#9c179e\"],[0.4444444444444444,\"#bd3786\"],[0.5555555555555556,\"#d8576b\"],[0.6666666666666666,\"#ed7953\"],[0.7777777777777778,\"#fb9f3a\"],[0.8888888888888888,\"#fdca26\"],[1.0,\"#f0f921\"]],\"type\":\"heatmap\"}],\"heatmapgl\":[{\"colorbar\":{\"outlinewidth\":0,\"ticks\":\"\"},\"colorscale\":[[0.0,\"#0d0887\"],[0.1111111111111111,\"#46039f\"],[0.2222222222222222,\"#7201a8\"],[0.3333333333333333,\"#9c179e\"],[0.4444444444444444,\"#bd3786\"],[0.5555555555555556,\"#d8576b\"],[0.6666666666666666,\"#ed7953\"],[0.7777777777777778,\"#fb9f3a\"],[0.8888888888888888,\"#fdca26\"],[1.0,\"#f0f921\"]],\"type\":\"heatmapgl\"}],\"histogram\":[{\"marker\":{\"pattern\":{\"fillmode\":\"overlay\",\"size\":10,\"solidity\":0.2}},\"type\":\"histogram\"}],\"histogram2d\":[{\"colorbar\":{\"outlinewidth\":0,\"ticks\":\"\"},\"colorscale\":[[0.0,\"#0d0887\"],[0.1111111111111111,\"#46039f\"],[0.2222222222222222,\"#7201a8\"],[0.3333333333333333,\"#9c179e\"],[0.4444444444444444,\"#bd3786\"],[0.5555555555555556,\"#d8576b\"],[0.6666666666666666,\"#ed7953\"],[0.7777777777777778,\"#fb9f3a\"],[0.8888888888888888,\"#fdca26\"],[1.0,\"#f0f921\"]],\"type\":\"histogram2d\"}],\"histogram2dcontour\":[{\"colorbar\":{\"outlinewidth\":0,\"ticks\":\"\"},\"colorscale\":[[0.0,\"#0d0887\"],[0.1111111111111111,\"#46039f\"],[0.2222222222222222,\"#7201a8\"],[0.3333333333333333,\"#9c179e\"],[0.4444444444444444,\"#bd3786\"],[0.5555555555555556,\"#d8576b\"],[0.6666666666666666,\"#ed7953\"],[0.7777777777777778,\"#fb9f3a\"],[0.8888888888888888,\"#fdca26\"],[1.0,\"#f0f921\"]],\"type\":\"histogram2dcontour\"}],\"mesh3d\":[{\"colorbar\":{\"outlinewidth\":0,\"ticks\":\"\"},\"type\":\"mesh3d\"}],\"parcoords\":[{\"line\":{\"colorbar\":{\"outlinewidth\":0,\"ticks\":\"\"}},\"type\":\"parcoords\"}],\"pie\":[{\"automargin\":true,\"type\":\"pie\"}],\"scatter\":[{\"marker\":{\"colorbar\":{\"outlinewidth\":0,\"ticks\":\"\"}},\"type\":\"scatter\"}],\"scatter3d\":[{\"line\":{\"colorbar\":{\"outlinewidth\":0,\"ticks\":\"\"}},\"marker\":{\"colorbar\":{\"outlinewidth\":0,\"ticks\":\"\"}},\"type\":\"scatter3d\"}],\"scattercarpet\":[{\"marker\":{\"colorbar\":{\"outlinewidth\":0,\"ticks\":\"\"}},\"type\":\"scattercarpet\"}],\"scattergeo\":[{\"marker\":{\"colorbar\":{\"outlinewidth\":0,\"ticks\":\"\"}},\"type\":\"scattergeo\"}],\"scattergl\":[{\"marker\":{\"colorbar\":{\"outlinewidth\":0,\"ticks\":\"\"}},\"type\":\"scattergl\"}],\"scattermapbox\":[{\"marker\":{\"colorbar\":{\"outlinewidth\":0,\"ticks\":\"\"}},\"type\":\"scattermapbox\"}],\"scatterpolar\":[{\"marker\":{\"colorbar\":{\"outlinewidth\":0,\"ticks\":\"\"}},\"type\":\"scatterpolar\"}],\"scatterpolargl\":[{\"marker\":{\"colorbar\":{\"outlinewidth\":0,\"ticks\":\"\"}},\"type\":\"scatterpolargl\"}],\"scatterternary\":[{\"marker\":{\"colorbar\":{\"outlinewidth\":0,\"ticks\":\"\"}},\"type\":\"scatterternary\"}],\"surface\":[{\"colorbar\":{\"outlinewidth\":0,\"ticks\":\"\"},\"colorscale\":[[0.0,\"#0d0887\"],[0.1111111111111111,\"#46039f\"],[0.2222222222222222,\"#7201a8\"],[0.3333333333333333,\"#9c179e\"],[0.4444444444444444,\"#bd3786\"],[0.5555555555555556,\"#d8576b\"],[0.6666666666666666,\"#ed7953\"],[0.7777777777777778,\"#fb9f3a\"],[0.8888888888888888,\"#fdca26\"],[1.0,\"#f0f921\"]],\"type\":\"surface\"}],\"table\":[{\"cells\":{\"fill\":{\"color\":\"#EBF0F8\"},\"line\":{\"color\":\"white\"}},\"header\":{\"fill\":{\"color\":\"#C8D4E3\"},\"line\":{\"color\":\"white\"}},\"type\":\"table\"}]},\"layout\":{\"annotationdefaults\":{\"arrowcolor\":\"#2a3f5f\",\"arrowhead\":0,\"arrowwidth\":1},\"autotypenumbers\":\"strict\",\"coloraxis\":{\"colorbar\":{\"outlinewidth\":0,\"ticks\":\"\"}},\"colorscale\":{\"diverging\":[[0,\"#8e0152\"],[0.1,\"#c51b7d\"],[0.2,\"#de77ae\"],[0.3,\"#f1b6da\"],[0.4,\"#fde0ef\"],[0.5,\"#f7f7f7\"],[0.6,\"#e6f5d0\"],[0.7,\"#b8e186\"],[0.8,\"#7fbc41\"],[0.9,\"#4d9221\"],[1,\"#276419\"]],\"sequential\":[[0.0,\"#0d0887\"],[0.1111111111111111,\"#46039f\"],[0.2222222222222222,\"#7201a8\"],[0.3333333333333333,\"#9c179e\"],[0.4444444444444444,\"#bd3786\"],[0.5555555555555556,\"#d8576b\"],[0.6666666666666666,\"#ed7953\"],[0.7777777777777778,\"#fb9f3a\"],[0.8888888888888888,\"#fdca26\"],[1.0,\"#f0f921\"]],\"sequentialminus\":[[0.0,\"#0d0887\"],[0.1111111111111111,\"#46039f\"],[0.2222222222222222,\"#7201a8\"],[0.3333333333333333,\"#9c179e\"],[0.4444444444444444,\"#bd3786\"],[0.5555555555555556,\"#d8576b\"],[0.6666666666666666,\"#ed7953\"],[0.7777777777777778,\"#fb9f3a\"],[0.8888888888888888,\"#fdca26\"],[1.0,\"#f0f921\"]]},\"colorway\":[\"#636efa\",\"#EF553B\",\"#00cc96\",\"#ab63fa\",\"#FFA15A\",\"#19d3f3\",\"#FF6692\",\"#B6E880\",\"#FF97FF\",\"#FECB52\"],\"font\":{\"color\":\"#2a3f5f\"},\"geo\":{\"bgcolor\":\"white\",\"lakecolor\":\"white\",\"landcolor\":\"#E5ECF6\",\"showlakes\":true,\"showland\":true,\"subunitcolor\":\"white\"},\"hoverlabel\":{\"align\":\"left\"},\"hovermode\":\"closest\",\"mapbox\":{\"style\":\"light\"},\"paper_bgcolor\":\"white\",\"plot_bgcolor\":\"#E5ECF6\",\"polar\":{\"angularaxis\":{\"gridcolor\":\"white\",\"linecolor\":\"white\",\"ticks\":\"\"},\"bgcolor\":\"#E5ECF6\",\"radialaxis\":{\"gridcolor\":\"white\",\"linecolor\":\"white\",\"ticks\":\"\"}},\"scene\":{\"xaxis\":{\"backgroundcolor\":\"#E5ECF6\",\"gridcolor\":\"white\",\"gridwidth\":2,\"linecolor\":\"white\",\"showbackground\":true,\"ticks\":\"\",\"zerolinecolor\":\"white\"},\"yaxis\":{\"backgroundcolor\":\"#E5ECF6\",\"gridcolor\":\"white\",\"gridwidth\":2,\"linecolor\":\"white\",\"showbackground\":true,\"ticks\":\"\",\"zerolinecolor\":\"white\"},\"zaxis\":{\"backgroundcolor\":\"#E5ECF6\",\"gridcolor\":\"white\",\"gridwidth\":2,\"linecolor\":\"white\",\"showbackground\":true,\"ticks\":\"\",\"zerolinecolor\":\"white\"}},\"shapedefaults\":{\"line\":{\"color\":\"#2a3f5f\"}},\"ternary\":{\"aaxis\":{\"gridcolor\":\"white\",\"linecolor\":\"white\",\"ticks\":\"\"},\"baxis\":{\"gridcolor\":\"white\",\"linecolor\":\"white\",\"ticks\":\"\"},\"bgcolor\":\"#E5ECF6\",\"caxis\":{\"gridcolor\":\"white\",\"linecolor\":\"white\",\"ticks\":\"\"}},\"title\":{\"x\":0.05},\"xaxis\":{\"automargin\":true,\"gridcolor\":\"white\",\"linecolor\":\"white\",\"ticks\":\"\",\"title\":{\"standoff\":15},\"zerolinecolor\":\"white\",\"zerolinewidth\":2},\"yaxis\":{\"automargin\":true,\"gridcolor\":\"white\",\"linecolor\":\"white\",\"ticks\":\"\",\"title\":{\"standoff\":15},\"zerolinecolor\":\"white\",\"zerolinewidth\":2}}},\"title\":{\"text\":\"Topics Referenced in Transcript\"},\"xaxis\":{\"categoryorder\":\"total descending\",\"title\":{\"text\":\"Topics\"}},\"yaxis\":{\"title\":{\"text\":\"Number of times referenced\"}}},                        {\"responsive\": true}                    ).then(function(){\n",
       "                            \n",
       "var gd = document.getElementById('4ffb874f-e0fc-415b-b701-05684380a20c');\n",
       "var x = new MutationObserver(function (mutations, observer) {{\n",
       "        var display = window.getComputedStyle(gd).display;\n",
       "        if (!display || display === 'none') {{\n",
       "            console.log([gd, 'removed!']);\n",
       "            Plotly.purge(gd);\n",
       "            observer.disconnect();\n",
       "        }}\n",
       "}});\n",
       "\n",
       "// Listen for the removal of the full notebook cells\n",
       "var notebookContainer = gd.closest('#notebook-container');\n",
       "if (notebookContainer) {{\n",
       "    x.observe(notebookContainer, {childList: true});\n",
       "}}\n",
       "\n",
       "// Listen for the clearing of the current output cell\n",
       "var outputEl = gd.closest('.output');\n",
       "if (outputEl) {{\n",
       "    x.observe(outputEl, {childList: true});\n",
       "}}\n",
       "\n",
       "                        })                };                });            </script>        </div>"
      ]
     },
     "metadata": {},
     "output_type": "display_data"
    }
   ],
   "source": [
    "topics_data_df = topics_df.copy()\n",
    "topics_data_df['messageCount'] = [len(mess) for mess in topics_data_df[\"messageIds\"]]\n",
    "\n",
    "data = go.Bar(x=topics_data_df[\"text\"], y=topics_data_df[\"messageCount\"])\n",
    "\n",
    "layout = go.Layout(title=\"Topics Referenced in Transcript\",\n",
    "                   xaxis={\"title\":\"Topics\", \"categoryorder\": \"total descending\"},\n",
    "                   yaxis={\"title\":\"Number of times referenced\"})\n",
    "\n",
    "go.Figure(data=data, layout=layout)"
   ]
  },
  {
   "cell_type": "markdown",
   "metadata": {},
   "source": [
    "A couple of things to note:\n",
    "1. minority member was referenced only 6 times, yet had the highest score of .905. In comparison, senate ammendment had 21 references, with a score of .847.\n",
    "2. coal ammendment was referneced only 1 time, but had a score of .592."
   ]
  },
  {
   "cell_type": "markdown",
   "metadata": {},
   "source": [
    "# Speaker Analysis"
   ]
  },
  {
   "cell_type": "code",
   "execution_count": 97,
   "metadata": {},
   "outputs": [
    {
     "data": {
      "text/html": [
       "<div>\n",
       "<style scoped>\n",
       "    .dataframe tbody tr th:only-of-type {\n",
       "        vertical-align: middle;\n",
       "    }\n",
       "\n",
       "    .dataframe tbody tr th {\n",
       "        vertical-align: top;\n",
       "    }\n",
       "\n",
       "    .dataframe thead th {\n",
       "        text-align: right;\n",
       "    }\n",
       "</style>\n",
       "<table border=\"1\" class=\"dataframe\">\n",
       "  <thead>\n",
       "    <tr style=\"text-align: right;\">\n",
       "      <th></th>\n",
       "      <th>id</th>\n",
       "      <th>text</th>\n",
       "      <th>startTime</th>\n",
       "      <th>endTime</th>\n",
       "      <th>conversationId</th>\n",
       "      <th>phrases</th>\n",
       "      <th>from.id</th>\n",
       "      <th>from.name</th>\n",
       "    </tr>\n",
       "  </thead>\n",
       "  <tbody>\n",
       "    <tr>\n",
       "      <th>0</th>\n",
       "      <td>5217668870176768</td>\n",
       "      <td>I can hit the gym does so.</td>\n",
       "      <td>2021-10-17T00:38:59.926Z</td>\n",
       "      <td>2021-10-17T00:39:01.526Z</td>\n",
       "      <td>5611763203571712</td>\n",
       "      <td>[]</td>\n",
       "      <td>66d8689e-8606-40e2-aa4b-28058f2067db</td>\n",
       "      <td>Speaker 11</td>\n",
       "    </tr>\n",
       "    <tr>\n",
       "      <th>1</th>\n",
       "      <td>5754971829043200</td>\n",
       "      <td>Because of the bureaucracy, and right.</td>\n",
       "      <td>2021-10-17T00:39:03.726Z</td>\n",
       "      <td>2021-10-17T00:39:07.326Z</td>\n",
       "      <td>5611763203571712</td>\n",
       "      <td>[]</td>\n",
       "      <td>9ab722b4-7097-4fca-9f19-043ba94c70a8</td>\n",
       "      <td>Speaker 1</td>\n",
       "    </tr>\n",
       "    <tr>\n",
       "      <th>2</th>\n",
       "      <td>6079902680875008</td>\n",
       "      <td>Army.</td>\n",
       "      <td>2021-10-17T00:39:08.426Z</td>\n",
       "      <td>2021-10-17T00:39:08.726Z</td>\n",
       "      <td>5611763203571712</td>\n",
       "      <td>[]</td>\n",
       "      <td>cd91310e-b3ea-47f0-8480-d699b476a400</td>\n",
       "      <td>Speaker 12</td>\n",
       "    </tr>\n",
       "    <tr>\n",
       "      <th>3</th>\n",
       "      <td>5922707481821184</td>\n",
       "      <td>Okay, I think we will get a.</td>\n",
       "      <td>2021-10-17T00:39:11.126Z</td>\n",
       "      <td>2021-10-17T00:39:12.426Z</td>\n",
       "      <td>5611763203571712</td>\n",
       "      <td>[]</td>\n",
       "      <td>cd91310e-b3ea-47f0-8480-d699b476a400</td>\n",
       "      <td>Speaker 12</td>\n",
       "    </tr>\n",
       "    <tr>\n",
       "      <th>4</th>\n",
       "      <td>4934946956247040</td>\n",
       "      <td>Standard which.</td>\n",
       "      <td>2021-10-17T00:39:12.426Z</td>\n",
       "      <td>2021-10-17T00:39:14.426Z</td>\n",
       "      <td>5611763203571712</td>\n",
       "      <td>[]</td>\n",
       "      <td>66d8689e-8606-40e2-aa4b-28058f2067db</td>\n",
       "      <td>Speaker 11</td>\n",
       "    </tr>\n",
       "  </tbody>\n",
       "</table>\n",
       "</div>"
      ],
      "text/plain": [
       "                 id                                    text  \\\n",
       "0  5217668870176768              I can hit the gym does so.   \n",
       "1  5754971829043200  Because of the bureaucracy, and right.   \n",
       "2  6079902680875008                                   Army.   \n",
       "3  5922707481821184            Okay, I think we will get a.   \n",
       "4  4934946956247040                         Standard which.   \n",
       "\n",
       "                  startTime                   endTime    conversationId  \\\n",
       "0  2021-10-17T00:38:59.926Z  2021-10-17T00:39:01.526Z  5611763203571712   \n",
       "1  2021-10-17T00:39:03.726Z  2021-10-17T00:39:07.326Z  5611763203571712   \n",
       "2  2021-10-17T00:39:08.426Z  2021-10-17T00:39:08.726Z  5611763203571712   \n",
       "3  2021-10-17T00:39:11.126Z  2021-10-17T00:39:12.426Z  5611763203571712   \n",
       "4  2021-10-17T00:39:12.426Z  2021-10-17T00:39:14.426Z  5611763203571712   \n",
       "\n",
       "  phrases                               from.id   from.name  \n",
       "0      []  66d8689e-8606-40e2-aa4b-28058f2067db  Speaker 11  \n",
       "1      []  9ab722b4-7097-4fca-9f19-043ba94c70a8   Speaker 1  \n",
       "2      []  cd91310e-b3ea-47f0-8480-d699b476a400  Speaker 12  \n",
       "3      []  cd91310e-b3ea-47f0-8480-d699b476a400  Speaker 12  \n",
       "4      []  66d8689e-8606-40e2-aa4b-28058f2067db  Speaker 11  "
      ]
     },
     "execution_count": 97,
     "metadata": {},
     "output_type": "execute_result"
    }
   ],
   "source": [
    "speaker_transcript_df.head()"
   ]
  },
  {
   "cell_type": "code",
   "execution_count": 165,
   "metadata": {},
   "outputs": [
    {
     "data": {
      "text/plain": [
       "array(['Speaker 11', 'Speaker 1', 'Speaker 12', 'Speaker 9', 'Speaker 5',\n",
       "       'Speaker 13', 'Speaker 6', 'Speaker 8', 'Speaker 7', 'Speaker 10',\n",
       "       'Speaker 2', 'Speaker 3', 'Speaker 4'], dtype=object)"
      ]
     },
     "execution_count": 165,
     "metadata": {},
     "output_type": "execute_result"
    }
   ],
   "source": [
    "# Unique speakers\n",
    "speaker_transcript_df[\"from.name\"].unique()\n"
   ]
  },
  {
   "cell_type": "code",
   "execution_count": 163,
   "metadata": {},
   "outputs": [
    {
     "data": {
      "application/vnd.plotly.v1+json": {
       "config": {
        "plotlyServerURL": "https://plot.ly"
       },
       "data": [
        {
         "type": "bar",
         "x": [
          "Speaker 1",
          "Speaker 10",
          "Speaker 11",
          "Speaker 12",
          "Speaker 13",
          "Speaker 2",
          "Speaker 3",
          "Speaker 4",
          "Speaker 5",
          "Speaker 6",
          "Speaker 7",
          "Speaker 8",
          "Speaker 9"
         ],
         "y": [
          39,
          45,
          21,
          55,
          30,
          47,
          1,
          1,
          78,
          61,
          1,
          61,
          3
         ]
        }
       ],
       "layout": {
        "template": {
         "data": {
          "bar": [
           {
            "error_x": {
             "color": "#2a3f5f"
            },
            "error_y": {
             "color": "#2a3f5f"
            },
            "marker": {
             "line": {
              "color": "#E5ECF6",
              "width": 0.5
             },
             "pattern": {
              "fillmode": "overlay",
              "size": 10,
              "solidity": 0.2
             }
            },
            "type": "bar"
           }
          ],
          "barpolar": [
           {
            "marker": {
             "line": {
              "color": "#E5ECF6",
              "width": 0.5
             },
             "pattern": {
              "fillmode": "overlay",
              "size": 10,
              "solidity": 0.2
             }
            },
            "type": "barpolar"
           }
          ],
          "carpet": [
           {
            "aaxis": {
             "endlinecolor": "#2a3f5f",
             "gridcolor": "white",
             "linecolor": "white",
             "minorgridcolor": "white",
             "startlinecolor": "#2a3f5f"
            },
            "baxis": {
             "endlinecolor": "#2a3f5f",
             "gridcolor": "white",
             "linecolor": "white",
             "minorgridcolor": "white",
             "startlinecolor": "#2a3f5f"
            },
            "type": "carpet"
           }
          ],
          "choropleth": [
           {
            "colorbar": {
             "outlinewidth": 0,
             "ticks": ""
            },
            "type": "choropleth"
           }
          ],
          "contour": [
           {
            "colorbar": {
             "outlinewidth": 0,
             "ticks": ""
            },
            "colorscale": [
             [
              0,
              "#0d0887"
             ],
             [
              0.1111111111111111,
              "#46039f"
             ],
             [
              0.2222222222222222,
              "#7201a8"
             ],
             [
              0.3333333333333333,
              "#9c179e"
             ],
             [
              0.4444444444444444,
              "#bd3786"
             ],
             [
              0.5555555555555556,
              "#d8576b"
             ],
             [
              0.6666666666666666,
              "#ed7953"
             ],
             [
              0.7777777777777778,
              "#fb9f3a"
             ],
             [
              0.8888888888888888,
              "#fdca26"
             ],
             [
              1,
              "#f0f921"
             ]
            ],
            "type": "contour"
           }
          ],
          "contourcarpet": [
           {
            "colorbar": {
             "outlinewidth": 0,
             "ticks": ""
            },
            "type": "contourcarpet"
           }
          ],
          "heatmap": [
           {
            "colorbar": {
             "outlinewidth": 0,
             "ticks": ""
            },
            "colorscale": [
             [
              0,
              "#0d0887"
             ],
             [
              0.1111111111111111,
              "#46039f"
             ],
             [
              0.2222222222222222,
              "#7201a8"
             ],
             [
              0.3333333333333333,
              "#9c179e"
             ],
             [
              0.4444444444444444,
              "#bd3786"
             ],
             [
              0.5555555555555556,
              "#d8576b"
             ],
             [
              0.6666666666666666,
              "#ed7953"
             ],
             [
              0.7777777777777778,
              "#fb9f3a"
             ],
             [
              0.8888888888888888,
              "#fdca26"
             ],
             [
              1,
              "#f0f921"
             ]
            ],
            "type": "heatmap"
           }
          ],
          "heatmapgl": [
           {
            "colorbar": {
             "outlinewidth": 0,
             "ticks": ""
            },
            "colorscale": [
             [
              0,
              "#0d0887"
             ],
             [
              0.1111111111111111,
              "#46039f"
             ],
             [
              0.2222222222222222,
              "#7201a8"
             ],
             [
              0.3333333333333333,
              "#9c179e"
             ],
             [
              0.4444444444444444,
              "#bd3786"
             ],
             [
              0.5555555555555556,
              "#d8576b"
             ],
             [
              0.6666666666666666,
              "#ed7953"
             ],
             [
              0.7777777777777778,
              "#fb9f3a"
             ],
             [
              0.8888888888888888,
              "#fdca26"
             ],
             [
              1,
              "#f0f921"
             ]
            ],
            "type": "heatmapgl"
           }
          ],
          "histogram": [
           {
            "marker": {
             "pattern": {
              "fillmode": "overlay",
              "size": 10,
              "solidity": 0.2
             }
            },
            "type": "histogram"
           }
          ],
          "histogram2d": [
           {
            "colorbar": {
             "outlinewidth": 0,
             "ticks": ""
            },
            "colorscale": [
             [
              0,
              "#0d0887"
             ],
             [
              0.1111111111111111,
              "#46039f"
             ],
             [
              0.2222222222222222,
              "#7201a8"
             ],
             [
              0.3333333333333333,
              "#9c179e"
             ],
             [
              0.4444444444444444,
              "#bd3786"
             ],
             [
              0.5555555555555556,
              "#d8576b"
             ],
             [
              0.6666666666666666,
              "#ed7953"
             ],
             [
              0.7777777777777778,
              "#fb9f3a"
             ],
             [
              0.8888888888888888,
              "#fdca26"
             ],
             [
              1,
              "#f0f921"
             ]
            ],
            "type": "histogram2d"
           }
          ],
          "histogram2dcontour": [
           {
            "colorbar": {
             "outlinewidth": 0,
             "ticks": ""
            },
            "colorscale": [
             [
              0,
              "#0d0887"
             ],
             [
              0.1111111111111111,
              "#46039f"
             ],
             [
              0.2222222222222222,
              "#7201a8"
             ],
             [
              0.3333333333333333,
              "#9c179e"
             ],
             [
              0.4444444444444444,
              "#bd3786"
             ],
             [
              0.5555555555555556,
              "#d8576b"
             ],
             [
              0.6666666666666666,
              "#ed7953"
             ],
             [
              0.7777777777777778,
              "#fb9f3a"
             ],
             [
              0.8888888888888888,
              "#fdca26"
             ],
             [
              1,
              "#f0f921"
             ]
            ],
            "type": "histogram2dcontour"
           }
          ],
          "mesh3d": [
           {
            "colorbar": {
             "outlinewidth": 0,
             "ticks": ""
            },
            "type": "mesh3d"
           }
          ],
          "parcoords": [
           {
            "line": {
             "colorbar": {
              "outlinewidth": 0,
              "ticks": ""
             }
            },
            "type": "parcoords"
           }
          ],
          "pie": [
           {
            "automargin": true,
            "type": "pie"
           }
          ],
          "scatter": [
           {
            "marker": {
             "colorbar": {
              "outlinewidth": 0,
              "ticks": ""
             }
            },
            "type": "scatter"
           }
          ],
          "scatter3d": [
           {
            "line": {
             "colorbar": {
              "outlinewidth": 0,
              "ticks": ""
             }
            },
            "marker": {
             "colorbar": {
              "outlinewidth": 0,
              "ticks": ""
             }
            },
            "type": "scatter3d"
           }
          ],
          "scattercarpet": [
           {
            "marker": {
             "colorbar": {
              "outlinewidth": 0,
              "ticks": ""
             }
            },
            "type": "scattercarpet"
           }
          ],
          "scattergeo": [
           {
            "marker": {
             "colorbar": {
              "outlinewidth": 0,
              "ticks": ""
             }
            },
            "type": "scattergeo"
           }
          ],
          "scattergl": [
           {
            "marker": {
             "colorbar": {
              "outlinewidth": 0,
              "ticks": ""
             }
            },
            "type": "scattergl"
           }
          ],
          "scattermapbox": [
           {
            "marker": {
             "colorbar": {
              "outlinewidth": 0,
              "ticks": ""
             }
            },
            "type": "scattermapbox"
           }
          ],
          "scatterpolar": [
           {
            "marker": {
             "colorbar": {
              "outlinewidth": 0,
              "ticks": ""
             }
            },
            "type": "scatterpolar"
           }
          ],
          "scatterpolargl": [
           {
            "marker": {
             "colorbar": {
              "outlinewidth": 0,
              "ticks": ""
             }
            },
            "type": "scatterpolargl"
           }
          ],
          "scatterternary": [
           {
            "marker": {
             "colorbar": {
              "outlinewidth": 0,
              "ticks": ""
             }
            },
            "type": "scatterternary"
           }
          ],
          "surface": [
           {
            "colorbar": {
             "outlinewidth": 0,
             "ticks": ""
            },
            "colorscale": [
             [
              0,
              "#0d0887"
             ],
             [
              0.1111111111111111,
              "#46039f"
             ],
             [
              0.2222222222222222,
              "#7201a8"
             ],
             [
              0.3333333333333333,
              "#9c179e"
             ],
             [
              0.4444444444444444,
              "#bd3786"
             ],
             [
              0.5555555555555556,
              "#d8576b"
             ],
             [
              0.6666666666666666,
              "#ed7953"
             ],
             [
              0.7777777777777778,
              "#fb9f3a"
             ],
             [
              0.8888888888888888,
              "#fdca26"
             ],
             [
              1,
              "#f0f921"
             ]
            ],
            "type": "surface"
           }
          ],
          "table": [
           {
            "cells": {
             "fill": {
              "color": "#EBF0F8"
             },
             "line": {
              "color": "white"
             }
            },
            "header": {
             "fill": {
              "color": "#C8D4E3"
             },
             "line": {
              "color": "white"
             }
            },
            "type": "table"
           }
          ]
         },
         "layout": {
          "annotationdefaults": {
           "arrowcolor": "#2a3f5f",
           "arrowhead": 0,
           "arrowwidth": 1
          },
          "autotypenumbers": "strict",
          "coloraxis": {
           "colorbar": {
            "outlinewidth": 0,
            "ticks": ""
           }
          },
          "colorscale": {
           "diverging": [
            [
             0,
             "#8e0152"
            ],
            [
             0.1,
             "#c51b7d"
            ],
            [
             0.2,
             "#de77ae"
            ],
            [
             0.3,
             "#f1b6da"
            ],
            [
             0.4,
             "#fde0ef"
            ],
            [
             0.5,
             "#f7f7f7"
            ],
            [
             0.6,
             "#e6f5d0"
            ],
            [
             0.7,
             "#b8e186"
            ],
            [
             0.8,
             "#7fbc41"
            ],
            [
             0.9,
             "#4d9221"
            ],
            [
             1,
             "#276419"
            ]
           ],
           "sequential": [
            [
             0,
             "#0d0887"
            ],
            [
             0.1111111111111111,
             "#46039f"
            ],
            [
             0.2222222222222222,
             "#7201a8"
            ],
            [
             0.3333333333333333,
             "#9c179e"
            ],
            [
             0.4444444444444444,
             "#bd3786"
            ],
            [
             0.5555555555555556,
             "#d8576b"
            ],
            [
             0.6666666666666666,
             "#ed7953"
            ],
            [
             0.7777777777777778,
             "#fb9f3a"
            ],
            [
             0.8888888888888888,
             "#fdca26"
            ],
            [
             1,
             "#f0f921"
            ]
           ],
           "sequentialminus": [
            [
             0,
             "#0d0887"
            ],
            [
             0.1111111111111111,
             "#46039f"
            ],
            [
             0.2222222222222222,
             "#7201a8"
            ],
            [
             0.3333333333333333,
             "#9c179e"
            ],
            [
             0.4444444444444444,
             "#bd3786"
            ],
            [
             0.5555555555555556,
             "#d8576b"
            ],
            [
             0.6666666666666666,
             "#ed7953"
            ],
            [
             0.7777777777777778,
             "#fb9f3a"
            ],
            [
             0.8888888888888888,
             "#fdca26"
            ],
            [
             1,
             "#f0f921"
            ]
           ]
          },
          "colorway": [
           "#636efa",
           "#EF553B",
           "#00cc96",
           "#ab63fa",
           "#FFA15A",
           "#19d3f3",
           "#FF6692",
           "#B6E880",
           "#FF97FF",
           "#FECB52"
          ],
          "font": {
           "color": "#2a3f5f"
          },
          "geo": {
           "bgcolor": "white",
           "lakecolor": "white",
           "landcolor": "#E5ECF6",
           "showlakes": true,
           "showland": true,
           "subunitcolor": "white"
          },
          "hoverlabel": {
           "align": "left"
          },
          "hovermode": "closest",
          "mapbox": {
           "style": "light"
          },
          "paper_bgcolor": "white",
          "plot_bgcolor": "#E5ECF6",
          "polar": {
           "angularaxis": {
            "gridcolor": "white",
            "linecolor": "white",
            "ticks": ""
           },
           "bgcolor": "#E5ECF6",
           "radialaxis": {
            "gridcolor": "white",
            "linecolor": "white",
            "ticks": ""
           }
          },
          "scene": {
           "xaxis": {
            "backgroundcolor": "#E5ECF6",
            "gridcolor": "white",
            "gridwidth": 2,
            "linecolor": "white",
            "showbackground": true,
            "ticks": "",
            "zerolinecolor": "white"
           },
           "yaxis": {
            "backgroundcolor": "#E5ECF6",
            "gridcolor": "white",
            "gridwidth": 2,
            "linecolor": "white",
            "showbackground": true,
            "ticks": "",
            "zerolinecolor": "white"
           },
           "zaxis": {
            "backgroundcolor": "#E5ECF6",
            "gridcolor": "white",
            "gridwidth": 2,
            "linecolor": "white",
            "showbackground": true,
            "ticks": "",
            "zerolinecolor": "white"
           }
          },
          "shapedefaults": {
           "line": {
            "color": "#2a3f5f"
           }
          },
          "ternary": {
           "aaxis": {
            "gridcolor": "white",
            "linecolor": "white",
            "ticks": ""
           },
           "baxis": {
            "gridcolor": "white",
            "linecolor": "white",
            "ticks": ""
           },
           "bgcolor": "#E5ECF6",
           "caxis": {
            "gridcolor": "white",
            "linecolor": "white",
            "ticks": ""
           }
          },
          "title": {
           "x": 0.05
          },
          "xaxis": {
           "automargin": true,
           "gridcolor": "white",
           "linecolor": "white",
           "ticks": "",
           "title": {
            "standoff": 15
           },
           "zerolinecolor": "white",
           "zerolinewidth": 2
          },
          "yaxis": {
           "automargin": true,
           "gridcolor": "white",
           "linecolor": "white",
           "ticks": "",
           "title": {
            "standoff": 15
           },
           "zerolinecolor": "white",
           "zerolinewidth": 2
          }
         }
        },
        "title": {
         "text": "Speaker segment counts"
        },
        "xaxis": {
         "categoryorder": "total descending",
         "title": {
          "text": "Speakers"
         }
        },
        "yaxis": {
         "title": {
          "text": "Segment count"
         }
        }
       }
      },
      "text/html": [
       "<div>                            <div id=\"617734ca-0dc9-4d26-b7a7-8b524ccb8524\" class=\"plotly-graph-div\" style=\"height:525px; width:100%;\"></div>            <script type=\"text/javascript\">                require([\"plotly\"], function(Plotly) {                    window.PLOTLYENV=window.PLOTLYENV || {};                                    if (document.getElementById(\"617734ca-0dc9-4d26-b7a7-8b524ccb8524\")) {                    Plotly.newPlot(                        \"617734ca-0dc9-4d26-b7a7-8b524ccb8524\",                        [{\"type\":\"bar\",\"x\":[\"Speaker 1\",\"Speaker 10\",\"Speaker 11\",\"Speaker 12\",\"Speaker 13\",\"Speaker 2\",\"Speaker 3\",\"Speaker 4\",\"Speaker 5\",\"Speaker 6\",\"Speaker 7\",\"Speaker 8\",\"Speaker 9\"],\"y\":[39,45,21,55,30,47,1,1,78,61,1,61,3]}],                        {\"template\":{\"data\":{\"bar\":[{\"error_x\":{\"color\":\"#2a3f5f\"},\"error_y\":{\"color\":\"#2a3f5f\"},\"marker\":{\"line\":{\"color\":\"#E5ECF6\",\"width\":0.5},\"pattern\":{\"fillmode\":\"overlay\",\"size\":10,\"solidity\":0.2}},\"type\":\"bar\"}],\"barpolar\":[{\"marker\":{\"line\":{\"color\":\"#E5ECF6\",\"width\":0.5},\"pattern\":{\"fillmode\":\"overlay\",\"size\":10,\"solidity\":0.2}},\"type\":\"barpolar\"}],\"carpet\":[{\"aaxis\":{\"endlinecolor\":\"#2a3f5f\",\"gridcolor\":\"white\",\"linecolor\":\"white\",\"minorgridcolor\":\"white\",\"startlinecolor\":\"#2a3f5f\"},\"baxis\":{\"endlinecolor\":\"#2a3f5f\",\"gridcolor\":\"white\",\"linecolor\":\"white\",\"minorgridcolor\":\"white\",\"startlinecolor\":\"#2a3f5f\"},\"type\":\"carpet\"}],\"choropleth\":[{\"colorbar\":{\"outlinewidth\":0,\"ticks\":\"\"},\"type\":\"choropleth\"}],\"contour\":[{\"colorbar\":{\"outlinewidth\":0,\"ticks\":\"\"},\"colorscale\":[[0.0,\"#0d0887\"],[0.1111111111111111,\"#46039f\"],[0.2222222222222222,\"#7201a8\"],[0.3333333333333333,\"#9c179e\"],[0.4444444444444444,\"#bd3786\"],[0.5555555555555556,\"#d8576b\"],[0.6666666666666666,\"#ed7953\"],[0.7777777777777778,\"#fb9f3a\"],[0.8888888888888888,\"#fdca26\"],[1.0,\"#f0f921\"]],\"type\":\"contour\"}],\"contourcarpet\":[{\"colorbar\":{\"outlinewidth\":0,\"ticks\":\"\"},\"type\":\"contourcarpet\"}],\"heatmap\":[{\"colorbar\":{\"outlinewidth\":0,\"ticks\":\"\"},\"colorscale\":[[0.0,\"#0d0887\"],[0.1111111111111111,\"#46039f\"],[0.2222222222222222,\"#7201a8\"],[0.3333333333333333,\"#9c179e\"],[0.4444444444444444,\"#bd3786\"],[0.5555555555555556,\"#d8576b\"],[0.6666666666666666,\"#ed7953\"],[0.7777777777777778,\"#fb9f3a\"],[0.8888888888888888,\"#fdca26\"],[1.0,\"#f0f921\"]],\"type\":\"heatmap\"}],\"heatmapgl\":[{\"colorbar\":{\"outlinewidth\":0,\"ticks\":\"\"},\"colorscale\":[[0.0,\"#0d0887\"],[0.1111111111111111,\"#46039f\"],[0.2222222222222222,\"#7201a8\"],[0.3333333333333333,\"#9c179e\"],[0.4444444444444444,\"#bd3786\"],[0.5555555555555556,\"#d8576b\"],[0.6666666666666666,\"#ed7953\"],[0.7777777777777778,\"#fb9f3a\"],[0.8888888888888888,\"#fdca26\"],[1.0,\"#f0f921\"]],\"type\":\"heatmapgl\"}],\"histogram\":[{\"marker\":{\"pattern\":{\"fillmode\":\"overlay\",\"size\":10,\"solidity\":0.2}},\"type\":\"histogram\"}],\"histogram2d\":[{\"colorbar\":{\"outlinewidth\":0,\"ticks\":\"\"},\"colorscale\":[[0.0,\"#0d0887\"],[0.1111111111111111,\"#46039f\"],[0.2222222222222222,\"#7201a8\"],[0.3333333333333333,\"#9c179e\"],[0.4444444444444444,\"#bd3786\"],[0.5555555555555556,\"#d8576b\"],[0.6666666666666666,\"#ed7953\"],[0.7777777777777778,\"#fb9f3a\"],[0.8888888888888888,\"#fdca26\"],[1.0,\"#f0f921\"]],\"type\":\"histogram2d\"}],\"histogram2dcontour\":[{\"colorbar\":{\"outlinewidth\":0,\"ticks\":\"\"},\"colorscale\":[[0.0,\"#0d0887\"],[0.1111111111111111,\"#46039f\"],[0.2222222222222222,\"#7201a8\"],[0.3333333333333333,\"#9c179e\"],[0.4444444444444444,\"#bd3786\"],[0.5555555555555556,\"#d8576b\"],[0.6666666666666666,\"#ed7953\"],[0.7777777777777778,\"#fb9f3a\"],[0.8888888888888888,\"#fdca26\"],[1.0,\"#f0f921\"]],\"type\":\"histogram2dcontour\"}],\"mesh3d\":[{\"colorbar\":{\"outlinewidth\":0,\"ticks\":\"\"},\"type\":\"mesh3d\"}],\"parcoords\":[{\"line\":{\"colorbar\":{\"outlinewidth\":0,\"ticks\":\"\"}},\"type\":\"parcoords\"}],\"pie\":[{\"automargin\":true,\"type\":\"pie\"}],\"scatter\":[{\"marker\":{\"colorbar\":{\"outlinewidth\":0,\"ticks\":\"\"}},\"type\":\"scatter\"}],\"scatter3d\":[{\"line\":{\"colorbar\":{\"outlinewidth\":0,\"ticks\":\"\"}},\"marker\":{\"colorbar\":{\"outlinewidth\":0,\"ticks\":\"\"}},\"type\":\"scatter3d\"}],\"scattercarpet\":[{\"marker\":{\"colorbar\":{\"outlinewidth\":0,\"ticks\":\"\"}},\"type\":\"scattercarpet\"}],\"scattergeo\":[{\"marker\":{\"colorbar\":{\"outlinewidth\":0,\"ticks\":\"\"}},\"type\":\"scattergeo\"}],\"scattergl\":[{\"marker\":{\"colorbar\":{\"outlinewidth\":0,\"ticks\":\"\"}},\"type\":\"scattergl\"}],\"scattermapbox\":[{\"marker\":{\"colorbar\":{\"outlinewidth\":0,\"ticks\":\"\"}},\"type\":\"scattermapbox\"}],\"scatterpolar\":[{\"marker\":{\"colorbar\":{\"outlinewidth\":0,\"ticks\":\"\"}},\"type\":\"scatterpolar\"}],\"scatterpolargl\":[{\"marker\":{\"colorbar\":{\"outlinewidth\":0,\"ticks\":\"\"}},\"type\":\"scatterpolargl\"}],\"scatterternary\":[{\"marker\":{\"colorbar\":{\"outlinewidth\":0,\"ticks\":\"\"}},\"type\":\"scatterternary\"}],\"surface\":[{\"colorbar\":{\"outlinewidth\":0,\"ticks\":\"\"},\"colorscale\":[[0.0,\"#0d0887\"],[0.1111111111111111,\"#46039f\"],[0.2222222222222222,\"#7201a8\"],[0.3333333333333333,\"#9c179e\"],[0.4444444444444444,\"#bd3786\"],[0.5555555555555556,\"#d8576b\"],[0.6666666666666666,\"#ed7953\"],[0.7777777777777778,\"#fb9f3a\"],[0.8888888888888888,\"#fdca26\"],[1.0,\"#f0f921\"]],\"type\":\"surface\"}],\"table\":[{\"cells\":{\"fill\":{\"color\":\"#EBF0F8\"},\"line\":{\"color\":\"white\"}},\"header\":{\"fill\":{\"color\":\"#C8D4E3\"},\"line\":{\"color\":\"white\"}},\"type\":\"table\"}]},\"layout\":{\"annotationdefaults\":{\"arrowcolor\":\"#2a3f5f\",\"arrowhead\":0,\"arrowwidth\":1},\"autotypenumbers\":\"strict\",\"coloraxis\":{\"colorbar\":{\"outlinewidth\":0,\"ticks\":\"\"}},\"colorscale\":{\"diverging\":[[0,\"#8e0152\"],[0.1,\"#c51b7d\"],[0.2,\"#de77ae\"],[0.3,\"#f1b6da\"],[0.4,\"#fde0ef\"],[0.5,\"#f7f7f7\"],[0.6,\"#e6f5d0\"],[0.7,\"#b8e186\"],[0.8,\"#7fbc41\"],[0.9,\"#4d9221\"],[1,\"#276419\"]],\"sequential\":[[0.0,\"#0d0887\"],[0.1111111111111111,\"#46039f\"],[0.2222222222222222,\"#7201a8\"],[0.3333333333333333,\"#9c179e\"],[0.4444444444444444,\"#bd3786\"],[0.5555555555555556,\"#d8576b\"],[0.6666666666666666,\"#ed7953\"],[0.7777777777777778,\"#fb9f3a\"],[0.8888888888888888,\"#fdca26\"],[1.0,\"#f0f921\"]],\"sequentialminus\":[[0.0,\"#0d0887\"],[0.1111111111111111,\"#46039f\"],[0.2222222222222222,\"#7201a8\"],[0.3333333333333333,\"#9c179e\"],[0.4444444444444444,\"#bd3786\"],[0.5555555555555556,\"#d8576b\"],[0.6666666666666666,\"#ed7953\"],[0.7777777777777778,\"#fb9f3a\"],[0.8888888888888888,\"#fdca26\"],[1.0,\"#f0f921\"]]},\"colorway\":[\"#636efa\",\"#EF553B\",\"#00cc96\",\"#ab63fa\",\"#FFA15A\",\"#19d3f3\",\"#FF6692\",\"#B6E880\",\"#FF97FF\",\"#FECB52\"],\"font\":{\"color\":\"#2a3f5f\"},\"geo\":{\"bgcolor\":\"white\",\"lakecolor\":\"white\",\"landcolor\":\"#E5ECF6\",\"showlakes\":true,\"showland\":true,\"subunitcolor\":\"white\"},\"hoverlabel\":{\"align\":\"left\"},\"hovermode\":\"closest\",\"mapbox\":{\"style\":\"light\"},\"paper_bgcolor\":\"white\",\"plot_bgcolor\":\"#E5ECF6\",\"polar\":{\"angularaxis\":{\"gridcolor\":\"white\",\"linecolor\":\"white\",\"ticks\":\"\"},\"bgcolor\":\"#E5ECF6\",\"radialaxis\":{\"gridcolor\":\"white\",\"linecolor\":\"white\",\"ticks\":\"\"}},\"scene\":{\"xaxis\":{\"backgroundcolor\":\"#E5ECF6\",\"gridcolor\":\"white\",\"gridwidth\":2,\"linecolor\":\"white\",\"showbackground\":true,\"ticks\":\"\",\"zerolinecolor\":\"white\"},\"yaxis\":{\"backgroundcolor\":\"#E5ECF6\",\"gridcolor\":\"white\",\"gridwidth\":2,\"linecolor\":\"white\",\"showbackground\":true,\"ticks\":\"\",\"zerolinecolor\":\"white\"},\"zaxis\":{\"backgroundcolor\":\"#E5ECF6\",\"gridcolor\":\"white\",\"gridwidth\":2,\"linecolor\":\"white\",\"showbackground\":true,\"ticks\":\"\",\"zerolinecolor\":\"white\"}},\"shapedefaults\":{\"line\":{\"color\":\"#2a3f5f\"}},\"ternary\":{\"aaxis\":{\"gridcolor\":\"white\",\"linecolor\":\"white\",\"ticks\":\"\"},\"baxis\":{\"gridcolor\":\"white\",\"linecolor\":\"white\",\"ticks\":\"\"},\"bgcolor\":\"#E5ECF6\",\"caxis\":{\"gridcolor\":\"white\",\"linecolor\":\"white\",\"ticks\":\"\"}},\"title\":{\"x\":0.05},\"xaxis\":{\"automargin\":true,\"gridcolor\":\"white\",\"linecolor\":\"white\",\"ticks\":\"\",\"title\":{\"standoff\":15},\"zerolinecolor\":\"white\",\"zerolinewidth\":2},\"yaxis\":{\"automargin\":true,\"gridcolor\":\"white\",\"linecolor\":\"white\",\"ticks\":\"\",\"title\":{\"standoff\":15},\"zerolinecolor\":\"white\",\"zerolinewidth\":2}}},\"title\":{\"text\":\"Speaker segment counts\"},\"xaxis\":{\"categoryorder\":\"total descending\",\"title\":{\"text\":\"Speakers\"}},\"yaxis\":{\"title\":{\"text\":\"Segment count\"}}},                        {\"responsive\": true}                    ).then(function(){\n",
       "                            \n",
       "var gd = document.getElementById('617734ca-0dc9-4d26-b7a7-8b524ccb8524');\n",
       "var x = new MutationObserver(function (mutations, observer) {{\n",
       "        var display = window.getComputedStyle(gd).display;\n",
       "        if (!display || display === 'none') {{\n",
       "            console.log([gd, 'removed!']);\n",
       "            Plotly.purge(gd);\n",
       "            observer.disconnect();\n",
       "        }}\n",
       "}});\n",
       "\n",
       "// Listen for the removal of the full notebook cells\n",
       "var notebookContainer = gd.closest('#notebook-container');\n",
       "if (notebookContainer) {{\n",
       "    x.observe(notebookContainer, {childList: true});\n",
       "}}\n",
       "\n",
       "// Listen for the clearing of the current output cell\n",
       "var outputEl = gd.closest('.output');\n",
       "if (outputEl) {{\n",
       "    x.observe(outputEl, {childList: true});\n",
       "}}\n",
       "\n",
       "                        })                };                });            </script>        </div>"
      ]
     },
     "metadata": {},
     "output_type": "display_data"
    }
   ],
   "source": [
    "gb = speaker_transcript_df.groupby(by=\"from.name\", as_index=False)\n",
    "\n",
    "counts = gb.count()\n",
    "\n",
    "data = go.Bar(x=counts[\"from.name\"], y=counts[\"id\"])\n",
    "\n",
    "layout = go.Layout(title=\"Speaker segment counts\",\n",
    "                   xaxis={\"title\":\"Speakers\", \"categoryorder\": \"total descending\"},\n",
    "                   yaxis={\"title\":\"Segment count\"})\n",
    "\n",
    "go.Figure(data=data, layout=layout)\n",
    "\n"
   ]
  },
  {
   "cell_type": "code",
   "execution_count": 195,
   "metadata": {},
   "outputs": [
    {
     "data": {
      "text/html": [
       "<div>\n",
       "<style scoped>\n",
       "    .dataframe tbody tr th:only-of-type {\n",
       "        vertical-align: middle;\n",
       "    }\n",
       "\n",
       "    .dataframe tbody tr th {\n",
       "        vertical-align: top;\n",
       "    }\n",
       "\n",
       "    .dataframe thead th {\n",
       "        text-align: right;\n",
       "    }\n",
       "</style>\n",
       "<table border=\"1\" class=\"dataframe\">\n",
       "  <thead>\n",
       "    <tr style=\"text-align: right;\">\n",
       "      <th></th>\n",
       "      <th>id</th>\n",
       "      <th>text</th>\n",
       "      <th>startTime</th>\n",
       "      <th>endTime</th>\n",
       "      <th>conversationId</th>\n",
       "      <th>phrases</th>\n",
       "      <th>from.id</th>\n",
       "      <th>from.name</th>\n",
       "      <th>wordCount</th>\n",
       "      <th>nlp</th>\n",
       "    </tr>\n",
       "  </thead>\n",
       "  <tbody>\n",
       "    <tr>\n",
       "      <th>0</th>\n",
       "      <td>5217668870176768</td>\n",
       "      <td>I can hit the gym does so.</td>\n",
       "      <td>2021-10-17T00:38:59.926Z</td>\n",
       "      <td>2021-10-17T00:39:01.526Z</td>\n",
       "      <td>5611763203571712</td>\n",
       "      <td>[]</td>\n",
       "      <td>66d8689e-8606-40e2-aa4b-28058f2067db</td>\n",
       "      <td>Speaker 11</td>\n",
       "      <td>7</td>\n",
       "      <td>(I, can, hit, the, gym, does, so, .)</td>\n",
       "    </tr>\n",
       "    <tr>\n",
       "      <th>1</th>\n",
       "      <td>5754971829043200</td>\n",
       "      <td>Because of the bureaucracy, and right.</td>\n",
       "      <td>2021-10-17T00:39:03.726Z</td>\n",
       "      <td>2021-10-17T00:39:07.326Z</td>\n",
       "      <td>5611763203571712</td>\n",
       "      <td>[]</td>\n",
       "      <td>9ab722b4-7097-4fca-9f19-043ba94c70a8</td>\n",
       "      <td>Speaker 1</td>\n",
       "      <td>6</td>\n",
       "      <td>(Because, of, the, bureaucracy, ,, and, right, .)</td>\n",
       "    </tr>\n",
       "    <tr>\n",
       "      <th>2</th>\n",
       "      <td>6079902680875008</td>\n",
       "      <td>Army.</td>\n",
       "      <td>2021-10-17T00:39:08.426Z</td>\n",
       "      <td>2021-10-17T00:39:08.726Z</td>\n",
       "      <td>5611763203571712</td>\n",
       "      <td>[]</td>\n",
       "      <td>cd91310e-b3ea-47f0-8480-d699b476a400</td>\n",
       "      <td>Speaker 12</td>\n",
       "      <td>1</td>\n",
       "      <td>(Army, .)</td>\n",
       "    </tr>\n",
       "    <tr>\n",
       "      <th>3</th>\n",
       "      <td>5922707481821184</td>\n",
       "      <td>Okay, I think we will get a.</td>\n",
       "      <td>2021-10-17T00:39:11.126Z</td>\n",
       "      <td>2021-10-17T00:39:12.426Z</td>\n",
       "      <td>5611763203571712</td>\n",
       "      <td>[]</td>\n",
       "      <td>cd91310e-b3ea-47f0-8480-d699b476a400</td>\n",
       "      <td>Speaker 12</td>\n",
       "      <td>7</td>\n",
       "      <td>(Okay, ,, I, think, we, will, get, a.)</td>\n",
       "    </tr>\n",
       "    <tr>\n",
       "      <th>4</th>\n",
       "      <td>4934946956247040</td>\n",
       "      <td>Standard which.</td>\n",
       "      <td>2021-10-17T00:39:12.426Z</td>\n",
       "      <td>2021-10-17T00:39:14.426Z</td>\n",
       "      <td>5611763203571712</td>\n",
       "      <td>[]</td>\n",
       "      <td>66d8689e-8606-40e2-aa4b-28058f2067db</td>\n",
       "      <td>Speaker 11</td>\n",
       "      <td>2</td>\n",
       "      <td>(Standard, which, .)</td>\n",
       "    </tr>\n",
       "  </tbody>\n",
       "</table>\n",
       "</div>"
      ],
      "text/plain": [
       "                 id                                    text  \\\n",
       "0  5217668870176768              I can hit the gym does so.   \n",
       "1  5754971829043200  Because of the bureaucracy, and right.   \n",
       "2  6079902680875008                                   Army.   \n",
       "3  5922707481821184            Okay, I think we will get a.   \n",
       "4  4934946956247040                         Standard which.   \n",
       "\n",
       "                  startTime                   endTime    conversationId  \\\n",
       "0  2021-10-17T00:38:59.926Z  2021-10-17T00:39:01.526Z  5611763203571712   \n",
       "1  2021-10-17T00:39:03.726Z  2021-10-17T00:39:07.326Z  5611763203571712   \n",
       "2  2021-10-17T00:39:08.426Z  2021-10-17T00:39:08.726Z  5611763203571712   \n",
       "3  2021-10-17T00:39:11.126Z  2021-10-17T00:39:12.426Z  5611763203571712   \n",
       "4  2021-10-17T00:39:12.426Z  2021-10-17T00:39:14.426Z  5611763203571712   \n",
       "\n",
       "  phrases                               from.id   from.name  wordCount  \\\n",
       "0      []  66d8689e-8606-40e2-aa4b-28058f2067db  Speaker 11          7   \n",
       "1      []  9ab722b4-7097-4fca-9f19-043ba94c70a8   Speaker 1          6   \n",
       "2      []  cd91310e-b3ea-47f0-8480-d699b476a400  Speaker 12          1   \n",
       "3      []  cd91310e-b3ea-47f0-8480-d699b476a400  Speaker 12          7   \n",
       "4      []  66d8689e-8606-40e2-aa4b-28058f2067db  Speaker 11          2   \n",
       "\n",
       "                                                 nlp  \n",
       "0               (I, can, hit, the, gym, does, so, .)  \n",
       "1  (Because, of, the, bureaucracy, ,, and, right, .)  \n",
       "2                                          (Army, .)  \n",
       "3             (Okay, ,, I, think, we, will, get, a.)  \n",
       "4                               (Standard, which, .)  "
      ]
     },
     "execution_count": 195,
     "metadata": {},
     "output_type": "execute_result"
    }
   ],
   "source": [
    "nlp = spacy.load(\"en_core_web_sm\")\n",
    "\n",
    "speaker_data_df = speaker_transcript_df.copy()\n",
    "\n",
    "# Filter out punctuation tokens, then get count (len) of all tokens\n",
    "get_words = lambda txt: len([tok for tok in nlp(txt) if str(tok) not in ['.', '?', '!', ',']])\n",
    "\n",
    "# Set the wordCount colunm based on transformation of text through nlp\n",
    "speaker_data_df[\"wordCount\"] = [get_words(text) for text in speaker_data_df[\"text\"]]\n",
    "\n",
    "# Also setup named entities as a column\n",
    "speaker_data_df[\"nlp\"] = [nlp(text) for text in speaker_data_df[\"text\"]]\n",
    "\n",
    "speaker_data_df.head()"
   ]
  },
  {
   "cell_type": "code",
   "execution_count": 182,
   "metadata": {},
   "outputs": [
    {
     "data": {
      "application/vnd.plotly.v1+json": {
       "config": {
        "plotlyServerURL": "https://plot.ly"
       },
       "data": [
        {
         "type": "bar",
         "x": [
          "Speaker 1",
          "Speaker 10",
          "Speaker 11",
          "Speaker 12",
          "Speaker 13",
          "Speaker 2",
          "Speaker 3",
          "Speaker 4",
          "Speaker 5",
          "Speaker 6",
          "Speaker 7",
          "Speaker 8",
          "Speaker 9"
         ],
         "y": [
          408,
          717,
          153,
          354,
          79,
          134,
          3,
          3,
          807,
          567,
          1,
          523,
          6
         ]
        }
       ],
       "layout": {
        "template": {
         "data": {
          "bar": [
           {
            "error_x": {
             "color": "#2a3f5f"
            },
            "error_y": {
             "color": "#2a3f5f"
            },
            "marker": {
             "line": {
              "color": "#E5ECF6",
              "width": 0.5
             },
             "pattern": {
              "fillmode": "overlay",
              "size": 10,
              "solidity": 0.2
             }
            },
            "type": "bar"
           }
          ],
          "barpolar": [
           {
            "marker": {
             "line": {
              "color": "#E5ECF6",
              "width": 0.5
             },
             "pattern": {
              "fillmode": "overlay",
              "size": 10,
              "solidity": 0.2
             }
            },
            "type": "barpolar"
           }
          ],
          "carpet": [
           {
            "aaxis": {
             "endlinecolor": "#2a3f5f",
             "gridcolor": "white",
             "linecolor": "white",
             "minorgridcolor": "white",
             "startlinecolor": "#2a3f5f"
            },
            "baxis": {
             "endlinecolor": "#2a3f5f",
             "gridcolor": "white",
             "linecolor": "white",
             "minorgridcolor": "white",
             "startlinecolor": "#2a3f5f"
            },
            "type": "carpet"
           }
          ],
          "choropleth": [
           {
            "colorbar": {
             "outlinewidth": 0,
             "ticks": ""
            },
            "type": "choropleth"
           }
          ],
          "contour": [
           {
            "colorbar": {
             "outlinewidth": 0,
             "ticks": ""
            },
            "colorscale": [
             [
              0,
              "#0d0887"
             ],
             [
              0.1111111111111111,
              "#46039f"
             ],
             [
              0.2222222222222222,
              "#7201a8"
             ],
             [
              0.3333333333333333,
              "#9c179e"
             ],
             [
              0.4444444444444444,
              "#bd3786"
             ],
             [
              0.5555555555555556,
              "#d8576b"
             ],
             [
              0.6666666666666666,
              "#ed7953"
             ],
             [
              0.7777777777777778,
              "#fb9f3a"
             ],
             [
              0.8888888888888888,
              "#fdca26"
             ],
             [
              1,
              "#f0f921"
             ]
            ],
            "type": "contour"
           }
          ],
          "contourcarpet": [
           {
            "colorbar": {
             "outlinewidth": 0,
             "ticks": ""
            },
            "type": "contourcarpet"
           }
          ],
          "heatmap": [
           {
            "colorbar": {
             "outlinewidth": 0,
             "ticks": ""
            },
            "colorscale": [
             [
              0,
              "#0d0887"
             ],
             [
              0.1111111111111111,
              "#46039f"
             ],
             [
              0.2222222222222222,
              "#7201a8"
             ],
             [
              0.3333333333333333,
              "#9c179e"
             ],
             [
              0.4444444444444444,
              "#bd3786"
             ],
             [
              0.5555555555555556,
              "#d8576b"
             ],
             [
              0.6666666666666666,
              "#ed7953"
             ],
             [
              0.7777777777777778,
              "#fb9f3a"
             ],
             [
              0.8888888888888888,
              "#fdca26"
             ],
             [
              1,
              "#f0f921"
             ]
            ],
            "type": "heatmap"
           }
          ],
          "heatmapgl": [
           {
            "colorbar": {
             "outlinewidth": 0,
             "ticks": ""
            },
            "colorscale": [
             [
              0,
              "#0d0887"
             ],
             [
              0.1111111111111111,
              "#46039f"
             ],
             [
              0.2222222222222222,
              "#7201a8"
             ],
             [
              0.3333333333333333,
              "#9c179e"
             ],
             [
              0.4444444444444444,
              "#bd3786"
             ],
             [
              0.5555555555555556,
              "#d8576b"
             ],
             [
              0.6666666666666666,
              "#ed7953"
             ],
             [
              0.7777777777777778,
              "#fb9f3a"
             ],
             [
              0.8888888888888888,
              "#fdca26"
             ],
             [
              1,
              "#f0f921"
             ]
            ],
            "type": "heatmapgl"
           }
          ],
          "histogram": [
           {
            "marker": {
             "pattern": {
              "fillmode": "overlay",
              "size": 10,
              "solidity": 0.2
             }
            },
            "type": "histogram"
           }
          ],
          "histogram2d": [
           {
            "colorbar": {
             "outlinewidth": 0,
             "ticks": ""
            },
            "colorscale": [
             [
              0,
              "#0d0887"
             ],
             [
              0.1111111111111111,
              "#46039f"
             ],
             [
              0.2222222222222222,
              "#7201a8"
             ],
             [
              0.3333333333333333,
              "#9c179e"
             ],
             [
              0.4444444444444444,
              "#bd3786"
             ],
             [
              0.5555555555555556,
              "#d8576b"
             ],
             [
              0.6666666666666666,
              "#ed7953"
             ],
             [
              0.7777777777777778,
              "#fb9f3a"
             ],
             [
              0.8888888888888888,
              "#fdca26"
             ],
             [
              1,
              "#f0f921"
             ]
            ],
            "type": "histogram2d"
           }
          ],
          "histogram2dcontour": [
           {
            "colorbar": {
             "outlinewidth": 0,
             "ticks": ""
            },
            "colorscale": [
             [
              0,
              "#0d0887"
             ],
             [
              0.1111111111111111,
              "#46039f"
             ],
             [
              0.2222222222222222,
              "#7201a8"
             ],
             [
              0.3333333333333333,
              "#9c179e"
             ],
             [
              0.4444444444444444,
              "#bd3786"
             ],
             [
              0.5555555555555556,
              "#d8576b"
             ],
             [
              0.6666666666666666,
              "#ed7953"
             ],
             [
              0.7777777777777778,
              "#fb9f3a"
             ],
             [
              0.8888888888888888,
              "#fdca26"
             ],
             [
              1,
              "#f0f921"
             ]
            ],
            "type": "histogram2dcontour"
           }
          ],
          "mesh3d": [
           {
            "colorbar": {
             "outlinewidth": 0,
             "ticks": ""
            },
            "type": "mesh3d"
           }
          ],
          "parcoords": [
           {
            "line": {
             "colorbar": {
              "outlinewidth": 0,
              "ticks": ""
             }
            },
            "type": "parcoords"
           }
          ],
          "pie": [
           {
            "automargin": true,
            "type": "pie"
           }
          ],
          "scatter": [
           {
            "marker": {
             "colorbar": {
              "outlinewidth": 0,
              "ticks": ""
             }
            },
            "type": "scatter"
           }
          ],
          "scatter3d": [
           {
            "line": {
             "colorbar": {
              "outlinewidth": 0,
              "ticks": ""
             }
            },
            "marker": {
             "colorbar": {
              "outlinewidth": 0,
              "ticks": ""
             }
            },
            "type": "scatter3d"
           }
          ],
          "scattercarpet": [
           {
            "marker": {
             "colorbar": {
              "outlinewidth": 0,
              "ticks": ""
             }
            },
            "type": "scattercarpet"
           }
          ],
          "scattergeo": [
           {
            "marker": {
             "colorbar": {
              "outlinewidth": 0,
              "ticks": ""
             }
            },
            "type": "scattergeo"
           }
          ],
          "scattergl": [
           {
            "marker": {
             "colorbar": {
              "outlinewidth": 0,
              "ticks": ""
             }
            },
            "type": "scattergl"
           }
          ],
          "scattermapbox": [
           {
            "marker": {
             "colorbar": {
              "outlinewidth": 0,
              "ticks": ""
             }
            },
            "type": "scattermapbox"
           }
          ],
          "scatterpolar": [
           {
            "marker": {
             "colorbar": {
              "outlinewidth": 0,
              "ticks": ""
             }
            },
            "type": "scatterpolar"
           }
          ],
          "scatterpolargl": [
           {
            "marker": {
             "colorbar": {
              "outlinewidth": 0,
              "ticks": ""
             }
            },
            "type": "scatterpolargl"
           }
          ],
          "scatterternary": [
           {
            "marker": {
             "colorbar": {
              "outlinewidth": 0,
              "ticks": ""
             }
            },
            "type": "scatterternary"
           }
          ],
          "surface": [
           {
            "colorbar": {
             "outlinewidth": 0,
             "ticks": ""
            },
            "colorscale": [
             [
              0,
              "#0d0887"
             ],
             [
              0.1111111111111111,
              "#46039f"
             ],
             [
              0.2222222222222222,
              "#7201a8"
             ],
             [
              0.3333333333333333,
              "#9c179e"
             ],
             [
              0.4444444444444444,
              "#bd3786"
             ],
             [
              0.5555555555555556,
              "#d8576b"
             ],
             [
              0.6666666666666666,
              "#ed7953"
             ],
             [
              0.7777777777777778,
              "#fb9f3a"
             ],
             [
              0.8888888888888888,
              "#fdca26"
             ],
             [
              1,
              "#f0f921"
             ]
            ],
            "type": "surface"
           }
          ],
          "table": [
           {
            "cells": {
             "fill": {
              "color": "#EBF0F8"
             },
             "line": {
              "color": "white"
             }
            },
            "header": {
             "fill": {
              "color": "#C8D4E3"
             },
             "line": {
              "color": "white"
             }
            },
            "type": "table"
           }
          ]
         },
         "layout": {
          "annotationdefaults": {
           "arrowcolor": "#2a3f5f",
           "arrowhead": 0,
           "arrowwidth": 1
          },
          "autotypenumbers": "strict",
          "coloraxis": {
           "colorbar": {
            "outlinewidth": 0,
            "ticks": ""
           }
          },
          "colorscale": {
           "diverging": [
            [
             0,
             "#8e0152"
            ],
            [
             0.1,
             "#c51b7d"
            ],
            [
             0.2,
             "#de77ae"
            ],
            [
             0.3,
             "#f1b6da"
            ],
            [
             0.4,
             "#fde0ef"
            ],
            [
             0.5,
             "#f7f7f7"
            ],
            [
             0.6,
             "#e6f5d0"
            ],
            [
             0.7,
             "#b8e186"
            ],
            [
             0.8,
             "#7fbc41"
            ],
            [
             0.9,
             "#4d9221"
            ],
            [
             1,
             "#276419"
            ]
           ],
           "sequential": [
            [
             0,
             "#0d0887"
            ],
            [
             0.1111111111111111,
             "#46039f"
            ],
            [
             0.2222222222222222,
             "#7201a8"
            ],
            [
             0.3333333333333333,
             "#9c179e"
            ],
            [
             0.4444444444444444,
             "#bd3786"
            ],
            [
             0.5555555555555556,
             "#d8576b"
            ],
            [
             0.6666666666666666,
             "#ed7953"
            ],
            [
             0.7777777777777778,
             "#fb9f3a"
            ],
            [
             0.8888888888888888,
             "#fdca26"
            ],
            [
             1,
             "#f0f921"
            ]
           ],
           "sequentialminus": [
            [
             0,
             "#0d0887"
            ],
            [
             0.1111111111111111,
             "#46039f"
            ],
            [
             0.2222222222222222,
             "#7201a8"
            ],
            [
             0.3333333333333333,
             "#9c179e"
            ],
            [
             0.4444444444444444,
             "#bd3786"
            ],
            [
             0.5555555555555556,
             "#d8576b"
            ],
            [
             0.6666666666666666,
             "#ed7953"
            ],
            [
             0.7777777777777778,
             "#fb9f3a"
            ],
            [
             0.8888888888888888,
             "#fdca26"
            ],
            [
             1,
             "#f0f921"
            ]
           ]
          },
          "colorway": [
           "#636efa",
           "#EF553B",
           "#00cc96",
           "#ab63fa",
           "#FFA15A",
           "#19d3f3",
           "#FF6692",
           "#B6E880",
           "#FF97FF",
           "#FECB52"
          ],
          "font": {
           "color": "#2a3f5f"
          },
          "geo": {
           "bgcolor": "white",
           "lakecolor": "white",
           "landcolor": "#E5ECF6",
           "showlakes": true,
           "showland": true,
           "subunitcolor": "white"
          },
          "hoverlabel": {
           "align": "left"
          },
          "hovermode": "closest",
          "mapbox": {
           "style": "light"
          },
          "paper_bgcolor": "white",
          "plot_bgcolor": "#E5ECF6",
          "polar": {
           "angularaxis": {
            "gridcolor": "white",
            "linecolor": "white",
            "ticks": ""
           },
           "bgcolor": "#E5ECF6",
           "radialaxis": {
            "gridcolor": "white",
            "linecolor": "white",
            "ticks": ""
           }
          },
          "scene": {
           "xaxis": {
            "backgroundcolor": "#E5ECF6",
            "gridcolor": "white",
            "gridwidth": 2,
            "linecolor": "white",
            "showbackground": true,
            "ticks": "",
            "zerolinecolor": "white"
           },
           "yaxis": {
            "backgroundcolor": "#E5ECF6",
            "gridcolor": "white",
            "gridwidth": 2,
            "linecolor": "white",
            "showbackground": true,
            "ticks": "",
            "zerolinecolor": "white"
           },
           "zaxis": {
            "backgroundcolor": "#E5ECF6",
            "gridcolor": "white",
            "gridwidth": 2,
            "linecolor": "white",
            "showbackground": true,
            "ticks": "",
            "zerolinecolor": "white"
           }
          },
          "shapedefaults": {
           "line": {
            "color": "#2a3f5f"
           }
          },
          "ternary": {
           "aaxis": {
            "gridcolor": "white",
            "linecolor": "white",
            "ticks": ""
           },
           "baxis": {
            "gridcolor": "white",
            "linecolor": "white",
            "ticks": ""
           },
           "bgcolor": "#E5ECF6",
           "caxis": {
            "gridcolor": "white",
            "linecolor": "white",
            "ticks": ""
           }
          },
          "title": {
           "x": 0.05
          },
          "xaxis": {
           "automargin": true,
           "gridcolor": "white",
           "linecolor": "white",
           "ticks": "",
           "title": {
            "standoff": 15
           },
           "zerolinecolor": "white",
           "zerolinewidth": 2
          },
          "yaxis": {
           "automargin": true,
           "gridcolor": "white",
           "linecolor": "white",
           "ticks": "",
           "title": {
            "standoff": 15
           },
           "zerolinecolor": "white",
           "zerolinewidth": 2
          }
         }
        },
        "title": {
         "text": "Speaker word counts"
        },
        "xaxis": {
         "categoryorder": "total descending",
         "title": {
          "text": "Speakers"
         }
        },
        "yaxis": {
         "title": {
          "text": "Words"
         }
        }
       }
      },
      "text/html": [
       "<div>                            <div id=\"25306978-3e5e-4fee-a044-acf0173febdb\" class=\"plotly-graph-div\" style=\"height:525px; width:100%;\"></div>            <script type=\"text/javascript\">                require([\"plotly\"], function(Plotly) {                    window.PLOTLYENV=window.PLOTLYENV || {};                                    if (document.getElementById(\"25306978-3e5e-4fee-a044-acf0173febdb\")) {                    Plotly.newPlot(                        \"25306978-3e5e-4fee-a044-acf0173febdb\",                        [{\"type\":\"bar\",\"x\":[\"Speaker 1\",\"Speaker 10\",\"Speaker 11\",\"Speaker 12\",\"Speaker 13\",\"Speaker 2\",\"Speaker 3\",\"Speaker 4\",\"Speaker 5\",\"Speaker 6\",\"Speaker 7\",\"Speaker 8\",\"Speaker 9\"],\"y\":[408,717,153,354,79,134,3,3,807,567,1,523,6]}],                        {\"template\":{\"data\":{\"bar\":[{\"error_x\":{\"color\":\"#2a3f5f\"},\"error_y\":{\"color\":\"#2a3f5f\"},\"marker\":{\"line\":{\"color\":\"#E5ECF6\",\"width\":0.5},\"pattern\":{\"fillmode\":\"overlay\",\"size\":10,\"solidity\":0.2}},\"type\":\"bar\"}],\"barpolar\":[{\"marker\":{\"line\":{\"color\":\"#E5ECF6\",\"width\":0.5},\"pattern\":{\"fillmode\":\"overlay\",\"size\":10,\"solidity\":0.2}},\"type\":\"barpolar\"}],\"carpet\":[{\"aaxis\":{\"endlinecolor\":\"#2a3f5f\",\"gridcolor\":\"white\",\"linecolor\":\"white\",\"minorgridcolor\":\"white\",\"startlinecolor\":\"#2a3f5f\"},\"baxis\":{\"endlinecolor\":\"#2a3f5f\",\"gridcolor\":\"white\",\"linecolor\":\"white\",\"minorgridcolor\":\"white\",\"startlinecolor\":\"#2a3f5f\"},\"type\":\"carpet\"}],\"choropleth\":[{\"colorbar\":{\"outlinewidth\":0,\"ticks\":\"\"},\"type\":\"choropleth\"}],\"contour\":[{\"colorbar\":{\"outlinewidth\":0,\"ticks\":\"\"},\"colorscale\":[[0.0,\"#0d0887\"],[0.1111111111111111,\"#46039f\"],[0.2222222222222222,\"#7201a8\"],[0.3333333333333333,\"#9c179e\"],[0.4444444444444444,\"#bd3786\"],[0.5555555555555556,\"#d8576b\"],[0.6666666666666666,\"#ed7953\"],[0.7777777777777778,\"#fb9f3a\"],[0.8888888888888888,\"#fdca26\"],[1.0,\"#f0f921\"]],\"type\":\"contour\"}],\"contourcarpet\":[{\"colorbar\":{\"outlinewidth\":0,\"ticks\":\"\"},\"type\":\"contourcarpet\"}],\"heatmap\":[{\"colorbar\":{\"outlinewidth\":0,\"ticks\":\"\"},\"colorscale\":[[0.0,\"#0d0887\"],[0.1111111111111111,\"#46039f\"],[0.2222222222222222,\"#7201a8\"],[0.3333333333333333,\"#9c179e\"],[0.4444444444444444,\"#bd3786\"],[0.5555555555555556,\"#d8576b\"],[0.6666666666666666,\"#ed7953\"],[0.7777777777777778,\"#fb9f3a\"],[0.8888888888888888,\"#fdca26\"],[1.0,\"#f0f921\"]],\"type\":\"heatmap\"}],\"heatmapgl\":[{\"colorbar\":{\"outlinewidth\":0,\"ticks\":\"\"},\"colorscale\":[[0.0,\"#0d0887\"],[0.1111111111111111,\"#46039f\"],[0.2222222222222222,\"#7201a8\"],[0.3333333333333333,\"#9c179e\"],[0.4444444444444444,\"#bd3786\"],[0.5555555555555556,\"#d8576b\"],[0.6666666666666666,\"#ed7953\"],[0.7777777777777778,\"#fb9f3a\"],[0.8888888888888888,\"#fdca26\"],[1.0,\"#f0f921\"]],\"type\":\"heatmapgl\"}],\"histogram\":[{\"marker\":{\"pattern\":{\"fillmode\":\"overlay\",\"size\":10,\"solidity\":0.2}},\"type\":\"histogram\"}],\"histogram2d\":[{\"colorbar\":{\"outlinewidth\":0,\"ticks\":\"\"},\"colorscale\":[[0.0,\"#0d0887\"],[0.1111111111111111,\"#46039f\"],[0.2222222222222222,\"#7201a8\"],[0.3333333333333333,\"#9c179e\"],[0.4444444444444444,\"#bd3786\"],[0.5555555555555556,\"#d8576b\"],[0.6666666666666666,\"#ed7953\"],[0.7777777777777778,\"#fb9f3a\"],[0.8888888888888888,\"#fdca26\"],[1.0,\"#f0f921\"]],\"type\":\"histogram2d\"}],\"histogram2dcontour\":[{\"colorbar\":{\"outlinewidth\":0,\"ticks\":\"\"},\"colorscale\":[[0.0,\"#0d0887\"],[0.1111111111111111,\"#46039f\"],[0.2222222222222222,\"#7201a8\"],[0.3333333333333333,\"#9c179e\"],[0.4444444444444444,\"#bd3786\"],[0.5555555555555556,\"#d8576b\"],[0.6666666666666666,\"#ed7953\"],[0.7777777777777778,\"#fb9f3a\"],[0.8888888888888888,\"#fdca26\"],[1.0,\"#f0f921\"]],\"type\":\"histogram2dcontour\"}],\"mesh3d\":[{\"colorbar\":{\"outlinewidth\":0,\"ticks\":\"\"},\"type\":\"mesh3d\"}],\"parcoords\":[{\"line\":{\"colorbar\":{\"outlinewidth\":0,\"ticks\":\"\"}},\"type\":\"parcoords\"}],\"pie\":[{\"automargin\":true,\"type\":\"pie\"}],\"scatter\":[{\"marker\":{\"colorbar\":{\"outlinewidth\":0,\"ticks\":\"\"}},\"type\":\"scatter\"}],\"scatter3d\":[{\"line\":{\"colorbar\":{\"outlinewidth\":0,\"ticks\":\"\"}},\"marker\":{\"colorbar\":{\"outlinewidth\":0,\"ticks\":\"\"}},\"type\":\"scatter3d\"}],\"scattercarpet\":[{\"marker\":{\"colorbar\":{\"outlinewidth\":0,\"ticks\":\"\"}},\"type\":\"scattercarpet\"}],\"scattergeo\":[{\"marker\":{\"colorbar\":{\"outlinewidth\":0,\"ticks\":\"\"}},\"type\":\"scattergeo\"}],\"scattergl\":[{\"marker\":{\"colorbar\":{\"outlinewidth\":0,\"ticks\":\"\"}},\"type\":\"scattergl\"}],\"scattermapbox\":[{\"marker\":{\"colorbar\":{\"outlinewidth\":0,\"ticks\":\"\"}},\"type\":\"scattermapbox\"}],\"scatterpolar\":[{\"marker\":{\"colorbar\":{\"outlinewidth\":0,\"ticks\":\"\"}},\"type\":\"scatterpolar\"}],\"scatterpolargl\":[{\"marker\":{\"colorbar\":{\"outlinewidth\":0,\"ticks\":\"\"}},\"type\":\"scatterpolargl\"}],\"scatterternary\":[{\"marker\":{\"colorbar\":{\"outlinewidth\":0,\"ticks\":\"\"}},\"type\":\"scatterternary\"}],\"surface\":[{\"colorbar\":{\"outlinewidth\":0,\"ticks\":\"\"},\"colorscale\":[[0.0,\"#0d0887\"],[0.1111111111111111,\"#46039f\"],[0.2222222222222222,\"#7201a8\"],[0.3333333333333333,\"#9c179e\"],[0.4444444444444444,\"#bd3786\"],[0.5555555555555556,\"#d8576b\"],[0.6666666666666666,\"#ed7953\"],[0.7777777777777778,\"#fb9f3a\"],[0.8888888888888888,\"#fdca26\"],[1.0,\"#f0f921\"]],\"type\":\"surface\"}],\"table\":[{\"cells\":{\"fill\":{\"color\":\"#EBF0F8\"},\"line\":{\"color\":\"white\"}},\"header\":{\"fill\":{\"color\":\"#C8D4E3\"},\"line\":{\"color\":\"white\"}},\"type\":\"table\"}]},\"layout\":{\"annotationdefaults\":{\"arrowcolor\":\"#2a3f5f\",\"arrowhead\":0,\"arrowwidth\":1},\"autotypenumbers\":\"strict\",\"coloraxis\":{\"colorbar\":{\"outlinewidth\":0,\"ticks\":\"\"}},\"colorscale\":{\"diverging\":[[0,\"#8e0152\"],[0.1,\"#c51b7d\"],[0.2,\"#de77ae\"],[0.3,\"#f1b6da\"],[0.4,\"#fde0ef\"],[0.5,\"#f7f7f7\"],[0.6,\"#e6f5d0\"],[0.7,\"#b8e186\"],[0.8,\"#7fbc41\"],[0.9,\"#4d9221\"],[1,\"#276419\"]],\"sequential\":[[0.0,\"#0d0887\"],[0.1111111111111111,\"#46039f\"],[0.2222222222222222,\"#7201a8\"],[0.3333333333333333,\"#9c179e\"],[0.4444444444444444,\"#bd3786\"],[0.5555555555555556,\"#d8576b\"],[0.6666666666666666,\"#ed7953\"],[0.7777777777777778,\"#fb9f3a\"],[0.8888888888888888,\"#fdca26\"],[1.0,\"#f0f921\"]],\"sequentialminus\":[[0.0,\"#0d0887\"],[0.1111111111111111,\"#46039f\"],[0.2222222222222222,\"#7201a8\"],[0.3333333333333333,\"#9c179e\"],[0.4444444444444444,\"#bd3786\"],[0.5555555555555556,\"#d8576b\"],[0.6666666666666666,\"#ed7953\"],[0.7777777777777778,\"#fb9f3a\"],[0.8888888888888888,\"#fdca26\"],[1.0,\"#f0f921\"]]},\"colorway\":[\"#636efa\",\"#EF553B\",\"#00cc96\",\"#ab63fa\",\"#FFA15A\",\"#19d3f3\",\"#FF6692\",\"#B6E880\",\"#FF97FF\",\"#FECB52\"],\"font\":{\"color\":\"#2a3f5f\"},\"geo\":{\"bgcolor\":\"white\",\"lakecolor\":\"white\",\"landcolor\":\"#E5ECF6\",\"showlakes\":true,\"showland\":true,\"subunitcolor\":\"white\"},\"hoverlabel\":{\"align\":\"left\"},\"hovermode\":\"closest\",\"mapbox\":{\"style\":\"light\"},\"paper_bgcolor\":\"white\",\"plot_bgcolor\":\"#E5ECF6\",\"polar\":{\"angularaxis\":{\"gridcolor\":\"white\",\"linecolor\":\"white\",\"ticks\":\"\"},\"bgcolor\":\"#E5ECF6\",\"radialaxis\":{\"gridcolor\":\"white\",\"linecolor\":\"white\",\"ticks\":\"\"}},\"scene\":{\"xaxis\":{\"backgroundcolor\":\"#E5ECF6\",\"gridcolor\":\"white\",\"gridwidth\":2,\"linecolor\":\"white\",\"showbackground\":true,\"ticks\":\"\",\"zerolinecolor\":\"white\"},\"yaxis\":{\"backgroundcolor\":\"#E5ECF6\",\"gridcolor\":\"white\",\"gridwidth\":2,\"linecolor\":\"white\",\"showbackground\":true,\"ticks\":\"\",\"zerolinecolor\":\"white\"},\"zaxis\":{\"backgroundcolor\":\"#E5ECF6\",\"gridcolor\":\"white\",\"gridwidth\":2,\"linecolor\":\"white\",\"showbackground\":true,\"ticks\":\"\",\"zerolinecolor\":\"white\"}},\"shapedefaults\":{\"line\":{\"color\":\"#2a3f5f\"}},\"ternary\":{\"aaxis\":{\"gridcolor\":\"white\",\"linecolor\":\"white\",\"ticks\":\"\"},\"baxis\":{\"gridcolor\":\"white\",\"linecolor\":\"white\",\"ticks\":\"\"},\"bgcolor\":\"#E5ECF6\",\"caxis\":{\"gridcolor\":\"white\",\"linecolor\":\"white\",\"ticks\":\"\"}},\"title\":{\"x\":0.05},\"xaxis\":{\"automargin\":true,\"gridcolor\":\"white\",\"linecolor\":\"white\",\"ticks\":\"\",\"title\":{\"standoff\":15},\"zerolinecolor\":\"white\",\"zerolinewidth\":2},\"yaxis\":{\"automargin\":true,\"gridcolor\":\"white\",\"linecolor\":\"white\",\"ticks\":\"\",\"title\":{\"standoff\":15},\"zerolinecolor\":\"white\",\"zerolinewidth\":2}}},\"title\":{\"text\":\"Speaker word counts\"},\"xaxis\":{\"categoryorder\":\"total descending\",\"title\":{\"text\":\"Speakers\"}},\"yaxis\":{\"title\":{\"text\":\"Words\"}}},                        {\"responsive\": true}                    ).then(function(){\n",
       "                            \n",
       "var gd = document.getElementById('25306978-3e5e-4fee-a044-acf0173febdb');\n",
       "var x = new MutationObserver(function (mutations, observer) {{\n",
       "        var display = window.getComputedStyle(gd).display;\n",
       "        if (!display || display === 'none') {{\n",
       "            console.log([gd, 'removed!']);\n",
       "            Plotly.purge(gd);\n",
       "            observer.disconnect();\n",
       "        }}\n",
       "}});\n",
       "\n",
       "// Listen for the removal of the full notebook cells\n",
       "var notebookContainer = gd.closest('#notebook-container');\n",
       "if (notebookContainer) {{\n",
       "    x.observe(notebookContainer, {childList: true});\n",
       "}}\n",
       "\n",
       "// Listen for the clearing of the current output cell\n",
       "var outputEl = gd.closest('.output');\n",
       "if (outputEl) {{\n",
       "    x.observe(outputEl, {childList: true});\n",
       "}}\n",
       "\n",
       "                        })                };                });            </script>        </div>"
      ]
     },
     "metadata": {},
     "output_type": "display_data"
    }
   ],
   "source": [
    "gb = speaker_data_df.groupby(by=\"from.name\", as_index=False)\n",
    "\n",
    "sums = gb.sum()\n",
    "\n",
    "data = go.Bar(x=sums[\"from.name\"], y=sums[\"wordCount\"])\n",
    "\n",
    "layout = go.Layout(title=\"Speaker word counts\",\n",
    "                   xaxis={\"title\":\"Speakers\", \"categoryorder\": \"total descending\"},\n",
    "                   yaxis={\"title\":\"Words\"})\n",
    "\n",
    "go.Figure(data=data, layout=layout)\n"
   ]
  },
  {
   "cell_type": "code",
   "execution_count": 199,
   "metadata": {},
   "outputs": [
    {
     "data": {
      "text/html": [
       "<div>\n",
       "<style scoped>\n",
       "    .dataframe tbody tr th:only-of-type {\n",
       "        vertical-align: middle;\n",
       "    }\n",
       "\n",
       "    .dataframe tbody tr th {\n",
       "        vertical-align: top;\n",
       "    }\n",
       "\n",
       "    .dataframe thead th {\n",
       "        text-align: right;\n",
       "    }\n",
       "</style>\n",
       "<table border=\"1\" class=\"dataframe\">\n",
       "  <thead>\n",
       "    <tr style=\"text-align: right;\">\n",
       "      <th></th>\n",
       "      <th>id</th>\n",
       "      <th>text</th>\n",
       "      <th>startTime</th>\n",
       "      <th>endTime</th>\n",
       "      <th>conversationId</th>\n",
       "      <th>phrases</th>\n",
       "      <th>from.id</th>\n",
       "      <th>from.name</th>\n",
       "      <th>wordCount</th>\n",
       "      <th>nlp</th>\n",
       "      <th>sentiment</th>\n",
       "      <th>ents</th>\n",
       "    </tr>\n",
       "  </thead>\n",
       "  <tbody>\n",
       "    <tr>\n",
       "      <th>0</th>\n",
       "      <td>5217668870176768</td>\n",
       "      <td>I can hit the gym does so.</td>\n",
       "      <td>2021-10-17T00:38:59.926Z</td>\n",
       "      <td>2021-10-17T00:39:01.526Z</td>\n",
       "      <td>5611763203571712</td>\n",
       "      <td>[]</td>\n",
       "      <td>66d8689e-8606-40e2-aa4b-28058f2067db</td>\n",
       "      <td>Speaker 11</td>\n",
       "      <td>7</td>\n",
       "      <td>(I, can, hit, the, gym, does, so, .)</td>\n",
       "      <td>0.0</td>\n",
       "      <td>()</td>\n",
       "    </tr>\n",
       "    <tr>\n",
       "      <th>1</th>\n",
       "      <td>5754971829043200</td>\n",
       "      <td>Because of the bureaucracy, and right.</td>\n",
       "      <td>2021-10-17T00:39:03.726Z</td>\n",
       "      <td>2021-10-17T00:39:07.326Z</td>\n",
       "      <td>5611763203571712</td>\n",
       "      <td>[]</td>\n",
       "      <td>9ab722b4-7097-4fca-9f19-043ba94c70a8</td>\n",
       "      <td>Speaker 1</td>\n",
       "      <td>6</td>\n",
       "      <td>(Because, of, the, bureaucracy, ,, and, right, .)</td>\n",
       "      <td>0.0</td>\n",
       "      <td>()</td>\n",
       "    </tr>\n",
       "    <tr>\n",
       "      <th>2</th>\n",
       "      <td>6079902680875008</td>\n",
       "      <td>Army.</td>\n",
       "      <td>2021-10-17T00:39:08.426Z</td>\n",
       "      <td>2021-10-17T00:39:08.726Z</td>\n",
       "      <td>5611763203571712</td>\n",
       "      <td>[]</td>\n",
       "      <td>cd91310e-b3ea-47f0-8480-d699b476a400</td>\n",
       "      <td>Speaker 12</td>\n",
       "      <td>1</td>\n",
       "      <td>(Army, .)</td>\n",
       "      <td>0.0</td>\n",
       "      <td>((Army),)</td>\n",
       "    </tr>\n",
       "    <tr>\n",
       "      <th>3</th>\n",
       "      <td>5922707481821184</td>\n",
       "      <td>Okay, I think we will get a.</td>\n",
       "      <td>2021-10-17T00:39:11.126Z</td>\n",
       "      <td>2021-10-17T00:39:12.426Z</td>\n",
       "      <td>5611763203571712</td>\n",
       "      <td>[]</td>\n",
       "      <td>cd91310e-b3ea-47f0-8480-d699b476a400</td>\n",
       "      <td>Speaker 12</td>\n",
       "      <td>7</td>\n",
       "      <td>(Okay, ,, I, think, we, will, get, a.)</td>\n",
       "      <td>0.0</td>\n",
       "      <td>()</td>\n",
       "    </tr>\n",
       "    <tr>\n",
       "      <th>4</th>\n",
       "      <td>4934946956247040</td>\n",
       "      <td>Standard which.</td>\n",
       "      <td>2021-10-17T00:39:12.426Z</td>\n",
       "      <td>2021-10-17T00:39:14.426Z</td>\n",
       "      <td>5611763203571712</td>\n",
       "      <td>[]</td>\n",
       "      <td>66d8689e-8606-40e2-aa4b-28058f2067db</td>\n",
       "      <td>Speaker 11</td>\n",
       "      <td>2</td>\n",
       "      <td>(Standard, which, .)</td>\n",
       "      <td>0.0</td>\n",
       "      <td>()</td>\n",
       "    </tr>\n",
       "  </tbody>\n",
       "</table>\n",
       "</div>"
      ],
      "text/plain": [
       "                 id                                    text  \\\n",
       "0  5217668870176768              I can hit the gym does so.   \n",
       "1  5754971829043200  Because of the bureaucracy, and right.   \n",
       "2  6079902680875008                                   Army.   \n",
       "3  5922707481821184            Okay, I think we will get a.   \n",
       "4  4934946956247040                         Standard which.   \n",
       "\n",
       "                  startTime                   endTime    conversationId  \\\n",
       "0  2021-10-17T00:38:59.926Z  2021-10-17T00:39:01.526Z  5611763203571712   \n",
       "1  2021-10-17T00:39:03.726Z  2021-10-17T00:39:07.326Z  5611763203571712   \n",
       "2  2021-10-17T00:39:08.426Z  2021-10-17T00:39:08.726Z  5611763203571712   \n",
       "3  2021-10-17T00:39:11.126Z  2021-10-17T00:39:12.426Z  5611763203571712   \n",
       "4  2021-10-17T00:39:12.426Z  2021-10-17T00:39:14.426Z  5611763203571712   \n",
       "\n",
       "  phrases                               from.id   from.name  wordCount  \\\n",
       "0      []  66d8689e-8606-40e2-aa4b-28058f2067db  Speaker 11          7   \n",
       "1      []  9ab722b4-7097-4fca-9f19-043ba94c70a8   Speaker 1          6   \n",
       "2      []  cd91310e-b3ea-47f0-8480-d699b476a400  Speaker 12          1   \n",
       "3      []  cd91310e-b3ea-47f0-8480-d699b476a400  Speaker 12          7   \n",
       "4      []  66d8689e-8606-40e2-aa4b-28058f2067db  Speaker 11          2   \n",
       "\n",
       "                                                 nlp  sentiment       ents  \n",
       "0               (I, can, hit, the, gym, does, so, .)        0.0         ()  \n",
       "1  (Because, of, the, bureaucracy, ,, and, right, .)        0.0         ()  \n",
       "2                                          (Army, .)        0.0  ((Army),)  \n",
       "3             (Okay, ,, I, think, we, will, get, a.)        0.0         ()  \n",
       "4                               (Standard, which, .)        0.0         ()  "
      ]
     },
     "execution_count": 199,
     "metadata": {},
     "output_type": "execute_result"
    }
   ],
   "source": [
    "speaker_data_df[\"sentiment\"] = [text.sentiment for text in speaker_data_df[\"nlp\"]]\n",
    "speaker_data_df[\"ents\"] = [text.ents for text in speaker_data_df[\"nlp\"]]\n",
    "\n",
    "speaker_data_df.head()\n"
   ]
  },
  {
   "cell_type": "code",
   "execution_count": 219,
   "metadata": {},
   "outputs": [
    {
     "data": {
      "application/vnd.plotly.v1+json": {
       "config": {
        "plotlyServerURL": "https://plot.ly"
       },
       "data": [
        {
         "type": "scatter",
         "x": [
          "2021-10-17T00:38:59.926Z",
          "2021-10-17T00:39:03.726Z",
          "2021-10-17T00:39:08.426Z",
          "2021-10-17T00:39:11.126Z",
          "2021-10-17T00:39:12.426Z",
          "2021-10-17T00:39:14.426Z",
          "2021-10-17T00:39:15.426Z",
          "2021-10-17T00:39:16.026Z",
          "2021-10-17T00:39:16.626Z",
          "2021-10-17T00:39:18.526Z",
          "2021-10-17T00:40:15.226Z",
          "2021-10-17T00:40:26.426Z",
          "2021-10-17T00:40:28.726Z",
          "2021-10-17T00:40:30.926Z",
          "2021-10-17T00:40:34.026Z",
          "2021-10-17T00:40:39.126Z",
          "2021-10-17T00:40:44.426Z",
          "2021-10-17T00:41:03.926Z",
          "2021-10-17T00:41:04.726Z",
          "2021-10-17T00:41:07.726Z",
          "2021-10-17T00:41:11.026Z",
          "2021-10-17T00:41:12.526Z",
          "2021-10-17T00:41:18.826Z",
          "2021-10-17T00:41:22.726Z",
          "2021-10-17T00:41:24.526Z",
          "2021-10-17T00:41:33.726Z",
          "2021-10-17T00:41:37.326Z",
          "2021-10-17T00:41:51.926Z",
          "2021-10-17T00:41:57.426Z",
          "2021-10-17T00:42:00.426Z",
          "2021-10-17T00:42:03.026Z",
          "2021-10-17T00:42:03.326Z",
          "2021-10-17T00:42:07.726Z",
          "2021-10-17T00:42:08.926Z",
          "2021-10-17T00:42:14.526Z",
          "2021-10-17T00:42:18.026Z",
          "2021-10-17T00:42:22.426Z",
          "2021-10-17T00:42:23.926Z",
          "2021-10-17T00:42:24.326Z",
          "2021-10-17T00:42:25.826Z",
          "2021-10-17T00:42:26.826Z",
          "2021-10-17T00:42:27.926Z",
          "2021-10-17T00:42:28.726Z",
          "2021-10-17T00:42:30.726Z",
          "2021-10-17T00:42:31.426Z",
          "2021-10-17T00:42:33.626Z",
          "2021-10-17T00:42:38.626Z",
          "2021-10-17T00:42:39.126Z",
          "2021-10-17T00:42:45.926Z",
          "2021-10-17T00:42:52.526Z",
          "2021-10-17T00:43:00.526Z",
          "2021-10-17T00:43:12.026Z",
          "2021-10-17T00:43:15.826Z",
          "2021-10-17T00:43:17.426Z",
          "2021-10-17T00:43:30.626Z",
          "2021-10-17T00:43:35.026Z",
          "2021-10-17T00:43:42.726Z",
          "2021-10-17T00:43:45.526Z",
          "2021-10-17T00:43:49.626Z",
          "2021-10-17T00:43:52.826Z",
          "2021-10-17T00:43:57.426Z",
          "2021-10-17T00:44:03.626Z",
          "2021-10-17T00:44:05.726Z",
          "2021-10-17T00:44:11.626Z",
          "2021-10-17T00:44:16.926Z",
          "2021-10-17T00:44:26.626Z",
          "2021-10-17T00:44:32.726Z",
          "2021-10-17T00:44:35.826Z",
          "2021-10-17T00:44:38.526Z",
          "2021-10-17T00:44:40.926Z",
          "2021-10-17T00:44:41.226Z",
          "2021-10-17T00:44:41.826Z",
          "2021-10-17T00:44:42.126Z",
          "2021-10-17T00:44:42.626Z",
          "2021-10-17T00:44:45.326Z",
          "2021-10-17T00:44:49.526Z",
          "2021-10-17T00:44:52.626Z",
          "2021-10-17T00:44:53.326Z",
          "2021-10-17T00:44:56.126Z",
          "2021-10-17T00:44:57.826Z",
          "2021-10-17T00:45:03.726Z",
          "2021-10-17T00:45:08.226Z",
          "2021-10-17T00:45:11.926Z",
          "2021-10-17T00:45:15.926Z",
          "2021-10-17T00:45:23.126Z",
          "2021-10-17T00:45:27.526Z",
          "2021-10-17T00:45:28.526Z",
          "2021-10-17T00:45:29.826Z",
          "2021-10-17T00:45:32.626Z",
          "2021-10-17T00:45:33.126Z",
          "2021-10-17T00:45:33.426Z",
          "2021-10-17T00:45:37.126Z",
          "2021-10-17T00:45:43.826Z",
          "2021-10-17T00:45:47.826Z",
          "2021-10-17T00:46:00.526Z",
          "2021-10-17T00:46:01.526Z",
          "2021-10-17T00:46:03.126Z",
          "2021-10-17T00:46:05.226Z",
          "2021-10-17T00:46:10.426Z",
          "2021-10-17T00:46:13.526Z",
          "2021-10-17T00:46:14.826Z",
          "2021-10-17T00:46:18.626Z",
          "2021-10-17T00:46:24.026Z",
          "2021-10-17T00:46:28.526Z",
          "2021-10-17T00:46:36.326Z",
          "2021-10-17T00:46:36.526Z",
          "2021-10-17T00:46:37.326Z",
          "2021-10-17T00:46:40.726Z",
          "2021-10-17T00:46:43.526Z",
          "2021-10-17T00:46:45.026Z",
          "2021-10-17T00:46:45.126Z",
          "2021-10-17T00:46:52.126Z",
          "2021-10-17T00:46:54.726Z",
          "2021-10-17T00:46:54.926Z",
          "2021-10-17T00:46:56.626Z",
          "2021-10-17T00:46:58.526Z",
          "2021-10-17T00:47:00.526Z",
          "2021-10-17T00:47:01.826Z",
          "2021-10-17T00:47:09.726Z",
          "2021-10-17T00:47:13.526Z",
          "2021-10-17T00:47:16.726Z",
          "2021-10-17T00:47:17.126Z",
          "2021-10-17T00:47:23.126Z",
          "2021-10-17T00:47:24.326Z",
          "2021-10-17T00:47:31.326Z",
          "2021-10-17T00:47:32.426Z",
          "2021-10-17T00:47:34.926Z",
          "2021-10-17T00:47:36.126Z",
          "2021-10-17T00:47:39.226Z",
          "2021-10-17T00:47:41.026Z",
          "2021-10-17T00:47:46.226Z",
          "2021-10-17T00:47:48.626Z",
          "2021-10-17T00:47:52.026Z",
          "2021-10-17T00:47:52.426Z",
          "2021-10-17T00:47:56.826Z",
          "2021-10-17T00:47:57.226Z",
          "2021-10-17T00:48:01.226Z",
          "2021-10-17T00:48:01.426Z",
          "2021-10-17T00:48:03.126Z",
          "2021-10-17T00:48:06.326Z",
          "2021-10-17T00:48:07.826Z",
          "2021-10-17T00:48:09.426Z",
          "2021-10-17T00:48:09.826Z",
          "2021-10-17T00:48:12.926Z",
          "2021-10-17T00:48:20.526Z",
          "2021-10-17T00:48:22.126Z",
          "2021-10-17T00:48:26.526Z",
          "2021-10-17T00:48:29.826Z",
          "2021-10-17T00:48:30.726Z",
          "2021-10-17T00:48:32.126Z",
          "2021-10-17T00:48:41.426Z",
          "2021-10-17T00:48:42.626Z",
          "2021-10-17T00:48:51.026Z",
          "2021-10-17T00:48:52.126Z",
          "2021-10-17T00:48:53.526Z",
          "2021-10-17T00:48:54.426Z",
          "2021-10-17T00:48:56.726Z",
          "2021-10-17T00:49:02.126Z",
          "2021-10-17T00:49:04.726Z",
          "2021-10-17T00:49:06.226Z",
          "2021-10-17T00:49:08.826Z",
          "2021-10-17T00:49:12.626Z",
          "2021-10-17T00:49:14.226Z",
          "2021-10-17T00:49:17.926Z",
          "2021-10-17T00:49:19.226Z",
          "2021-10-17T00:49:23.826Z",
          "2021-10-17T00:49:24.926Z",
          "2021-10-17T00:49:27.826Z",
          "2021-10-17T00:49:29.726Z",
          "2021-10-17T00:49:41.926Z",
          "2021-10-17T00:49:46.126Z",
          "2021-10-17T00:49:50.226Z",
          "2021-10-17T00:49:51.326Z",
          "2021-10-17T00:49:55.926Z",
          "2021-10-17T00:49:57.326Z",
          "2021-10-17T00:50:01.326Z",
          "2021-10-17T00:50:06.126Z",
          "2021-10-17T00:50:12.626Z",
          "2021-10-17T00:50:14.526Z",
          "2021-10-17T00:50:16.426Z",
          "2021-10-17T00:50:20.726Z",
          "2021-10-17T00:50:22.426Z",
          "2021-10-17T00:50:25.526Z",
          "2021-10-17T00:50:31.026Z",
          "2021-10-17T00:50:33.426Z",
          "2021-10-17T00:50:35.426Z",
          "2021-10-17T00:50:42.726Z",
          "2021-10-17T00:50:47.726Z",
          "2021-10-17T00:50:50.526Z",
          "2021-10-17T00:50:53.826Z",
          "2021-10-17T00:50:54.926Z",
          "2021-10-17T00:51:00.026Z",
          "2021-10-17T00:51:00.326Z",
          "2021-10-17T00:51:02.926Z",
          "2021-10-17T00:51:05.326Z",
          "2021-10-17T00:51:06.726Z",
          "2021-10-17T00:51:11.526Z",
          "2021-10-17T00:51:12.726Z",
          "2021-10-17T00:51:15.426Z",
          "2021-10-17T00:51:19.626Z",
          "2021-10-17T00:51:21.126Z",
          "2021-10-17T00:51:21.526Z",
          "2021-10-17T00:51:29.426Z",
          "2021-10-17T00:51:33.326Z",
          "2021-10-17T00:51:34.626Z",
          "2021-10-17T00:51:36.926Z",
          "2021-10-17T00:51:39.126Z",
          "2021-10-17T00:51:42.726Z",
          "2021-10-17T00:51:45.926Z",
          "2021-10-17T00:51:51.826Z",
          "2021-10-17T00:52:06.926Z",
          "2021-10-17T00:52:12.226Z",
          "2021-10-17T00:52:14.726Z",
          "2021-10-17T00:52:17.626Z",
          "2021-10-17T00:52:20.326Z",
          "2021-10-17T00:52:22.826Z",
          "2021-10-17T00:52:33.826Z",
          "2021-10-17T00:52:36.226Z",
          "2021-10-17T00:52:37.326Z",
          "2021-10-17T00:52:41.026Z",
          "2021-10-17T00:52:54.826Z",
          "2021-10-17T00:52:55.626Z",
          "2021-10-17T00:53:02.626Z",
          "2021-10-17T00:53:09.826Z",
          "2021-10-17T00:53:10.626Z",
          "2021-10-17T00:53:11.826Z",
          "2021-10-17T00:53:19.426Z",
          "2021-10-17T00:53:23.426Z",
          "2021-10-17T00:53:24.526Z",
          "2021-10-17T00:53:28.126Z",
          "2021-10-17T00:53:28.326Z",
          "2021-10-17T00:53:32.126Z",
          "2021-10-17T00:53:32.726Z",
          "2021-10-17T00:53:35.626Z",
          "2021-10-17T00:53:36.326Z",
          "2021-10-17T00:53:40.026Z",
          "2021-10-17T00:53:42.426Z",
          "2021-10-17T00:53:44.326Z",
          "2021-10-17T00:53:55.226Z",
          "2021-10-17T00:53:57.126Z",
          "2021-10-17T00:53:58.826Z",
          "2021-10-17T00:54:02.326Z",
          "2021-10-17T00:54:02.626Z",
          "2021-10-17T00:54:03.126Z",
          "2021-10-17T00:54:05.226Z",
          "2021-10-17T00:54:12.126Z",
          "2021-10-17T00:54:27.026Z",
          "2021-10-17T00:54:30.526Z",
          "2021-10-17T00:54:45.426Z",
          "2021-10-17T00:55:07.926Z",
          "2021-10-17T00:55:13.326Z",
          "2021-10-17T00:55:22.226Z",
          "2021-10-17T00:55:24.226Z",
          "2021-10-17T00:55:30.226Z",
          "2021-10-17T00:55:38.326Z",
          "2021-10-17T00:55:41.426Z",
          "2021-10-17T00:55:42.926Z",
          "2021-10-17T00:55:50.426Z",
          "2021-10-17T00:55:55.726Z",
          "2021-10-17T00:55:56.926Z",
          "2021-10-17T00:56:00.526Z",
          "2021-10-17T00:56:02.926Z",
          "2021-10-17T00:56:07.326Z",
          "2021-10-17T00:56:10.426Z",
          "2021-10-17T00:56:30.326Z",
          "2021-10-17T00:56:35.326Z",
          "2021-10-17T00:56:37.126Z",
          "2021-10-17T00:56:37.726Z",
          "2021-10-17T00:56:42.126Z",
          "2021-10-17T00:56:51.426Z",
          "2021-10-17T00:56:57.426Z",
          "2021-10-17T00:57:00.226Z",
          "2021-10-17T00:57:03.326Z",
          "2021-10-17T00:57:07.226Z",
          "2021-10-17T00:57:08.026Z",
          "2021-10-17T00:57:15.926Z",
          "2021-10-17T00:57:23.126Z",
          "2021-10-17T00:57:28.226Z",
          "2021-10-17T00:57:30.326Z",
          "2021-10-17T00:57:37.826Z",
          "2021-10-17T00:57:41.426Z",
          "2021-10-17T00:57:45.426Z",
          "2021-10-17T00:57:47.226Z",
          "2021-10-17T00:57:52.326Z",
          "2021-10-17T00:57:55.026Z",
          "2021-10-17T00:57:57.026Z",
          "2021-10-17T00:58:03.326Z",
          "2021-10-17T00:58:10.926Z",
          "2021-10-17T00:58:15.926Z",
          "2021-10-17T00:58:16.926Z",
          "2021-10-17T00:58:20.726Z",
          "2021-10-17T00:58:26.726Z",
          "2021-10-17T00:58:28.426Z",
          "2021-10-17T00:58:30.426Z",
          "2021-10-17T00:58:31.426Z",
          "2021-10-17T00:58:32.326Z",
          "2021-10-17T00:58:35.626Z",
          "2021-10-17T00:58:45.826Z",
          "2021-10-17T00:58:47.926Z",
          "2021-10-17T00:58:51.426Z",
          "2021-10-17T00:58:52.526Z",
          "2021-10-17T00:58:52.726Z",
          "2021-10-17T00:58:55.626Z",
          "2021-10-17T00:59:00.226Z",
          "2021-10-17T00:59:09.726Z",
          "2021-10-17T00:59:11.826Z",
          "2021-10-17T00:59:17.326Z",
          "2021-10-17T00:59:22.426Z",
          "2021-10-17T00:59:25.626Z",
          "2021-10-17T00:59:26.526Z",
          "2021-10-17T00:59:28.126Z",
          "2021-10-17T00:59:30.826Z",
          "2021-10-17T00:59:35.826Z",
          "2021-10-17T00:59:36.626Z",
          "2021-10-17T00:59:38.026Z",
          "2021-10-17T00:59:40.126Z",
          "2021-10-17T00:59:42.426Z",
          "2021-10-17T00:59:43.826Z",
          "2021-10-17T00:59:45.026Z",
          "2021-10-17T00:59:45.626Z",
          "2021-10-17T00:59:46.626Z",
          "2021-10-17T00:59:47.726Z",
          "2021-10-17T00:59:48.226Z",
          "2021-10-17T00:59:48.726Z",
          "2021-10-17T00:59:49.226Z",
          "2021-10-17T00:59:49.826Z",
          "2021-10-17T00:59:52.626Z",
          "2021-10-17T00:59:53.926Z",
          "2021-10-17T00:59:55.126Z",
          "2021-10-17T00:59:55.726Z",
          "2021-10-17T00:59:57.326Z",
          "2021-10-17T00:59:58.626Z",
          "2021-10-17T01:00:00.626Z",
          "2021-10-17T01:00:01.126Z",
          "2021-10-17T01:00:04.426Z",
          "2021-10-17T01:00:08.526Z",
          "2021-10-17T01:00:09.726Z",
          "2021-10-17T01:00:10.826Z",
          "2021-10-17T01:00:11.626Z",
          "2021-10-17T01:00:15.526Z",
          "2021-10-17T01:00:16.826Z",
          "2021-10-17T01:00:18.126Z",
          "2021-10-17T01:00:18.626Z",
          "2021-10-17T01:00:20.626Z",
          "2021-10-17T01:00:24.126Z",
          "2021-10-17T01:00:24.826Z",
          "2021-10-17T01:00:25.626Z",
          "2021-10-17T01:00:26.626Z",
          "2021-10-17T01:00:28.726Z",
          "2021-10-17T01:00:33.926Z",
          "2021-10-17T01:00:35.326Z",
          "2021-10-17T01:00:38.326Z",
          "2021-10-17T01:00:53.226Z",
          "2021-10-17T01:01:08.226Z",
          "2021-10-17T01:01:19.526Z",
          "2021-10-17T01:01:31.226Z",
          "2021-10-17T01:01:33.826Z",
          "2021-10-17T01:01:37.126Z",
          "2021-10-17T01:01:39.826Z",
          "2021-10-17T01:01:40.926Z",
          "2021-10-17T01:01:41.926Z",
          "2021-10-17T01:01:44.426Z",
          "2021-10-17T01:01:46.426Z",
          "2021-10-17T01:01:48.326Z",
          "2021-10-17T01:01:49.426Z",
          "2021-10-17T01:01:49.626Z",
          "2021-10-17T01:01:50.026Z",
          "2021-10-17T01:01:51.226Z",
          "2021-10-17T01:01:52.226Z",
          "2021-10-17T01:01:53.226Z",
          "2021-10-17T01:01:53.726Z",
          "2021-10-17T01:01:54.426Z",
          "2021-10-17T01:01:57.526Z",
          "2021-10-17T01:01:58.026Z",
          "2021-10-17T01:01:58.626Z",
          "2021-10-17T01:02:00.726Z",
          "2021-10-17T01:02:02.126Z",
          "2021-10-17T01:02:03.926Z",
          "2021-10-17T01:02:04.426Z",
          "2021-10-17T01:02:05.626Z",
          "2021-10-17T01:02:07.426Z",
          "2021-10-17T01:02:08.826Z",
          "2021-10-17T01:02:10.426Z",
          "2021-10-17T01:02:10.926Z",
          "2021-10-17T01:02:11.826Z",
          "2021-10-17T01:02:14.226Z",
          "2021-10-17T01:02:15.126Z",
          "2021-10-17T01:02:15.726Z",
          "2021-10-17T01:02:16.426Z",
          "2021-10-17T01:02:17.526Z",
          "2021-10-17T01:02:21.826Z",
          "2021-10-17T01:02:22.526Z",
          "2021-10-17T01:02:25.726Z",
          "2021-10-17T01:02:26.526Z",
          "2021-10-17T01:02:27.626Z",
          "2021-10-17T01:02:28.326Z",
          "2021-10-17T01:02:35.126Z",
          "2021-10-17T01:02:36.826Z",
          "2021-10-17T01:02:37.626Z",
          "2021-10-17T01:02:39.526Z",
          "2021-10-17T01:02:42.226Z",
          "2021-10-17T01:02:44.626Z",
          "2021-10-17T01:02:47.826Z",
          "2021-10-17T01:02:49.126Z",
          "2021-10-17T01:02:49.726Z",
          "2021-10-17T01:02:50.826Z",
          "2021-10-17T01:02:53.126Z",
          "2021-10-17T01:02:53.726Z",
          "2021-10-17T01:02:55.026Z",
          "2021-10-17T01:02:56.126Z",
          "2021-10-17T01:02:56.926Z",
          "2021-10-17T01:02:57.326Z",
          "2021-10-17T01:02:57.926Z",
          "2021-10-17T01:02:58.826Z",
          "2021-10-17T01:02:59.926Z",
          "2021-10-17T01:03:00.826Z",
          "2021-10-17T01:03:02.026Z",
          "2021-10-17T01:03:02.326Z",
          "2021-10-17T01:03:04.026Z",
          "2021-10-17T01:03:05.326Z",
          "2021-10-17T01:03:05.726Z",
          "2021-10-17T01:03:06.326Z",
          "2021-10-17T01:03:06.826Z",
          "2021-10-17T01:03:07.426Z",
          "2021-10-17T01:03:08.426Z",
          "2021-10-17T01:03:10.326Z",
          "2021-10-17T01:03:12.826Z",
          "2021-10-17T01:03:13.426Z",
          "2021-10-17T01:03:15.926Z",
          "2021-10-17T01:03:17.526Z",
          "2021-10-17T01:03:18.026Z",
          "2021-10-17T01:03:19.226Z",
          "2021-10-17T01:03:19.826Z",
          "2021-10-17T01:03:21.626Z",
          "2021-10-17T01:03:26.326Z",
          "2021-10-17T01:03:27.226Z",
          "2021-10-17T01:03:30.226Z",
          "2021-10-17T01:03:33.926Z",
          "2021-10-17T01:03:36.826Z",
          "2021-10-17T01:03:38.626Z",
          "2021-10-17T01:03:45.326Z",
          "2021-10-17T01:05:17.126Z",
          "2021-10-17T01:05:17.326Z"
         ],
         "y": [
          7,
          6,
          1,
          7,
          2,
          2,
          1,
          2,
          7,
          2,
          2,
          3,
          8,
          5,
          14,
          15,
          37,
          1,
          5,
          9,
          1,
          17,
          8,
          3,
          32,
          9,
          31,
          11,
          5,
          4,
          2,
          12,
          5,
          10,
          1,
          14,
          1,
          1,
          7,
          1,
          8,
          3,
          3,
          2,
          7,
          13,
          1,
          14,
          18,
          18,
          39,
          10,
          5,
          32,
          12,
          22,
          11,
          13,
          10,
          12,
          17,
          4,
          19,
          15,
          24,
          18,
          10,
          9,
          6,
          2,
          2,
          2,
          1,
          10,
          10,
          11,
          3,
          6,
          3,
          14,
          22,
          8,
          9,
          12,
          9,
          4,
          3,
          12,
          1,
          1,
          16,
          11,
          9,
          35,
          5,
          1,
          5,
          9,
          14,
          4,
          10,
          20,
          8,
          9,
          2,
          2,
          9,
          5,
          3,
          1,
          24,
          5,
          1,
          6,
          5,
          8,
          4,
          20,
          12,
          8,
          2,
          17,
          1,
          20,
          2,
          7,
          3,
          11,
          2,
          18,
          8,
          9,
          1,
          13,
          2,
          11,
          1,
          6,
          10,
          4,
          2,
          1,
          9,
          24,
          5,
          10,
          13,
          3,
          6,
          32,
          1,
          20,
          3,
          3,
          3,
          7,
          17,
          7,
          5,
          9,
          10,
          6,
          12,
          4,
          12,
          2,
          10,
          7,
          36,
          11,
          15,
          3,
          11,
          4,
          13,
          13,
          24,
          5,
          3,
          9,
          2,
          11,
          17,
          7,
          5,
          20,
          12,
          7,
          12,
          2,
          16,
          1,
          9,
          8,
          3,
          17,
          5,
          8,
          10,
          6,
          2,
          24,
          15,
          4,
          5,
          7,
          9,
          2,
          14,
          35,
          9,
          5,
          4,
          8,
          5,
          23,
          5,
          4,
          9,
          35,
          1,
          12,
          1,
          3,
          2,
          13,
          4,
          4,
          10,
          1,
          6,
          2,
          6,
          4,
          14,
          5,
          3,
          33,
          1,
          6,
          9,
          2,
          1,
          3,
          21,
          39,
          7,
          33,
          56,
          13,
          23,
          7,
          18,
          22,
          6,
          4,
          18,
          13,
          4,
          12,
          6,
          11,
          13,
          51,
          15,
          3,
          2,
          13,
          23,
          17,
          9,
          8,
          13,
          3,
          26,
          21,
          21,
          5,
          25,
          13,
          14,
          5,
          14,
          10,
          4,
          15,
          15,
          13,
          7,
          17,
          20,
          6,
          5,
          3,
          5,
          5,
          30,
          10,
          11,
          4,
          1,
          7,
          21,
          20,
          6,
          19,
          19,
          7,
          6,
          5,
          2,
          16,
          7,
          4,
          3,
          6,
          5,
          2,
          2,
          3,
          3,
          2,
          1,
          1,
          2,
          7,
          2,
          3,
          3,
          1,
          3,
          3,
          2,
          5,
          4,
          5,
          1,
          2,
          8,
          4,
          3,
          1,
          7,
          11,
          3,
          2,
          1,
          8,
          13,
          5,
          7,
          27,
          33,
          22,
          34,
          10,
          7,
          12,
          2,
          1,
          5,
          8,
          5,
          3,
          2,
          1,
          3,
          3,
          3,
          1,
          2,
          10,
          1,
          2,
          4,
          3,
          4,
          3,
          3,
          2,
          4,
          2,
          1,
          4,
          3,
          3,
          1,
          2,
          3,
          14,
          2,
          12,
          4,
          2,
          1,
          15,
          6,
          3,
          2,
          8,
          8,
          7,
          5,
          4,
          1,
          3,
          3,
          3,
          3,
          3,
          1,
          2,
          3,
          3,
          4,
          4,
          1,
          2,
          4,
          2,
          1,
          1,
          2,
          3,
          2,
          6,
          2,
          6,
          6,
          1,
          3,
          2,
          6,
          14,
          3,
          9,
          14,
          7,
          3,
          4,
          3,
          1,
          3
         ]
        }
       ],
       "layout": {
        "template": {
         "data": {
          "bar": [
           {
            "error_x": {
             "color": "#2a3f5f"
            },
            "error_y": {
             "color": "#2a3f5f"
            },
            "marker": {
             "line": {
              "color": "#E5ECF6",
              "width": 0.5
             },
             "pattern": {
              "fillmode": "overlay",
              "size": 10,
              "solidity": 0.2
             }
            },
            "type": "bar"
           }
          ],
          "barpolar": [
           {
            "marker": {
             "line": {
              "color": "#E5ECF6",
              "width": 0.5
             },
             "pattern": {
              "fillmode": "overlay",
              "size": 10,
              "solidity": 0.2
             }
            },
            "type": "barpolar"
           }
          ],
          "carpet": [
           {
            "aaxis": {
             "endlinecolor": "#2a3f5f",
             "gridcolor": "white",
             "linecolor": "white",
             "minorgridcolor": "white",
             "startlinecolor": "#2a3f5f"
            },
            "baxis": {
             "endlinecolor": "#2a3f5f",
             "gridcolor": "white",
             "linecolor": "white",
             "minorgridcolor": "white",
             "startlinecolor": "#2a3f5f"
            },
            "type": "carpet"
           }
          ],
          "choropleth": [
           {
            "colorbar": {
             "outlinewidth": 0,
             "ticks": ""
            },
            "type": "choropleth"
           }
          ],
          "contour": [
           {
            "colorbar": {
             "outlinewidth": 0,
             "ticks": ""
            },
            "colorscale": [
             [
              0,
              "#0d0887"
             ],
             [
              0.1111111111111111,
              "#46039f"
             ],
             [
              0.2222222222222222,
              "#7201a8"
             ],
             [
              0.3333333333333333,
              "#9c179e"
             ],
             [
              0.4444444444444444,
              "#bd3786"
             ],
             [
              0.5555555555555556,
              "#d8576b"
             ],
             [
              0.6666666666666666,
              "#ed7953"
             ],
             [
              0.7777777777777778,
              "#fb9f3a"
             ],
             [
              0.8888888888888888,
              "#fdca26"
             ],
             [
              1,
              "#f0f921"
             ]
            ],
            "type": "contour"
           }
          ],
          "contourcarpet": [
           {
            "colorbar": {
             "outlinewidth": 0,
             "ticks": ""
            },
            "type": "contourcarpet"
           }
          ],
          "heatmap": [
           {
            "colorbar": {
             "outlinewidth": 0,
             "ticks": ""
            },
            "colorscale": [
             [
              0,
              "#0d0887"
             ],
             [
              0.1111111111111111,
              "#46039f"
             ],
             [
              0.2222222222222222,
              "#7201a8"
             ],
             [
              0.3333333333333333,
              "#9c179e"
             ],
             [
              0.4444444444444444,
              "#bd3786"
             ],
             [
              0.5555555555555556,
              "#d8576b"
             ],
             [
              0.6666666666666666,
              "#ed7953"
             ],
             [
              0.7777777777777778,
              "#fb9f3a"
             ],
             [
              0.8888888888888888,
              "#fdca26"
             ],
             [
              1,
              "#f0f921"
             ]
            ],
            "type": "heatmap"
           }
          ],
          "heatmapgl": [
           {
            "colorbar": {
             "outlinewidth": 0,
             "ticks": ""
            },
            "colorscale": [
             [
              0,
              "#0d0887"
             ],
             [
              0.1111111111111111,
              "#46039f"
             ],
             [
              0.2222222222222222,
              "#7201a8"
             ],
             [
              0.3333333333333333,
              "#9c179e"
             ],
             [
              0.4444444444444444,
              "#bd3786"
             ],
             [
              0.5555555555555556,
              "#d8576b"
             ],
             [
              0.6666666666666666,
              "#ed7953"
             ],
             [
              0.7777777777777778,
              "#fb9f3a"
             ],
             [
              0.8888888888888888,
              "#fdca26"
             ],
             [
              1,
              "#f0f921"
             ]
            ],
            "type": "heatmapgl"
           }
          ],
          "histogram": [
           {
            "marker": {
             "pattern": {
              "fillmode": "overlay",
              "size": 10,
              "solidity": 0.2
             }
            },
            "type": "histogram"
           }
          ],
          "histogram2d": [
           {
            "colorbar": {
             "outlinewidth": 0,
             "ticks": ""
            },
            "colorscale": [
             [
              0,
              "#0d0887"
             ],
             [
              0.1111111111111111,
              "#46039f"
             ],
             [
              0.2222222222222222,
              "#7201a8"
             ],
             [
              0.3333333333333333,
              "#9c179e"
             ],
             [
              0.4444444444444444,
              "#bd3786"
             ],
             [
              0.5555555555555556,
              "#d8576b"
             ],
             [
              0.6666666666666666,
              "#ed7953"
             ],
             [
              0.7777777777777778,
              "#fb9f3a"
             ],
             [
              0.8888888888888888,
              "#fdca26"
             ],
             [
              1,
              "#f0f921"
             ]
            ],
            "type": "histogram2d"
           }
          ],
          "histogram2dcontour": [
           {
            "colorbar": {
             "outlinewidth": 0,
             "ticks": ""
            },
            "colorscale": [
             [
              0,
              "#0d0887"
             ],
             [
              0.1111111111111111,
              "#46039f"
             ],
             [
              0.2222222222222222,
              "#7201a8"
             ],
             [
              0.3333333333333333,
              "#9c179e"
             ],
             [
              0.4444444444444444,
              "#bd3786"
             ],
             [
              0.5555555555555556,
              "#d8576b"
             ],
             [
              0.6666666666666666,
              "#ed7953"
             ],
             [
              0.7777777777777778,
              "#fb9f3a"
             ],
             [
              0.8888888888888888,
              "#fdca26"
             ],
             [
              1,
              "#f0f921"
             ]
            ],
            "type": "histogram2dcontour"
           }
          ],
          "mesh3d": [
           {
            "colorbar": {
             "outlinewidth": 0,
             "ticks": ""
            },
            "type": "mesh3d"
           }
          ],
          "parcoords": [
           {
            "line": {
             "colorbar": {
              "outlinewidth": 0,
              "ticks": ""
             }
            },
            "type": "parcoords"
           }
          ],
          "pie": [
           {
            "automargin": true,
            "type": "pie"
           }
          ],
          "scatter": [
           {
            "marker": {
             "colorbar": {
              "outlinewidth": 0,
              "ticks": ""
             }
            },
            "type": "scatter"
           }
          ],
          "scatter3d": [
           {
            "line": {
             "colorbar": {
              "outlinewidth": 0,
              "ticks": ""
             }
            },
            "marker": {
             "colorbar": {
              "outlinewidth": 0,
              "ticks": ""
             }
            },
            "type": "scatter3d"
           }
          ],
          "scattercarpet": [
           {
            "marker": {
             "colorbar": {
              "outlinewidth": 0,
              "ticks": ""
             }
            },
            "type": "scattercarpet"
           }
          ],
          "scattergeo": [
           {
            "marker": {
             "colorbar": {
              "outlinewidth": 0,
              "ticks": ""
             }
            },
            "type": "scattergeo"
           }
          ],
          "scattergl": [
           {
            "marker": {
             "colorbar": {
              "outlinewidth": 0,
              "ticks": ""
             }
            },
            "type": "scattergl"
           }
          ],
          "scattermapbox": [
           {
            "marker": {
             "colorbar": {
              "outlinewidth": 0,
              "ticks": ""
             }
            },
            "type": "scattermapbox"
           }
          ],
          "scatterpolar": [
           {
            "marker": {
             "colorbar": {
              "outlinewidth": 0,
              "ticks": ""
             }
            },
            "type": "scatterpolar"
           }
          ],
          "scatterpolargl": [
           {
            "marker": {
             "colorbar": {
              "outlinewidth": 0,
              "ticks": ""
             }
            },
            "type": "scatterpolargl"
           }
          ],
          "scatterternary": [
           {
            "marker": {
             "colorbar": {
              "outlinewidth": 0,
              "ticks": ""
             }
            },
            "type": "scatterternary"
           }
          ],
          "surface": [
           {
            "colorbar": {
             "outlinewidth": 0,
             "ticks": ""
            },
            "colorscale": [
             [
              0,
              "#0d0887"
             ],
             [
              0.1111111111111111,
              "#46039f"
             ],
             [
              0.2222222222222222,
              "#7201a8"
             ],
             [
              0.3333333333333333,
              "#9c179e"
             ],
             [
              0.4444444444444444,
              "#bd3786"
             ],
             [
              0.5555555555555556,
              "#d8576b"
             ],
             [
              0.6666666666666666,
              "#ed7953"
             ],
             [
              0.7777777777777778,
              "#fb9f3a"
             ],
             [
              0.8888888888888888,
              "#fdca26"
             ],
             [
              1,
              "#f0f921"
             ]
            ],
            "type": "surface"
           }
          ],
          "table": [
           {
            "cells": {
             "fill": {
              "color": "#EBF0F8"
             },
             "line": {
              "color": "white"
             }
            },
            "header": {
             "fill": {
              "color": "#C8D4E3"
             },
             "line": {
              "color": "white"
             }
            },
            "type": "table"
           }
          ]
         },
         "layout": {
          "annotationdefaults": {
           "arrowcolor": "#2a3f5f",
           "arrowhead": 0,
           "arrowwidth": 1
          },
          "autotypenumbers": "strict",
          "coloraxis": {
           "colorbar": {
            "outlinewidth": 0,
            "ticks": ""
           }
          },
          "colorscale": {
           "diverging": [
            [
             0,
             "#8e0152"
            ],
            [
             0.1,
             "#c51b7d"
            ],
            [
             0.2,
             "#de77ae"
            ],
            [
             0.3,
             "#f1b6da"
            ],
            [
             0.4,
             "#fde0ef"
            ],
            [
             0.5,
             "#f7f7f7"
            ],
            [
             0.6,
             "#e6f5d0"
            ],
            [
             0.7,
             "#b8e186"
            ],
            [
             0.8,
             "#7fbc41"
            ],
            [
             0.9,
             "#4d9221"
            ],
            [
             1,
             "#276419"
            ]
           ],
           "sequential": [
            [
             0,
             "#0d0887"
            ],
            [
             0.1111111111111111,
             "#46039f"
            ],
            [
             0.2222222222222222,
             "#7201a8"
            ],
            [
             0.3333333333333333,
             "#9c179e"
            ],
            [
             0.4444444444444444,
             "#bd3786"
            ],
            [
             0.5555555555555556,
             "#d8576b"
            ],
            [
             0.6666666666666666,
             "#ed7953"
            ],
            [
             0.7777777777777778,
             "#fb9f3a"
            ],
            [
             0.8888888888888888,
             "#fdca26"
            ],
            [
             1,
             "#f0f921"
            ]
           ],
           "sequentialminus": [
            [
             0,
             "#0d0887"
            ],
            [
             0.1111111111111111,
             "#46039f"
            ],
            [
             0.2222222222222222,
             "#7201a8"
            ],
            [
             0.3333333333333333,
             "#9c179e"
            ],
            [
             0.4444444444444444,
             "#bd3786"
            ],
            [
             0.5555555555555556,
             "#d8576b"
            ],
            [
             0.6666666666666666,
             "#ed7953"
            ],
            [
             0.7777777777777778,
             "#fb9f3a"
            ],
            [
             0.8888888888888888,
             "#fdca26"
            ],
            [
             1,
             "#f0f921"
            ]
           ]
          },
          "colorway": [
           "#636efa",
           "#EF553B",
           "#00cc96",
           "#ab63fa",
           "#FFA15A",
           "#19d3f3",
           "#FF6692",
           "#B6E880",
           "#FF97FF",
           "#FECB52"
          ],
          "font": {
           "color": "#2a3f5f"
          },
          "geo": {
           "bgcolor": "white",
           "lakecolor": "white",
           "landcolor": "#E5ECF6",
           "showlakes": true,
           "showland": true,
           "subunitcolor": "white"
          },
          "hoverlabel": {
           "align": "left"
          },
          "hovermode": "closest",
          "mapbox": {
           "style": "light"
          },
          "paper_bgcolor": "white",
          "plot_bgcolor": "#E5ECF6",
          "polar": {
           "angularaxis": {
            "gridcolor": "white",
            "linecolor": "white",
            "ticks": ""
           },
           "bgcolor": "#E5ECF6",
           "radialaxis": {
            "gridcolor": "white",
            "linecolor": "white",
            "ticks": ""
           }
          },
          "scene": {
           "xaxis": {
            "backgroundcolor": "#E5ECF6",
            "gridcolor": "white",
            "gridwidth": 2,
            "linecolor": "white",
            "showbackground": true,
            "ticks": "",
            "zerolinecolor": "white"
           },
           "yaxis": {
            "backgroundcolor": "#E5ECF6",
            "gridcolor": "white",
            "gridwidth": 2,
            "linecolor": "white",
            "showbackground": true,
            "ticks": "",
            "zerolinecolor": "white"
           },
           "zaxis": {
            "backgroundcolor": "#E5ECF6",
            "gridcolor": "white",
            "gridwidth": 2,
            "linecolor": "white",
            "showbackground": true,
            "ticks": "",
            "zerolinecolor": "white"
           }
          },
          "shapedefaults": {
           "line": {
            "color": "#2a3f5f"
           }
          },
          "ternary": {
           "aaxis": {
            "gridcolor": "white",
            "linecolor": "white",
            "ticks": ""
           },
           "baxis": {
            "gridcolor": "white",
            "linecolor": "white",
            "ticks": ""
           },
           "bgcolor": "#E5ECF6",
           "caxis": {
            "gridcolor": "white",
            "linecolor": "white",
            "ticks": ""
           }
          },
          "title": {
           "x": 0.05
          },
          "xaxis": {
           "automargin": true,
           "gridcolor": "white",
           "linecolor": "white",
           "ticks": "",
           "title": {
            "standoff": 15
           },
           "zerolinecolor": "white",
           "zerolinewidth": 2
          },
          "yaxis": {
           "automargin": true,
           "gridcolor": "white",
           "linecolor": "white",
           "ticks": "",
           "title": {
            "standoff": 15
           },
           "zerolinecolor": "white",
           "zerolinewidth": 2
          }
         }
        }
       }
      },
      "text/html": [
       "<div>                            <div id=\"dbf3a300-d560-4163-a777-510eb26c92da\" class=\"plotly-graph-div\" style=\"height:525px; width:100%;\"></div>            <script type=\"text/javascript\">                require([\"plotly\"], function(Plotly) {                    window.PLOTLYENV=window.PLOTLYENV || {};                                    if (document.getElementById(\"dbf3a300-d560-4163-a777-510eb26c92da\")) {                    Plotly.newPlot(                        \"dbf3a300-d560-4163-a777-510eb26c92da\",                        [{\"type\":\"scatter\",\"x\":[\"2021-10-17T00:38:59.926Z\",\"2021-10-17T00:39:03.726Z\",\"2021-10-17T00:39:08.426Z\",\"2021-10-17T00:39:11.126Z\",\"2021-10-17T00:39:12.426Z\",\"2021-10-17T00:39:14.426Z\",\"2021-10-17T00:39:15.426Z\",\"2021-10-17T00:39:16.026Z\",\"2021-10-17T00:39:16.626Z\",\"2021-10-17T00:39:18.526Z\",\"2021-10-17T00:40:15.226Z\",\"2021-10-17T00:40:26.426Z\",\"2021-10-17T00:40:28.726Z\",\"2021-10-17T00:40:30.926Z\",\"2021-10-17T00:40:34.026Z\",\"2021-10-17T00:40:39.126Z\",\"2021-10-17T00:40:44.426Z\",\"2021-10-17T00:41:03.926Z\",\"2021-10-17T00:41:04.726Z\",\"2021-10-17T00:41:07.726Z\",\"2021-10-17T00:41:11.026Z\",\"2021-10-17T00:41:12.526Z\",\"2021-10-17T00:41:18.826Z\",\"2021-10-17T00:41:22.726Z\",\"2021-10-17T00:41:24.526Z\",\"2021-10-17T00:41:33.726Z\",\"2021-10-17T00:41:37.326Z\",\"2021-10-17T00:41:51.926Z\",\"2021-10-17T00:41:57.426Z\",\"2021-10-17T00:42:00.426Z\",\"2021-10-17T00:42:03.026Z\",\"2021-10-17T00:42:03.326Z\",\"2021-10-17T00:42:07.726Z\",\"2021-10-17T00:42:08.926Z\",\"2021-10-17T00:42:14.526Z\",\"2021-10-17T00:42:18.026Z\",\"2021-10-17T00:42:22.426Z\",\"2021-10-17T00:42:23.926Z\",\"2021-10-17T00:42:24.326Z\",\"2021-10-17T00:42:25.826Z\",\"2021-10-17T00:42:26.826Z\",\"2021-10-17T00:42:27.926Z\",\"2021-10-17T00:42:28.726Z\",\"2021-10-17T00:42:30.726Z\",\"2021-10-17T00:42:31.426Z\",\"2021-10-17T00:42:33.626Z\",\"2021-10-17T00:42:38.626Z\",\"2021-10-17T00:42:39.126Z\",\"2021-10-17T00:42:45.926Z\",\"2021-10-17T00:42:52.526Z\",\"2021-10-17T00:43:00.526Z\",\"2021-10-17T00:43:12.026Z\",\"2021-10-17T00:43:15.826Z\",\"2021-10-17T00:43:17.426Z\",\"2021-10-17T00:43:30.626Z\",\"2021-10-17T00:43:35.026Z\",\"2021-10-17T00:43:42.726Z\",\"2021-10-17T00:43:45.526Z\",\"2021-10-17T00:43:49.626Z\",\"2021-10-17T00:43:52.826Z\",\"2021-10-17T00:43:57.426Z\",\"2021-10-17T00:44:03.626Z\",\"2021-10-17T00:44:05.726Z\",\"2021-10-17T00:44:11.626Z\",\"2021-10-17T00:44:16.926Z\",\"2021-10-17T00:44:26.626Z\",\"2021-10-17T00:44:32.726Z\",\"2021-10-17T00:44:35.826Z\",\"2021-10-17T00:44:38.526Z\",\"2021-10-17T00:44:40.926Z\",\"2021-10-17T00:44:41.226Z\",\"2021-10-17T00:44:41.826Z\",\"2021-10-17T00:44:42.126Z\",\"2021-10-17T00:44:42.626Z\",\"2021-10-17T00:44:45.326Z\",\"2021-10-17T00:44:49.526Z\",\"2021-10-17T00:44:52.626Z\",\"2021-10-17T00:44:53.326Z\",\"2021-10-17T00:44:56.126Z\",\"2021-10-17T00:44:57.826Z\",\"2021-10-17T00:45:03.726Z\",\"2021-10-17T00:45:08.226Z\",\"2021-10-17T00:45:11.926Z\",\"2021-10-17T00:45:15.926Z\",\"2021-10-17T00:45:23.126Z\",\"2021-10-17T00:45:27.526Z\",\"2021-10-17T00:45:28.526Z\",\"2021-10-17T00:45:29.826Z\",\"2021-10-17T00:45:32.626Z\",\"2021-10-17T00:45:33.126Z\",\"2021-10-17T00:45:33.426Z\",\"2021-10-17T00:45:37.126Z\",\"2021-10-17T00:45:43.826Z\",\"2021-10-17T00:45:47.826Z\",\"2021-10-17T00:46:00.526Z\",\"2021-10-17T00:46:01.526Z\",\"2021-10-17T00:46:03.126Z\",\"2021-10-17T00:46:05.226Z\",\"2021-10-17T00:46:10.426Z\",\"2021-10-17T00:46:13.526Z\",\"2021-10-17T00:46:14.826Z\",\"2021-10-17T00:46:18.626Z\",\"2021-10-17T00:46:24.026Z\",\"2021-10-17T00:46:28.526Z\",\"2021-10-17T00:46:36.326Z\",\"2021-10-17T00:46:36.526Z\",\"2021-10-17T00:46:37.326Z\",\"2021-10-17T00:46:40.726Z\",\"2021-10-17T00:46:43.526Z\",\"2021-10-17T00:46:45.026Z\",\"2021-10-17T00:46:45.126Z\",\"2021-10-17T00:46:52.126Z\",\"2021-10-17T00:46:54.726Z\",\"2021-10-17T00:46:54.926Z\",\"2021-10-17T00:46:56.626Z\",\"2021-10-17T00:46:58.526Z\",\"2021-10-17T00:47:00.526Z\",\"2021-10-17T00:47:01.826Z\",\"2021-10-17T00:47:09.726Z\",\"2021-10-17T00:47:13.526Z\",\"2021-10-17T00:47:16.726Z\",\"2021-10-17T00:47:17.126Z\",\"2021-10-17T00:47:23.126Z\",\"2021-10-17T00:47:24.326Z\",\"2021-10-17T00:47:31.326Z\",\"2021-10-17T00:47:32.426Z\",\"2021-10-17T00:47:34.926Z\",\"2021-10-17T00:47:36.126Z\",\"2021-10-17T00:47:39.226Z\",\"2021-10-17T00:47:41.026Z\",\"2021-10-17T00:47:46.226Z\",\"2021-10-17T00:47:48.626Z\",\"2021-10-17T00:47:52.026Z\",\"2021-10-17T00:47:52.426Z\",\"2021-10-17T00:47:56.826Z\",\"2021-10-17T00:47:57.226Z\",\"2021-10-17T00:48:01.226Z\",\"2021-10-17T00:48:01.426Z\",\"2021-10-17T00:48:03.126Z\",\"2021-10-17T00:48:06.326Z\",\"2021-10-17T00:48:07.826Z\",\"2021-10-17T00:48:09.426Z\",\"2021-10-17T00:48:09.826Z\",\"2021-10-17T00:48:12.926Z\",\"2021-10-17T00:48:20.526Z\",\"2021-10-17T00:48:22.126Z\",\"2021-10-17T00:48:26.526Z\",\"2021-10-17T00:48:29.826Z\",\"2021-10-17T00:48:30.726Z\",\"2021-10-17T00:48:32.126Z\",\"2021-10-17T00:48:41.426Z\",\"2021-10-17T00:48:42.626Z\",\"2021-10-17T00:48:51.026Z\",\"2021-10-17T00:48:52.126Z\",\"2021-10-17T00:48:53.526Z\",\"2021-10-17T00:48:54.426Z\",\"2021-10-17T00:48:56.726Z\",\"2021-10-17T00:49:02.126Z\",\"2021-10-17T00:49:04.726Z\",\"2021-10-17T00:49:06.226Z\",\"2021-10-17T00:49:08.826Z\",\"2021-10-17T00:49:12.626Z\",\"2021-10-17T00:49:14.226Z\",\"2021-10-17T00:49:17.926Z\",\"2021-10-17T00:49:19.226Z\",\"2021-10-17T00:49:23.826Z\",\"2021-10-17T00:49:24.926Z\",\"2021-10-17T00:49:27.826Z\",\"2021-10-17T00:49:29.726Z\",\"2021-10-17T00:49:41.926Z\",\"2021-10-17T00:49:46.126Z\",\"2021-10-17T00:49:50.226Z\",\"2021-10-17T00:49:51.326Z\",\"2021-10-17T00:49:55.926Z\",\"2021-10-17T00:49:57.326Z\",\"2021-10-17T00:50:01.326Z\",\"2021-10-17T00:50:06.126Z\",\"2021-10-17T00:50:12.626Z\",\"2021-10-17T00:50:14.526Z\",\"2021-10-17T00:50:16.426Z\",\"2021-10-17T00:50:20.726Z\",\"2021-10-17T00:50:22.426Z\",\"2021-10-17T00:50:25.526Z\",\"2021-10-17T00:50:31.026Z\",\"2021-10-17T00:50:33.426Z\",\"2021-10-17T00:50:35.426Z\",\"2021-10-17T00:50:42.726Z\",\"2021-10-17T00:50:47.726Z\",\"2021-10-17T00:50:50.526Z\",\"2021-10-17T00:50:53.826Z\",\"2021-10-17T00:50:54.926Z\",\"2021-10-17T00:51:00.026Z\",\"2021-10-17T00:51:00.326Z\",\"2021-10-17T00:51:02.926Z\",\"2021-10-17T00:51:05.326Z\",\"2021-10-17T00:51:06.726Z\",\"2021-10-17T00:51:11.526Z\",\"2021-10-17T00:51:12.726Z\",\"2021-10-17T00:51:15.426Z\",\"2021-10-17T00:51:19.626Z\",\"2021-10-17T00:51:21.126Z\",\"2021-10-17T00:51:21.526Z\",\"2021-10-17T00:51:29.426Z\",\"2021-10-17T00:51:33.326Z\",\"2021-10-17T00:51:34.626Z\",\"2021-10-17T00:51:36.926Z\",\"2021-10-17T00:51:39.126Z\",\"2021-10-17T00:51:42.726Z\",\"2021-10-17T00:51:45.926Z\",\"2021-10-17T00:51:51.826Z\",\"2021-10-17T00:52:06.926Z\",\"2021-10-17T00:52:12.226Z\",\"2021-10-17T00:52:14.726Z\",\"2021-10-17T00:52:17.626Z\",\"2021-10-17T00:52:20.326Z\",\"2021-10-17T00:52:22.826Z\",\"2021-10-17T00:52:33.826Z\",\"2021-10-17T00:52:36.226Z\",\"2021-10-17T00:52:37.326Z\",\"2021-10-17T00:52:41.026Z\",\"2021-10-17T00:52:54.826Z\",\"2021-10-17T00:52:55.626Z\",\"2021-10-17T00:53:02.626Z\",\"2021-10-17T00:53:09.826Z\",\"2021-10-17T00:53:10.626Z\",\"2021-10-17T00:53:11.826Z\",\"2021-10-17T00:53:19.426Z\",\"2021-10-17T00:53:23.426Z\",\"2021-10-17T00:53:24.526Z\",\"2021-10-17T00:53:28.126Z\",\"2021-10-17T00:53:28.326Z\",\"2021-10-17T00:53:32.126Z\",\"2021-10-17T00:53:32.726Z\",\"2021-10-17T00:53:35.626Z\",\"2021-10-17T00:53:36.326Z\",\"2021-10-17T00:53:40.026Z\",\"2021-10-17T00:53:42.426Z\",\"2021-10-17T00:53:44.326Z\",\"2021-10-17T00:53:55.226Z\",\"2021-10-17T00:53:57.126Z\",\"2021-10-17T00:53:58.826Z\",\"2021-10-17T00:54:02.326Z\",\"2021-10-17T00:54:02.626Z\",\"2021-10-17T00:54:03.126Z\",\"2021-10-17T00:54:05.226Z\",\"2021-10-17T00:54:12.126Z\",\"2021-10-17T00:54:27.026Z\",\"2021-10-17T00:54:30.526Z\",\"2021-10-17T00:54:45.426Z\",\"2021-10-17T00:55:07.926Z\",\"2021-10-17T00:55:13.326Z\",\"2021-10-17T00:55:22.226Z\",\"2021-10-17T00:55:24.226Z\",\"2021-10-17T00:55:30.226Z\",\"2021-10-17T00:55:38.326Z\",\"2021-10-17T00:55:41.426Z\",\"2021-10-17T00:55:42.926Z\",\"2021-10-17T00:55:50.426Z\",\"2021-10-17T00:55:55.726Z\",\"2021-10-17T00:55:56.926Z\",\"2021-10-17T00:56:00.526Z\",\"2021-10-17T00:56:02.926Z\",\"2021-10-17T00:56:07.326Z\",\"2021-10-17T00:56:10.426Z\",\"2021-10-17T00:56:30.326Z\",\"2021-10-17T00:56:35.326Z\",\"2021-10-17T00:56:37.126Z\",\"2021-10-17T00:56:37.726Z\",\"2021-10-17T00:56:42.126Z\",\"2021-10-17T00:56:51.426Z\",\"2021-10-17T00:56:57.426Z\",\"2021-10-17T00:57:00.226Z\",\"2021-10-17T00:57:03.326Z\",\"2021-10-17T00:57:07.226Z\",\"2021-10-17T00:57:08.026Z\",\"2021-10-17T00:57:15.926Z\",\"2021-10-17T00:57:23.126Z\",\"2021-10-17T00:57:28.226Z\",\"2021-10-17T00:57:30.326Z\",\"2021-10-17T00:57:37.826Z\",\"2021-10-17T00:57:41.426Z\",\"2021-10-17T00:57:45.426Z\",\"2021-10-17T00:57:47.226Z\",\"2021-10-17T00:57:52.326Z\",\"2021-10-17T00:57:55.026Z\",\"2021-10-17T00:57:57.026Z\",\"2021-10-17T00:58:03.326Z\",\"2021-10-17T00:58:10.926Z\",\"2021-10-17T00:58:15.926Z\",\"2021-10-17T00:58:16.926Z\",\"2021-10-17T00:58:20.726Z\",\"2021-10-17T00:58:26.726Z\",\"2021-10-17T00:58:28.426Z\",\"2021-10-17T00:58:30.426Z\",\"2021-10-17T00:58:31.426Z\",\"2021-10-17T00:58:32.326Z\",\"2021-10-17T00:58:35.626Z\",\"2021-10-17T00:58:45.826Z\",\"2021-10-17T00:58:47.926Z\",\"2021-10-17T00:58:51.426Z\",\"2021-10-17T00:58:52.526Z\",\"2021-10-17T00:58:52.726Z\",\"2021-10-17T00:58:55.626Z\",\"2021-10-17T00:59:00.226Z\",\"2021-10-17T00:59:09.726Z\",\"2021-10-17T00:59:11.826Z\",\"2021-10-17T00:59:17.326Z\",\"2021-10-17T00:59:22.426Z\",\"2021-10-17T00:59:25.626Z\",\"2021-10-17T00:59:26.526Z\",\"2021-10-17T00:59:28.126Z\",\"2021-10-17T00:59:30.826Z\",\"2021-10-17T00:59:35.826Z\",\"2021-10-17T00:59:36.626Z\",\"2021-10-17T00:59:38.026Z\",\"2021-10-17T00:59:40.126Z\",\"2021-10-17T00:59:42.426Z\",\"2021-10-17T00:59:43.826Z\",\"2021-10-17T00:59:45.026Z\",\"2021-10-17T00:59:45.626Z\",\"2021-10-17T00:59:46.626Z\",\"2021-10-17T00:59:47.726Z\",\"2021-10-17T00:59:48.226Z\",\"2021-10-17T00:59:48.726Z\",\"2021-10-17T00:59:49.226Z\",\"2021-10-17T00:59:49.826Z\",\"2021-10-17T00:59:52.626Z\",\"2021-10-17T00:59:53.926Z\",\"2021-10-17T00:59:55.126Z\",\"2021-10-17T00:59:55.726Z\",\"2021-10-17T00:59:57.326Z\",\"2021-10-17T00:59:58.626Z\",\"2021-10-17T01:00:00.626Z\",\"2021-10-17T01:00:01.126Z\",\"2021-10-17T01:00:04.426Z\",\"2021-10-17T01:00:08.526Z\",\"2021-10-17T01:00:09.726Z\",\"2021-10-17T01:00:10.826Z\",\"2021-10-17T01:00:11.626Z\",\"2021-10-17T01:00:15.526Z\",\"2021-10-17T01:00:16.826Z\",\"2021-10-17T01:00:18.126Z\",\"2021-10-17T01:00:18.626Z\",\"2021-10-17T01:00:20.626Z\",\"2021-10-17T01:00:24.126Z\",\"2021-10-17T01:00:24.826Z\",\"2021-10-17T01:00:25.626Z\",\"2021-10-17T01:00:26.626Z\",\"2021-10-17T01:00:28.726Z\",\"2021-10-17T01:00:33.926Z\",\"2021-10-17T01:00:35.326Z\",\"2021-10-17T01:00:38.326Z\",\"2021-10-17T01:00:53.226Z\",\"2021-10-17T01:01:08.226Z\",\"2021-10-17T01:01:19.526Z\",\"2021-10-17T01:01:31.226Z\",\"2021-10-17T01:01:33.826Z\",\"2021-10-17T01:01:37.126Z\",\"2021-10-17T01:01:39.826Z\",\"2021-10-17T01:01:40.926Z\",\"2021-10-17T01:01:41.926Z\",\"2021-10-17T01:01:44.426Z\",\"2021-10-17T01:01:46.426Z\",\"2021-10-17T01:01:48.326Z\",\"2021-10-17T01:01:49.426Z\",\"2021-10-17T01:01:49.626Z\",\"2021-10-17T01:01:50.026Z\",\"2021-10-17T01:01:51.226Z\",\"2021-10-17T01:01:52.226Z\",\"2021-10-17T01:01:53.226Z\",\"2021-10-17T01:01:53.726Z\",\"2021-10-17T01:01:54.426Z\",\"2021-10-17T01:01:57.526Z\",\"2021-10-17T01:01:58.026Z\",\"2021-10-17T01:01:58.626Z\",\"2021-10-17T01:02:00.726Z\",\"2021-10-17T01:02:02.126Z\",\"2021-10-17T01:02:03.926Z\",\"2021-10-17T01:02:04.426Z\",\"2021-10-17T01:02:05.626Z\",\"2021-10-17T01:02:07.426Z\",\"2021-10-17T01:02:08.826Z\",\"2021-10-17T01:02:10.426Z\",\"2021-10-17T01:02:10.926Z\",\"2021-10-17T01:02:11.826Z\",\"2021-10-17T01:02:14.226Z\",\"2021-10-17T01:02:15.126Z\",\"2021-10-17T01:02:15.726Z\",\"2021-10-17T01:02:16.426Z\",\"2021-10-17T01:02:17.526Z\",\"2021-10-17T01:02:21.826Z\",\"2021-10-17T01:02:22.526Z\",\"2021-10-17T01:02:25.726Z\",\"2021-10-17T01:02:26.526Z\",\"2021-10-17T01:02:27.626Z\",\"2021-10-17T01:02:28.326Z\",\"2021-10-17T01:02:35.126Z\",\"2021-10-17T01:02:36.826Z\",\"2021-10-17T01:02:37.626Z\",\"2021-10-17T01:02:39.526Z\",\"2021-10-17T01:02:42.226Z\",\"2021-10-17T01:02:44.626Z\",\"2021-10-17T01:02:47.826Z\",\"2021-10-17T01:02:49.126Z\",\"2021-10-17T01:02:49.726Z\",\"2021-10-17T01:02:50.826Z\",\"2021-10-17T01:02:53.126Z\",\"2021-10-17T01:02:53.726Z\",\"2021-10-17T01:02:55.026Z\",\"2021-10-17T01:02:56.126Z\",\"2021-10-17T01:02:56.926Z\",\"2021-10-17T01:02:57.326Z\",\"2021-10-17T01:02:57.926Z\",\"2021-10-17T01:02:58.826Z\",\"2021-10-17T01:02:59.926Z\",\"2021-10-17T01:03:00.826Z\",\"2021-10-17T01:03:02.026Z\",\"2021-10-17T01:03:02.326Z\",\"2021-10-17T01:03:04.026Z\",\"2021-10-17T01:03:05.326Z\",\"2021-10-17T01:03:05.726Z\",\"2021-10-17T01:03:06.326Z\",\"2021-10-17T01:03:06.826Z\",\"2021-10-17T01:03:07.426Z\",\"2021-10-17T01:03:08.426Z\",\"2021-10-17T01:03:10.326Z\",\"2021-10-17T01:03:12.826Z\",\"2021-10-17T01:03:13.426Z\",\"2021-10-17T01:03:15.926Z\",\"2021-10-17T01:03:17.526Z\",\"2021-10-17T01:03:18.026Z\",\"2021-10-17T01:03:19.226Z\",\"2021-10-17T01:03:19.826Z\",\"2021-10-17T01:03:21.626Z\",\"2021-10-17T01:03:26.326Z\",\"2021-10-17T01:03:27.226Z\",\"2021-10-17T01:03:30.226Z\",\"2021-10-17T01:03:33.926Z\",\"2021-10-17T01:03:36.826Z\",\"2021-10-17T01:03:38.626Z\",\"2021-10-17T01:03:45.326Z\",\"2021-10-17T01:05:17.126Z\",\"2021-10-17T01:05:17.326Z\"],\"y\":[7,6,1,7,2,2,1,2,7,2,2,3,8,5,14,15,37,1,5,9,1,17,8,3,32,9,31,11,5,4,2,12,5,10,1,14,1,1,7,1,8,3,3,2,7,13,1,14,18,18,39,10,5,32,12,22,11,13,10,12,17,4,19,15,24,18,10,9,6,2,2,2,1,10,10,11,3,6,3,14,22,8,9,12,9,4,3,12,1,1,16,11,9,35,5,1,5,9,14,4,10,20,8,9,2,2,9,5,3,1,24,5,1,6,5,8,4,20,12,8,2,17,1,20,2,7,3,11,2,18,8,9,1,13,2,11,1,6,10,4,2,1,9,24,5,10,13,3,6,32,1,20,3,3,3,7,17,7,5,9,10,6,12,4,12,2,10,7,36,11,15,3,11,4,13,13,24,5,3,9,2,11,17,7,5,20,12,7,12,2,16,1,9,8,3,17,5,8,10,6,2,24,15,4,5,7,9,2,14,35,9,5,4,8,5,23,5,4,9,35,1,12,1,3,2,13,4,4,10,1,6,2,6,4,14,5,3,33,1,6,9,2,1,3,21,39,7,33,56,13,23,7,18,22,6,4,18,13,4,12,6,11,13,51,15,3,2,13,23,17,9,8,13,3,26,21,21,5,25,13,14,5,14,10,4,15,15,13,7,17,20,6,5,3,5,5,30,10,11,4,1,7,21,20,6,19,19,7,6,5,2,16,7,4,3,6,5,2,2,3,3,2,1,1,2,7,2,3,3,1,3,3,2,5,4,5,1,2,8,4,3,1,7,11,3,2,1,8,13,5,7,27,33,22,34,10,7,12,2,1,5,8,5,3,2,1,3,3,3,1,2,10,1,2,4,3,4,3,3,2,4,2,1,4,3,3,1,2,3,14,2,12,4,2,1,15,6,3,2,8,8,7,5,4,1,3,3,3,3,3,1,2,3,3,4,4,1,2,4,2,1,1,2,3,2,6,2,6,6,1,3,2,6,14,3,9,14,7,3,4,3,1,3]}],                        {\"template\":{\"data\":{\"bar\":[{\"error_x\":{\"color\":\"#2a3f5f\"},\"error_y\":{\"color\":\"#2a3f5f\"},\"marker\":{\"line\":{\"color\":\"#E5ECF6\",\"width\":0.5},\"pattern\":{\"fillmode\":\"overlay\",\"size\":10,\"solidity\":0.2}},\"type\":\"bar\"}],\"barpolar\":[{\"marker\":{\"line\":{\"color\":\"#E5ECF6\",\"width\":0.5},\"pattern\":{\"fillmode\":\"overlay\",\"size\":10,\"solidity\":0.2}},\"type\":\"barpolar\"}],\"carpet\":[{\"aaxis\":{\"endlinecolor\":\"#2a3f5f\",\"gridcolor\":\"white\",\"linecolor\":\"white\",\"minorgridcolor\":\"white\",\"startlinecolor\":\"#2a3f5f\"},\"baxis\":{\"endlinecolor\":\"#2a3f5f\",\"gridcolor\":\"white\",\"linecolor\":\"white\",\"minorgridcolor\":\"white\",\"startlinecolor\":\"#2a3f5f\"},\"type\":\"carpet\"}],\"choropleth\":[{\"colorbar\":{\"outlinewidth\":0,\"ticks\":\"\"},\"type\":\"choropleth\"}],\"contour\":[{\"colorbar\":{\"outlinewidth\":0,\"ticks\":\"\"},\"colorscale\":[[0.0,\"#0d0887\"],[0.1111111111111111,\"#46039f\"],[0.2222222222222222,\"#7201a8\"],[0.3333333333333333,\"#9c179e\"],[0.4444444444444444,\"#bd3786\"],[0.5555555555555556,\"#d8576b\"],[0.6666666666666666,\"#ed7953\"],[0.7777777777777778,\"#fb9f3a\"],[0.8888888888888888,\"#fdca26\"],[1.0,\"#f0f921\"]],\"type\":\"contour\"}],\"contourcarpet\":[{\"colorbar\":{\"outlinewidth\":0,\"ticks\":\"\"},\"type\":\"contourcarpet\"}],\"heatmap\":[{\"colorbar\":{\"outlinewidth\":0,\"ticks\":\"\"},\"colorscale\":[[0.0,\"#0d0887\"],[0.1111111111111111,\"#46039f\"],[0.2222222222222222,\"#7201a8\"],[0.3333333333333333,\"#9c179e\"],[0.4444444444444444,\"#bd3786\"],[0.5555555555555556,\"#d8576b\"],[0.6666666666666666,\"#ed7953\"],[0.7777777777777778,\"#fb9f3a\"],[0.8888888888888888,\"#fdca26\"],[1.0,\"#f0f921\"]],\"type\":\"heatmap\"}],\"heatmapgl\":[{\"colorbar\":{\"outlinewidth\":0,\"ticks\":\"\"},\"colorscale\":[[0.0,\"#0d0887\"],[0.1111111111111111,\"#46039f\"],[0.2222222222222222,\"#7201a8\"],[0.3333333333333333,\"#9c179e\"],[0.4444444444444444,\"#bd3786\"],[0.5555555555555556,\"#d8576b\"],[0.6666666666666666,\"#ed7953\"],[0.7777777777777778,\"#fb9f3a\"],[0.8888888888888888,\"#fdca26\"],[1.0,\"#f0f921\"]],\"type\":\"heatmapgl\"}],\"histogram\":[{\"marker\":{\"pattern\":{\"fillmode\":\"overlay\",\"size\":10,\"solidity\":0.2}},\"type\":\"histogram\"}],\"histogram2d\":[{\"colorbar\":{\"outlinewidth\":0,\"ticks\":\"\"},\"colorscale\":[[0.0,\"#0d0887\"],[0.1111111111111111,\"#46039f\"],[0.2222222222222222,\"#7201a8\"],[0.3333333333333333,\"#9c179e\"],[0.4444444444444444,\"#bd3786\"],[0.5555555555555556,\"#d8576b\"],[0.6666666666666666,\"#ed7953\"],[0.7777777777777778,\"#fb9f3a\"],[0.8888888888888888,\"#fdca26\"],[1.0,\"#f0f921\"]],\"type\":\"histogram2d\"}],\"histogram2dcontour\":[{\"colorbar\":{\"outlinewidth\":0,\"ticks\":\"\"},\"colorscale\":[[0.0,\"#0d0887\"],[0.1111111111111111,\"#46039f\"],[0.2222222222222222,\"#7201a8\"],[0.3333333333333333,\"#9c179e\"],[0.4444444444444444,\"#bd3786\"],[0.5555555555555556,\"#d8576b\"],[0.6666666666666666,\"#ed7953\"],[0.7777777777777778,\"#fb9f3a\"],[0.8888888888888888,\"#fdca26\"],[1.0,\"#f0f921\"]],\"type\":\"histogram2dcontour\"}],\"mesh3d\":[{\"colorbar\":{\"outlinewidth\":0,\"ticks\":\"\"},\"type\":\"mesh3d\"}],\"parcoords\":[{\"line\":{\"colorbar\":{\"outlinewidth\":0,\"ticks\":\"\"}},\"type\":\"parcoords\"}],\"pie\":[{\"automargin\":true,\"type\":\"pie\"}],\"scatter\":[{\"marker\":{\"colorbar\":{\"outlinewidth\":0,\"ticks\":\"\"}},\"type\":\"scatter\"}],\"scatter3d\":[{\"line\":{\"colorbar\":{\"outlinewidth\":0,\"ticks\":\"\"}},\"marker\":{\"colorbar\":{\"outlinewidth\":0,\"ticks\":\"\"}},\"type\":\"scatter3d\"}],\"scattercarpet\":[{\"marker\":{\"colorbar\":{\"outlinewidth\":0,\"ticks\":\"\"}},\"type\":\"scattercarpet\"}],\"scattergeo\":[{\"marker\":{\"colorbar\":{\"outlinewidth\":0,\"ticks\":\"\"}},\"type\":\"scattergeo\"}],\"scattergl\":[{\"marker\":{\"colorbar\":{\"outlinewidth\":0,\"ticks\":\"\"}},\"type\":\"scattergl\"}],\"scattermapbox\":[{\"marker\":{\"colorbar\":{\"outlinewidth\":0,\"ticks\":\"\"}},\"type\":\"scattermapbox\"}],\"scatterpolar\":[{\"marker\":{\"colorbar\":{\"outlinewidth\":0,\"ticks\":\"\"}},\"type\":\"scatterpolar\"}],\"scatterpolargl\":[{\"marker\":{\"colorbar\":{\"outlinewidth\":0,\"ticks\":\"\"}},\"type\":\"scatterpolargl\"}],\"scatterternary\":[{\"marker\":{\"colorbar\":{\"outlinewidth\":0,\"ticks\":\"\"}},\"type\":\"scatterternary\"}],\"surface\":[{\"colorbar\":{\"outlinewidth\":0,\"ticks\":\"\"},\"colorscale\":[[0.0,\"#0d0887\"],[0.1111111111111111,\"#46039f\"],[0.2222222222222222,\"#7201a8\"],[0.3333333333333333,\"#9c179e\"],[0.4444444444444444,\"#bd3786\"],[0.5555555555555556,\"#d8576b\"],[0.6666666666666666,\"#ed7953\"],[0.7777777777777778,\"#fb9f3a\"],[0.8888888888888888,\"#fdca26\"],[1.0,\"#f0f921\"]],\"type\":\"surface\"}],\"table\":[{\"cells\":{\"fill\":{\"color\":\"#EBF0F8\"},\"line\":{\"color\":\"white\"}},\"header\":{\"fill\":{\"color\":\"#C8D4E3\"},\"line\":{\"color\":\"white\"}},\"type\":\"table\"}]},\"layout\":{\"annotationdefaults\":{\"arrowcolor\":\"#2a3f5f\",\"arrowhead\":0,\"arrowwidth\":1},\"autotypenumbers\":\"strict\",\"coloraxis\":{\"colorbar\":{\"outlinewidth\":0,\"ticks\":\"\"}},\"colorscale\":{\"diverging\":[[0,\"#8e0152\"],[0.1,\"#c51b7d\"],[0.2,\"#de77ae\"],[0.3,\"#f1b6da\"],[0.4,\"#fde0ef\"],[0.5,\"#f7f7f7\"],[0.6,\"#e6f5d0\"],[0.7,\"#b8e186\"],[0.8,\"#7fbc41\"],[0.9,\"#4d9221\"],[1,\"#276419\"]],\"sequential\":[[0.0,\"#0d0887\"],[0.1111111111111111,\"#46039f\"],[0.2222222222222222,\"#7201a8\"],[0.3333333333333333,\"#9c179e\"],[0.4444444444444444,\"#bd3786\"],[0.5555555555555556,\"#d8576b\"],[0.6666666666666666,\"#ed7953\"],[0.7777777777777778,\"#fb9f3a\"],[0.8888888888888888,\"#fdca26\"],[1.0,\"#f0f921\"]],\"sequentialminus\":[[0.0,\"#0d0887\"],[0.1111111111111111,\"#46039f\"],[0.2222222222222222,\"#7201a8\"],[0.3333333333333333,\"#9c179e\"],[0.4444444444444444,\"#bd3786\"],[0.5555555555555556,\"#d8576b\"],[0.6666666666666666,\"#ed7953\"],[0.7777777777777778,\"#fb9f3a\"],[0.8888888888888888,\"#fdca26\"],[1.0,\"#f0f921\"]]},\"colorway\":[\"#636efa\",\"#EF553B\",\"#00cc96\",\"#ab63fa\",\"#FFA15A\",\"#19d3f3\",\"#FF6692\",\"#B6E880\",\"#FF97FF\",\"#FECB52\"],\"font\":{\"color\":\"#2a3f5f\"},\"geo\":{\"bgcolor\":\"white\",\"lakecolor\":\"white\",\"landcolor\":\"#E5ECF6\",\"showlakes\":true,\"showland\":true,\"subunitcolor\":\"white\"},\"hoverlabel\":{\"align\":\"left\"},\"hovermode\":\"closest\",\"mapbox\":{\"style\":\"light\"},\"paper_bgcolor\":\"white\",\"plot_bgcolor\":\"#E5ECF6\",\"polar\":{\"angularaxis\":{\"gridcolor\":\"white\",\"linecolor\":\"white\",\"ticks\":\"\"},\"bgcolor\":\"#E5ECF6\",\"radialaxis\":{\"gridcolor\":\"white\",\"linecolor\":\"white\",\"ticks\":\"\"}},\"scene\":{\"xaxis\":{\"backgroundcolor\":\"#E5ECF6\",\"gridcolor\":\"white\",\"gridwidth\":2,\"linecolor\":\"white\",\"showbackground\":true,\"ticks\":\"\",\"zerolinecolor\":\"white\"},\"yaxis\":{\"backgroundcolor\":\"#E5ECF6\",\"gridcolor\":\"white\",\"gridwidth\":2,\"linecolor\":\"white\",\"showbackground\":true,\"ticks\":\"\",\"zerolinecolor\":\"white\"},\"zaxis\":{\"backgroundcolor\":\"#E5ECF6\",\"gridcolor\":\"white\",\"gridwidth\":2,\"linecolor\":\"white\",\"showbackground\":true,\"ticks\":\"\",\"zerolinecolor\":\"white\"}},\"shapedefaults\":{\"line\":{\"color\":\"#2a3f5f\"}},\"ternary\":{\"aaxis\":{\"gridcolor\":\"white\",\"linecolor\":\"white\",\"ticks\":\"\"},\"baxis\":{\"gridcolor\":\"white\",\"linecolor\":\"white\",\"ticks\":\"\"},\"bgcolor\":\"#E5ECF6\",\"caxis\":{\"gridcolor\":\"white\",\"linecolor\":\"white\",\"ticks\":\"\"}},\"title\":{\"x\":0.05},\"xaxis\":{\"automargin\":true,\"gridcolor\":\"white\",\"linecolor\":\"white\",\"ticks\":\"\",\"title\":{\"standoff\":15},\"zerolinecolor\":\"white\",\"zerolinewidth\":2},\"yaxis\":{\"automargin\":true,\"gridcolor\":\"white\",\"linecolor\":\"white\",\"ticks\":\"\",\"title\":{\"standoff\":15},\"zerolinecolor\":\"white\",\"zerolinewidth\":2}}}},                        {\"responsive\": true}                    ).then(function(){\n",
       "                            \n",
       "var gd = document.getElementById('dbf3a300-d560-4163-a777-510eb26c92da');\n",
       "var x = new MutationObserver(function (mutations, observer) {{\n",
       "        var display = window.getComputedStyle(gd).display;\n",
       "        if (!display || display === 'none') {{\n",
       "            console.log([gd, 'removed!']);\n",
       "            Plotly.purge(gd);\n",
       "            observer.disconnect();\n",
       "        }}\n",
       "}});\n",
       "\n",
       "// Listen for the removal of the full notebook cells\n",
       "var notebookContainer = gd.closest('#notebook-container');\n",
       "if (notebookContainer) {{\n",
       "    x.observe(notebookContainer, {childList: true});\n",
       "}}\n",
       "\n",
       "// Listen for the clearing of the current output cell\n",
       "var outputEl = gd.closest('.output');\n",
       "if (outputEl) {{\n",
       "    x.observe(outputEl, {childList: true});\n",
       "}}\n",
       "\n",
       "                        })                };                });            </script>        </div>"
      ]
     },
     "metadata": {},
     "output_type": "display_data"
    }
   ],
   "source": [
    "data = go.Scatter(x=speaker_data_df[\"startTime\"], y=speaker_data_df[\"wordCount\"] )\n",
    "\n",
    "go.Figure(data)"
   ]
  }
 ],
 "metadata": {
  "interpreter": {
   "hash": "d4d1e4263499bec80672ea0156c357c1ee493ec2b1c70f0acce89fc37c4a6abe"
  },
  "kernelspec": {
   "display_name": "Python 3.9.7 64-bit ('base': conda)",
   "name": "python3"
  },
  "language_info": {
   "codemirror_mode": {
    "name": "ipython",
    "version": 3
   },
   "file_extension": ".py",
   "mimetype": "text/x-python",
   "name": "python",
   "nbconvert_exporter": "python",
   "pygments_lexer": "ipython3",
   "version": "3.9.7"
  },
  "orig_nbformat": 4
 },
 "nbformat": 4,
 "nbformat_minor": 2
}
