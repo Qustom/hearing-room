{
 "cells": [
  {
   "cell_type": "markdown",
   "metadata": {},
   "source": [
    "# Sample Juypter Notebook"
   ]
  },
  {
   "cell_type": "markdown",
   "metadata": {},
   "source": [
    "This notebook uses the sample data from symbl.ai to construct analysis"
   ]
  },
  {
   "cell_type": "code",
   "execution_count": 20,
   "metadata": {},
   "outputs": [],
   "source": [
    "# imports\n",
    "import pandas as pd\n",
    "import json"
   ]
  },
  {
   "cell_type": "code",
   "execution_count": 30,
   "metadata": {},
   "outputs": [
    {
     "data": {
      "text/html": [
       "<div>\n",
       "<style scoped>\n",
       "    .dataframe tbody tr th:only-of-type {\n",
       "        vertical-align: middle;\n",
       "    }\n",
       "\n",
       "    .dataframe tbody tr th {\n",
       "        vertical-align: top;\n",
       "    }\n",
       "\n",
       "    .dataframe thead th {\n",
       "        text-align: right;\n",
       "    }\n",
       "</style>\n",
       "<table border=\"1\" class=\"dataframe\">\n",
       "  <thead>\n",
       "    <tr style=\"text-align: right;\">\n",
       "      <th></th>\n",
       "      <th>messageRefs</th>\n",
       "      <th>type</th>\n",
       "      <th>value</th>\n",
       "      <th>insightRefs</th>\n",
       "      <th>id</th>\n",
       "      <th>name</th>\n",
       "    </tr>\n",
       "  </thead>\n",
       "  <tbody>\n",
       "    <tr>\n",
       "      <th>0</th>\n",
       "      <td>[{'id': '6564679117701120', 'text': 'That's al...</td>\n",
       "      <td>vocabulary</td>\n",
       "      <td>Interviewing for a new job</td>\n",
       "      <td>[]</td>\n",
       "      <td>4756677603622912</td>\n",
       "      <td>Preparing</td>\n",
       "    </tr>\n",
       "    <tr>\n",
       "      <th>1</th>\n",
       "      <td>[{'id': '4776569274892288', 'text': 'And if yo...</td>\n",
       "      <td>vocabulary</td>\n",
       "      <td>Most common interview questions</td>\n",
       "      <td>[{'text': 'Did you have any trouble finding th...</td>\n",
       "      <td>4756677603622912</td>\n",
       "      <td>Preparing</td>\n",
       "    </tr>\n",
       "    <tr>\n",
       "      <th>2</th>\n",
       "      <td>[{'id': '6626693613617152', 'text': 'All you n...</td>\n",
       "      <td>vocabulary</td>\n",
       "      <td>Be polite and friendly</td>\n",
       "      <td>[]</td>\n",
       "      <td>4756677603622912</td>\n",
       "      <td>Preparing</td>\n",
       "    </tr>\n",
       "    <tr>\n",
       "      <th>3</th>\n",
       "      <td>[{'id': '5010445679198208', 'text': 'Kitchens,...</td>\n",
       "      <td>vocabulary</td>\n",
       "      <td>Practice</td>\n",
       "      <td>[]</td>\n",
       "      <td>4756677603622912</td>\n",
       "      <td>Preparing</td>\n",
       "    </tr>\n",
       "  </tbody>\n",
       "</table>\n",
       "</div>"
      ],
      "text/plain": [
       "                                         messageRefs        type  \\\n",
       "0  [{'id': '6564679117701120', 'text': 'That's al...  vocabulary   \n",
       "1  [{'id': '4776569274892288', 'text': 'And if yo...  vocabulary   \n",
       "2  [{'id': '6626693613617152', 'text': 'All you n...  vocabulary   \n",
       "3  [{'id': '5010445679198208', 'text': 'Kitchens,...  vocabulary   \n",
       "\n",
       "                             value  \\\n",
       "0       Interviewing for a new job   \n",
       "1  Most common interview questions   \n",
       "2           Be polite and friendly   \n",
       "3                         Practice   \n",
       "\n",
       "                                         insightRefs                id  \\\n",
       "0                                                 []  4756677603622912   \n",
       "1  [{'text': 'Did you have any trouble finding th...  4756677603622912   \n",
       "2                                                 []  4756677603622912   \n",
       "3                                                 []  4756677603622912   \n",
       "\n",
       "        name  \n",
       "0  Preparing  \n",
       "1  Preparing  \n",
       "2  Preparing  \n",
       "3  Preparing  "
      ]
     },
     "execution_count": 30,
     "metadata": {},
     "output_type": "execute_result"
    }
   ],
   "source": [
    "with open(\"../data/sample/track-phrases-async.json\", \"r\") as f:\n",
    "    json_data = json.loads(f.read())\n",
    "\n",
    "track_df = pd.json_normalize(json_data, \"matches\", [\"id\", \"name\"])\n",
    "\n",
    "track_df\n"
   ]
  }
 ],
 "metadata": {
  "interpreter": {
   "hash": "d4d1e4263499bec80672ea0156c357c1ee493ec2b1c70f0acce89fc37c4a6abe"
  },
  "kernelspec": {
   "display_name": "Python 3.9.7 64-bit ('base': conda)",
   "name": "python3"
  },
  "language_info": {
   "codemirror_mode": {
    "name": "ipython",
    "version": 3
   },
   "file_extension": ".py",
   "mimetype": "text/x-python",
   "name": "python",
   "nbconvert_exporter": "python",
   "pygments_lexer": "ipython3",
   "version": "3.9.7"
  },
  "orig_nbformat": 4
 },
 "nbformat": 4,
 "nbformat_minor": 2
}
